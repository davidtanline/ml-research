{
 "cells": [
  {
   "cell_type": "code",
   "execution_count": 1,
   "metadata": {},
   "outputs": [],
   "source": [
    "import warnings\n",
    "import pandas as pd\n",
    "warnings.filterwarnings('ignore')\n",
    "%config Completer.use_jedi = False"
   ]
  },
  {
   "cell_type": "code",
   "execution_count": 2,
   "metadata": {},
   "outputs": [],
   "source": [
    "df_train = pd.read_csv('emotions-dataset-for-nlp/train.txt', header = None, sep = ';', names = ['Input', 'Sentiment'], encoding = 'utf-8')\n",
    "df_test = pd.read_csv('emotions-dataset-for-nlp/test.txt', header = None, sep = ';', names = ['Input', 'Sentiment'], encoding = 'utf-8')\n",
    "df_val = pd.read_csv('emotions-dataset-for-nlp/val.txt', header = None, sep = ';', names = ['Input', 'Sentiment'], encoding = 'utf-8')"
   ]
  },
  {
   "cell_type": "code",
   "execution_count": 3,
   "metadata": {},
   "outputs": [
    {
     "data": {
      "text/html": [
       "<div>\n",
       "<style scoped>\n",
       "    .dataframe tbody tr th:only-of-type {\n",
       "        vertical-align: middle;\n",
       "    }\n",
       "\n",
       "    .dataframe tbody tr th {\n",
       "        vertical-align: top;\n",
       "    }\n",
       "\n",
       "    .dataframe thead th {\n",
       "        text-align: right;\n",
       "    }\n",
       "</style>\n",
       "<table border=\"1\" class=\"dataframe\">\n",
       "  <thead>\n",
       "    <tr style=\"text-align: right;\">\n",
       "      <th></th>\n",
       "      <th>Input</th>\n",
       "      <th>Sentiment</th>\n",
       "    </tr>\n",
       "  </thead>\n",
       "  <tbody>\n",
       "    <tr>\n",
       "      <th>0</th>\n",
       "      <td>i didnt feel humiliated</td>\n",
       "      <td>sadness</td>\n",
       "    </tr>\n",
       "    <tr>\n",
       "      <th>1</th>\n",
       "      <td>i can go from feeling so hopeless to so damned...</td>\n",
       "      <td>sadness</td>\n",
       "    </tr>\n",
       "    <tr>\n",
       "      <th>2</th>\n",
       "      <td>im grabbing a minute to post i feel greedy wrong</td>\n",
       "      <td>anger</td>\n",
       "    </tr>\n",
       "    <tr>\n",
       "      <th>3</th>\n",
       "      <td>i am ever feeling nostalgic about the fireplac...</td>\n",
       "      <td>love</td>\n",
       "    </tr>\n",
       "    <tr>\n",
       "      <th>4</th>\n",
       "      <td>i am feeling grouchy</td>\n",
       "      <td>anger</td>\n",
       "    </tr>\n",
       "    <tr>\n",
       "      <th>...</th>\n",
       "      <td>...</td>\n",
       "      <td>...</td>\n",
       "    </tr>\n",
       "    <tr>\n",
       "      <th>1995</th>\n",
       "      <td>im having ssa examination tomorrow in the morn...</td>\n",
       "      <td>sadness</td>\n",
       "    </tr>\n",
       "    <tr>\n",
       "      <th>1996</th>\n",
       "      <td>i constantly worry about their fight against n...</td>\n",
       "      <td>joy</td>\n",
       "    </tr>\n",
       "    <tr>\n",
       "      <th>1997</th>\n",
       "      <td>i feel its important to share this info for th...</td>\n",
       "      <td>joy</td>\n",
       "    </tr>\n",
       "    <tr>\n",
       "      <th>1998</th>\n",
       "      <td>i truly feel that if you are passionate enough...</td>\n",
       "      <td>joy</td>\n",
       "    </tr>\n",
       "    <tr>\n",
       "      <th>1999</th>\n",
       "      <td>i feel like i just wanna buy any cute make up ...</td>\n",
       "      <td>joy</td>\n",
       "    </tr>\n",
       "  </tbody>\n",
       "</table>\n",
       "<p>20000 rows × 2 columns</p>\n",
       "</div>"
      ],
      "text/plain": [
       "                                                  Input Sentiment\n",
       "0                               i didnt feel humiliated   sadness\n",
       "1     i can go from feeling so hopeless to so damned...   sadness\n",
       "2      im grabbing a minute to post i feel greedy wrong     anger\n",
       "3     i am ever feeling nostalgic about the fireplac...      love\n",
       "4                                  i am feeling grouchy     anger\n",
       "...                                                 ...       ...\n",
       "1995  im having ssa examination tomorrow in the morn...   sadness\n",
       "1996  i constantly worry about their fight against n...       joy\n",
       "1997  i feel its important to share this info for th...       joy\n",
       "1998  i truly feel that if you are passionate enough...       joy\n",
       "1999  i feel like i just wanna buy any cute make up ...       joy\n",
       "\n",
       "[20000 rows x 2 columns]"
      ]
     },
     "execution_count": 3,
     "metadata": {},
     "output_type": "execute_result"
    }
   ],
   "source": [
    "df_full = pd.concat([df_train, df_test, df_val], axis = 0)\n",
    "df_full"
   ]
  },
  {
   "cell_type": "code",
   "execution_count": 4,
   "metadata": {},
   "outputs": [],
   "source": [
    "import text_hammer as th"
   ]
  },
  {
   "cell_type": "code",
   "execution_count": 5,
   "metadata": {},
   "outputs": [
    {
     "name": "stdout",
     "output_type": "stream",
     "text": [
      "CPU times: user 129 ms, sys: 14.2 ms, total: 143 ms\n",
      "Wall time: 272 ms\n"
     ]
    },
    {
     "name": "stderr",
     "output_type": "stream",
     "text": [
      "[nltk_data] Downloading package omw-1.4 to\n",
      "[nltk_data]     /Users/ekanshgupta/nltk_data...\n",
      "[nltk_data]   Package omw-1.4 is already up-to-date!\n"
     ]
    }
   ],
   "source": [
    "%%time \n",
    "\n",
    "import text_preprocessing as tp \n",
    "import text_hammer as th\n",
    "from tqdm.notebook import tqdm_notebook\n",
    "tqdm_notebook.pandas()\n",
    "\n",
    "def text_preprocessing(df, col_name):\n",
    "    column = col_name\n",
    "    df[column] = df[column].progress_apply(lambda x: tp.expand_contraction(x))\n",
    "    df[column] = df[column].progress_apply(lambda x: tp.remove_email(x))\n",
    "    df[column] = df[column].progress_apply(lambda x: tp.remove_url(x))\n",
    "    df[column] = df[column].progress_apply(lambda x: tp.remove_special_character(x))\n",
    "    df[column] = df[column].progress_apply(lambda x: tp.normalize_unicode(x))\n",
    "    df[column] = df[column].progress_apply(lambda x: tp.remove_stopword(x))\n",
    "    df[column] = df[column].progress_apply(lambda x: tp.stem_word(x))\n",
    "    \n",
    "    return df"
   ]
  },
  {
   "cell_type": "code",
   "execution_count": 6,
   "metadata": {},
   "outputs": [],
   "source": [
    "import text_preprocessing as tp"
   ]
  },
  {
   "cell_type": "code",
   "execution_count": 7,
   "metadata": {},
   "outputs": [
    {
     "data": {
      "application/vnd.jupyter.widget-view+json": {
       "model_id": "5c9ffc0da18f4af897e08850d0464fbd",
       "version_major": 2,
       "version_minor": 0
      },
      "text/plain": [
       "  0%|          | 0/20000 [00:00<?, ?it/s]"
      ]
     },
     "metadata": {},
     "output_type": "display_data"
    },
    {
     "data": {
      "application/vnd.jupyter.widget-view+json": {
       "model_id": "60f710217d4d4d48a20d43c0d3ad1d3a",
       "version_major": 2,
       "version_minor": 0
      },
      "text/plain": [
       "  0%|          | 0/20000 [00:00<?, ?it/s]"
      ]
     },
     "metadata": {},
     "output_type": "display_data"
    },
    {
     "data": {
      "application/vnd.jupyter.widget-view+json": {
       "model_id": "9eda3a5e26fa454fae2e4a3196904733",
       "version_major": 2,
       "version_minor": 0
      },
      "text/plain": [
       "  0%|          | 0/20000 [00:00<?, ?it/s]"
      ]
     },
     "metadata": {},
     "output_type": "display_data"
    },
    {
     "data": {
      "application/vnd.jupyter.widget-view+json": {
       "model_id": "fc0d4c850d784b3980b70754fc1378b5",
       "version_major": 2,
       "version_minor": 0
      },
      "text/plain": [
       "  0%|          | 0/20000 [00:00<?, ?it/s]"
      ]
     },
     "metadata": {},
     "output_type": "display_data"
    },
    {
     "data": {
      "application/vnd.jupyter.widget-view+json": {
       "model_id": "069a546105f0432c8133f9339e77f599",
       "version_major": 2,
       "version_minor": 0
      },
      "text/plain": [
       "  0%|          | 0/20000 [00:00<?, ?it/s]"
      ]
     },
     "metadata": {},
     "output_type": "display_data"
    },
    {
     "data": {
      "application/vnd.jupyter.widget-view+json": {
       "model_id": "f7f8de60cd9841349a7d1933fec0fa31",
       "version_major": 2,
       "version_minor": 0
      },
      "text/plain": [
       "  0%|          | 0/20000 [00:00<?, ?it/s]"
      ]
     },
     "metadata": {},
     "output_type": "display_data"
    },
    {
     "data": {
      "application/vnd.jupyter.widget-view+json": {
       "model_id": "4c795e1e9b354e8780981f99ab000f19",
       "version_major": 2,
       "version_minor": 0
      },
      "text/plain": [
       "  0%|          | 0/20000 [00:00<?, ?it/s]"
      ]
     },
     "metadata": {},
     "output_type": "display_data"
    }
   ],
   "source": [
    "df_cleaned = text_preprocessing(df_full, 'Input')"
   ]
  },
  {
   "cell_type": "code",
   "execution_count": 8,
   "metadata": {},
   "outputs": [
    {
     "data": {
      "text/html": [
       "<div>\n",
       "<style scoped>\n",
       "    .dataframe tbody tr th:only-of-type {\n",
       "        vertical-align: middle;\n",
       "    }\n",
       "\n",
       "    .dataframe tbody tr th {\n",
       "        vertical-align: top;\n",
       "    }\n",
       "\n",
       "    .dataframe thead th {\n",
       "        text-align: right;\n",
       "    }\n",
       "</style>\n",
       "<table border=\"1\" class=\"dataframe\">\n",
       "  <thead>\n",
       "    <tr style=\"text-align: right;\">\n",
       "      <th></th>\n",
       "      <th>Input</th>\n",
       "      <th>Sentiment</th>\n",
       "    </tr>\n",
       "  </thead>\n",
       "  <tbody>\n",
       "    <tr>\n",
       "      <th>0</th>\n",
       "      <td>[feel, humili]</td>\n",
       "      <td>sadness</td>\n",
       "    </tr>\n",
       "    <tr>\n",
       "      <th>1</th>\n",
       "      <td>[go, feel, hopeless, damn, hope, around, someo...</td>\n",
       "      <td>sadness</td>\n",
       "    </tr>\n",
       "    <tr>\n",
       "      <th>2</th>\n",
       "      <td>[grab, minut, post, feel, greedi, wrong]</td>\n",
       "      <td>anger</td>\n",
       "    </tr>\n",
       "    <tr>\n",
       "      <th>3</th>\n",
       "      <td>[ever, feel, nostalg, fireplac, know, still, p...</td>\n",
       "      <td>love</td>\n",
       "    </tr>\n",
       "    <tr>\n",
       "      <th>4</th>\n",
       "      <td>[feel, grouchi]</td>\n",
       "      <td>anger</td>\n",
       "    </tr>\n",
       "  </tbody>\n",
       "</table>\n",
       "</div>"
      ],
      "text/plain": [
       "                                               Input Sentiment\n",
       "0                                     [feel, humili]   sadness\n",
       "1  [go, feel, hopeless, damn, hope, around, someo...   sadness\n",
       "2           [grab, minut, post, feel, greedi, wrong]     anger\n",
       "3  [ever, feel, nostalg, fireplac, know, still, p...      love\n",
       "4                                    [feel, grouchi]     anger"
      ]
     },
     "execution_count": 8,
     "metadata": {},
     "output_type": "execute_result"
    }
   ],
   "source": [
    "df_cleaned.head()"
   ]
  },
  {
   "cell_type": "code",
   "execution_count": 9,
   "metadata": {},
   "outputs": [],
   "source": [
    "df_cleaned = df_cleaned.copy()"
   ]
  },
  {
   "cell_type": "code",
   "execution_count": 10,
   "metadata": {},
   "outputs": [],
   "source": [
    "df_cleaned['num_words'] = df_cleaned.Input.apply(lambda x: len(x))"
   ]
  },
  {
   "cell_type": "code",
   "execution_count": 11,
   "metadata": {},
   "outputs": [
    {
     "data": {
      "text/plain": [
       "0       4\n",
       "1       4\n",
       "2       0\n",
       "3       3\n",
       "4       0\n",
       "       ..\n",
       "1995    4\n",
       "1996    2\n",
       "1997    2\n",
       "1998    2\n",
       "1999    2\n",
       "Length: 20000, dtype: int8"
      ]
     },
     "execution_count": 11,
     "metadata": {},
     "output_type": "execute_result"
    }
   ],
   "source": [
    "df_cleaned['Sentiment'] = df_cleaned.Sentiment.astype('category')\n",
    "df_cleaned.Sentiment.cat.codes"
   ]
  },
  {
   "cell_type": "code",
   "execution_count": 19,
   "metadata": {},
   "outputs": [
    {
     "data": {
      "text/plain": [
       "['sadness', 'anger', 'love', 'surprise', 'fear', 'joy']\n",
       "Categories (6, object): ['anger', 'fear', 'joy', 'love', 'sadness', 'surprise']"
      ]
     },
     "execution_count": 19,
     "metadata": {},
     "output_type": "execute_result"
    }
   ],
   "source": [
    "df_cleaned.Sentiment.unique()"
   ]
  },
  {
   "cell_type": "code",
   "execution_count": 20,
   "metadata": {},
   "outputs": [
    {
     "data": {
      "text/plain": [
       "0       sadness\n",
       "1       sadness\n",
       "2         anger\n",
       "3          love\n",
       "4         anger\n",
       "         ...   \n",
       "1995    sadness\n",
       "1996        joy\n",
       "1997        joy\n",
       "1998        joy\n",
       "1999        joy\n",
       "Name: Sentiment, Length: 20000, dtype: category\n",
       "Categories (6, object): ['anger', 'fear', 'joy', 'love', 'sadness', 'surprise']"
      ]
     },
     "execution_count": 20,
     "metadata": {},
     "output_type": "execute_result"
    }
   ],
   "source": [
    "df_cleaned.Sentiment"
   ]
  },
  {
   "cell_type": "code",
   "execution_count": 21,
   "metadata": {},
   "outputs": [],
   "source": [
    "encoded_dict  = {'anger': 0, 'fear': 1, 'joy': 2, 'love': 3, 'sadness': 4, 'surprise': 5}"
   ]
  },
  {
   "cell_type": "code",
   "execution_count": 22,
   "metadata": {},
   "outputs": [
    {
     "data": {
      "text/plain": [
       "0       4\n",
       "1       4\n",
       "2       0\n",
       "3       3\n",
       "4       0\n",
       "       ..\n",
       "1995    4\n",
       "1996    2\n",
       "1997    2\n",
       "1998    2\n",
       "1999    2\n",
       "Name: Sentiment, Length: 20000, dtype: int8"
      ]
     },
     "execution_count": 22,
     "metadata": {},
     "output_type": "execute_result"
    }
   ],
   "source": [
    "df_cleaned['Sentiment'] = df_cleaned.Sentiment.cat.codes\n",
    "df_cleaned.Sentiment"
   ]
  },
  {
   "cell_type": "code",
   "execution_count": 23,
   "metadata": {},
   "outputs": [
    {
     "data": {
      "text/html": [
       "<div>\n",
       "<style scoped>\n",
       "    .dataframe tbody tr th:only-of-type {\n",
       "        vertical-align: middle;\n",
       "    }\n",
       "\n",
       "    .dataframe tbody tr th {\n",
       "        vertical-align: top;\n",
       "    }\n",
       "\n",
       "    .dataframe thead th {\n",
       "        text-align: right;\n",
       "    }\n",
       "</style>\n",
       "<table border=\"1\" class=\"dataframe\">\n",
       "  <thead>\n",
       "    <tr style=\"text-align: right;\">\n",
       "      <th></th>\n",
       "      <th>Input</th>\n",
       "      <th>Sentiment</th>\n",
       "      <th>num_words</th>\n",
       "    </tr>\n",
       "  </thead>\n",
       "  <tbody>\n",
       "    <tr>\n",
       "      <th>0</th>\n",
       "      <td>[feel, humili]</td>\n",
       "      <td>4</td>\n",
       "      <td>2</td>\n",
       "    </tr>\n",
       "    <tr>\n",
       "      <th>1</th>\n",
       "      <td>[go, feel, hopeless, damn, hope, around, someo...</td>\n",
       "      <td>4</td>\n",
       "      <td>9</td>\n",
       "    </tr>\n",
       "    <tr>\n",
       "      <th>2</th>\n",
       "      <td>[grab, minut, post, feel, greedi, wrong]</td>\n",
       "      <td>0</td>\n",
       "      <td>6</td>\n",
       "    </tr>\n",
       "    <tr>\n",
       "      <th>3</th>\n",
       "      <td>[ever, feel, nostalg, fireplac, know, still, p...</td>\n",
       "      <td>3</td>\n",
       "      <td>7</td>\n",
       "    </tr>\n",
       "    <tr>\n",
       "      <th>4</th>\n",
       "      <td>[feel, grouchi]</td>\n",
       "      <td>0</td>\n",
       "      <td>2</td>\n",
       "    </tr>\n",
       "  </tbody>\n",
       "</table>\n",
       "</div>"
      ],
      "text/plain": [
       "                                               Input  Sentiment  num_words\n",
       "0                                     [feel, humili]          4          2\n",
       "1  [go, feel, hopeless, damn, hope, around, someo...          4          9\n",
       "2           [grab, minut, post, feel, greedi, wrong]          0          6\n",
       "3  [ever, feel, nostalg, fireplac, know, still, p...          3          7\n",
       "4                                    [feel, grouchi]          0          2"
      ]
     },
     "execution_count": 23,
     "metadata": {},
     "output_type": "execute_result"
    }
   ],
   "source": [
    "df_cleaned.head()"
   ]
  },
  {
   "cell_type": "code",
   "execution_count": 24,
   "metadata": {},
   "outputs": [
    {
     "data": {
      "text/plain": [
       "35"
      ]
     },
     "execution_count": 24,
     "metadata": {},
     "output_type": "execute_result"
    }
   ],
   "source": [
    "df_cleaned.num_words.max()"
   ]
  },
  {
   "cell_type": "code",
   "execution_count": 25,
   "metadata": {},
   "outputs": [],
   "source": [
    "from sklearn.model_selection import train_test_split\n",
    "data_train, data_test = train_test_split(df_cleaned, test_size=0.3, random_state=42, stratify=df_cleaned.Sentiment)"
   ]
  },
  {
   "cell_type": "code",
   "execution_count": 26,
   "metadata": {},
   "outputs": [
    {
     "data": {
      "text/plain": [
       "7181                               [feel, sure, go, busi]\n",
       "9479                 [feel, uptight, wonder, know, right]\n",
       "812     [allow, eat, food, know, bother, sinc, feel, a...\n",
       "8670    [happi, progress, also, begin, feel, littl, ho...\n",
       "1014    [alon, apart, get, overwhelm, feel, like, watc...\n",
       "Name: Input, dtype: object"
      ]
     },
     "execution_count": 26,
     "metadata": {},
     "output_type": "execute_result"
    }
   ],
   "source": [
    "data_train.head().Input"
   ]
  },
  {
   "cell_type": "code",
   "execution_count": 27,
   "metadata": {},
   "outputs": [
    {
     "data": {
      "text/plain": [
       "(14000, 3)"
      ]
     },
     "execution_count": 27,
     "metadata": {},
     "output_type": "execute_result"
    }
   ],
   "source": [
    "data_train.shape"
   ]
  },
  {
   "cell_type": "code",
   "execution_count": 28,
   "metadata": {},
   "outputs": [
    {
     "data": {
      "text/plain": [
       "(6000, 3)"
      ]
     },
     "execution_count": 28,
     "metadata": {},
     "output_type": "execute_result"
    }
   ],
   "source": [
    "data_test.shape"
   ]
  },
  {
   "cell_type": "code",
   "execution_count": 29,
   "metadata": {},
   "outputs": [
    {
     "data": {
      "text/html": [
       "<div>\n",
       "<style scoped>\n",
       "    .dataframe tbody tr th:only-of-type {\n",
       "        vertical-align: middle;\n",
       "    }\n",
       "\n",
       "    .dataframe tbody tr th {\n",
       "        vertical-align: top;\n",
       "    }\n",
       "\n",
       "    .dataframe thead th {\n",
       "        text-align: right;\n",
       "    }\n",
       "</style>\n",
       "<table border=\"1\" class=\"dataframe\">\n",
       "  <thead>\n",
       "    <tr style=\"text-align: right;\">\n",
       "      <th></th>\n",
       "      <th>Input</th>\n",
       "      <th>Sentiment</th>\n",
       "      <th>num_words</th>\n",
       "    </tr>\n",
       "  </thead>\n",
       "  <tbody>\n",
       "    <tr>\n",
       "      <th>7181</th>\n",
       "      <td>[feel, sure, go, busi]</td>\n",
       "      <td>2</td>\n",
       "      <td>4</td>\n",
       "    </tr>\n",
       "    <tr>\n",
       "      <th>9479</th>\n",
       "      <td>[feel, uptight, wonder, know, right]</td>\n",
       "      <td>1</td>\n",
       "      <td>5</td>\n",
       "    </tr>\n",
       "    <tr>\n",
       "      <th>812</th>\n",
       "      <td>[allow, eat, food, know, bother, sinc, feel, a...</td>\n",
       "      <td>4</td>\n",
       "      <td>16</td>\n",
       "    </tr>\n",
       "    <tr>\n",
       "      <th>8670</th>\n",
       "      <td>[happi, progress, also, begin, feel, littl, ho...</td>\n",
       "      <td>4</td>\n",
       "      <td>7</td>\n",
       "    </tr>\n",
       "    <tr>\n",
       "      <th>1014</th>\n",
       "      <td>[alon, apart, get, overwhelm, feel, like, watc...</td>\n",
       "      <td>4</td>\n",
       "      <td>8</td>\n",
       "    </tr>\n",
       "  </tbody>\n",
       "</table>\n",
       "</div>"
      ],
      "text/plain": [
       "                                                  Input  Sentiment  num_words\n",
       "7181                             [feel, sure, go, busi]          2          4\n",
       "9479               [feel, uptight, wonder, know, right]          1          5\n",
       "812   [allow, eat, food, know, bother, sinc, feel, a...          4         16\n",
       "8670  [happi, progress, also, begin, feel, littl, ho...          4          7\n",
       "1014  [alon, apart, get, overwhelm, feel, like, watc...          4          8"
      ]
     },
     "execution_count": 29,
     "metadata": {},
     "output_type": "execute_result"
    }
   ],
   "source": [
    "data_train.head()"
   ]
  },
  {
   "cell_type": "code",
   "execution_count": 30,
   "metadata": {},
   "outputs": [],
   "source": [
    "from tensorflow.keras.utils import to_categorical"
   ]
  },
  {
   "cell_type": "code",
   "execution_count": 33,
   "metadata": {},
   "outputs": [
    {
     "data": {
      "text/plain": [
       "array([[0., 0., 1., 0., 0., 0.],\n",
       "       [0., 1., 0., 0., 0., 0.],\n",
       "       [0., 0., 0., 0., 1., 0.],\n",
       "       ...,\n",
       "       [1., 0., 0., 0., 0., 0.],\n",
       "       [0., 0., 0., 0., 1., 0.],\n",
       "       [0., 0., 0., 0., 0., 1.]], dtype=float32)"
      ]
     },
     "execution_count": 33,
     "metadata": {},
     "output_type": "execute_result"
    }
   ],
   "source": [
    "to_categorical(data_train.Sentiment)"
   ]
  },
  {
   "cell_type": "code",
   "execution_count": 34,
   "metadata": {},
   "outputs": [
    {
     "name": "stderr",
     "output_type": "stream",
     "text": [
      "Some layers from the model checkpoint at bert-base-cased were not used when initializing TFBertModel: ['mlm___cls', 'nsp___cls']\n",
      "- This IS expected if you are initializing TFBertModel from the checkpoint of a model trained on another task or with another architecture (e.g. initializing a BertForSequenceClassification model from a BertForPreTraining model).\n",
      "- This IS NOT expected if you are initializing TFBertModel from the checkpoint of a model that you expect to be exactly identical (initializing a BertForSequenceClassification model from a BertForSequenceClassification model).\n",
      "All the layers of TFBertModel were initialized from the model checkpoint at bert-base-cased.\n",
      "If your task is similar to the task the model of the checkpoint was trained on, you can already use TFBertModel for predictions without further training.\n"
     ]
    }
   ],
   "source": [
    "from transformers import AutoTokenizer, TFBertModel\n",
    "tokenizer = AutoTokenizer.from_pretrained('bert-base-cased')\n",
    "bert = TFBertModel.from_pretrained('bert-base-cased')"
   ]
  },
  {
   "cell_type": "code",
   "execution_count": 35,
   "metadata": {},
   "outputs": [],
   "source": [
    "tokenizer.save_pretrained('bert-tokenizer')\n",
    "bert.save_pretrained('bert-model')"
   ]
  },
  {
   "cell_type": "code",
   "execution_count": 36,
   "metadata": {},
   "outputs": [
    {
     "data": {
      "text/plain": [
       "'/Users/ekanshgupta/StockSentiment/bert-model.zip'"
      ]
     },
     "execution_count": 36,
     "metadata": {},
     "output_type": "execute_result"
    }
   ],
   "source": [
    "import shutil\n",
    "shutil.make_archive('bert-tokenizer', 'zip', 'bert-tokenizer')\n",
    "shutil.make_archive('bert-model', 'zip', 'bert-model')"
   ]
  },
  {
   "cell_type": "code",
   "execution_count": 37,
   "metadata": {},
   "outputs": [
    {
     "name": "stderr",
     "output_type": "stream",
     "text": [
      "Some layers from the model checkpoint at distilbert-base-uncased were not used when initializing TFDistilBertModel: ['activation_13', 'vocab_layer_norm', 'vocab_projector', 'vocab_transform']\n",
      "- This IS expected if you are initializing TFDistilBertModel from the checkpoint of a model trained on another task or with another architecture (e.g. initializing a BertForSequenceClassification model from a BertForPreTraining model).\n",
      "- This IS NOT expected if you are initializing TFDistilBertModel from the checkpoint of a model that you expect to be exactly identical (initializing a BertForSequenceClassification model from a BertForSequenceClassification model).\n",
      "All the layers of TFDistilBertModel were initialized from the model checkpoint at distilbert-base-uncased.\n",
      "If your task is similar to the task the model of the checkpoint was trained on, you can already use TFDistilBertModel for predictions without further training.\n"
     ]
    }
   ],
   "source": [
    "from transformers import BertTokenizer, TFBertModel, BertConfig, TFDistilBertModel, DistilBertTokenizer, DistilBertConfig\n",
    "dbert_model = TFDistilBertModel.from_pretrained('distilbert-base-uncased')"
   ]
  },
  {
   "cell_type": "code",
   "execution_count": 38,
   "metadata": {},
   "outputs": [],
   "source": [
    "x_train = tokenizer(\n",
    "    text=data_train.Input.tolist(),\n",
    "    is_split_into_words=True,\n",
    "    add_special_tokens=True,\n",
    "    max_length=36,\n",
    "    truncation=True,\n",
    "    padding=True,\n",
    "    return_tensors='tf',\n",
    "    return_token_type_ids=False,\n",
    "    return_attention_mask=True,\n",
    "    verbose=True\n",
    ")\n",
    "x_test = tokenizer(\n",
    "    text=data_test.Input.tolist(),\n",
    "    is_split_into_words=True,\n",
    "    add_special_tokens=True,\n",
    "    max_length=36,\n",
    "    truncation=True,\n",
    "    padding=True,\n",
    "    return_tensors='tf',\n",
    "    return_token_type_ids=False,\n",
    "    return_attention_mask=True,\n",
    "    verbose=True\n",
    ")"
   ]
  },
  {
   "cell_type": "code",
   "execution_count": 39,
   "metadata": {},
   "outputs": [
    {
     "data": {
      "text/plain": [
       "{'input_ids': <tf.Tensor: shape=(6000, 36), dtype=int32, numpy=\n",
       "array([[ 101, 1474, 1271, ...,    0,    0,    0],\n",
       "       [ 101, 1631, 1176, ..., 1403,  102,    0],\n",
       "       [ 101, 2647, 1631, ...,    0,    0,    0],\n",
       "       ...,\n",
       "       [ 101, 1631, 2393, ...,    0,    0,    0],\n",
       "       [ 101, 1180, 1631, ...,    0,    0,    0],\n",
       "       [ 101, 5178, 5427, ...,    0,    0,    0]], dtype=int32)>, 'attention_mask': <tf.Tensor: shape=(6000, 36), dtype=int32, numpy=\n",
       "array([[1, 1, 1, ..., 0, 0, 0],\n",
       "       [1, 1, 1, ..., 1, 1, 0],\n",
       "       [1, 1, 1, ..., 0, 0, 0],\n",
       "       ...,\n",
       "       [1, 1, 1, ..., 0, 0, 0],\n",
       "       [1, 1, 1, ..., 0, 0, 0],\n",
       "       [1, 1, 1, ..., 0, 0, 0]], dtype=int32)>}"
      ]
     },
     "execution_count": 39,
     "metadata": {},
     "output_type": "execute_result"
    }
   ],
   "source": [
    "x_train\n",
    "x_test"
   ]
  },
  {
   "cell_type": "code",
   "execution_count": 40,
   "metadata": {},
   "outputs": [],
   "source": [
    "from tensorflow.keras.optimizers import Adam\n",
    "from tensorflow.keras.callbacks import EarlyStopping\n",
    "from tensorflow.keras.initializers import TruncatedNormal\n",
    "from tensorflow.keras.losses import CategoricalCrossentropy\n",
    "from tensorflow.keras.metrics import CategoricalAccuracy\n",
    "from tensorflow.keras.utils import to_categorical"
   ]
  },
  {
   "cell_type": "code",
   "execution_count": 41,
   "metadata": {},
   "outputs": [
    {
     "data": {
      "text/plain": [
       "[]"
      ]
     },
     "execution_count": 41,
     "metadata": {},
     "output_type": "execute_result"
    }
   ],
   "source": [
    "import tensorflow as tf\n",
    "tf.config.experimental.list_physical_devices('GPU')\n"
   ]
  },
  {
   "cell_type": "code",
   "execution_count": 42,
   "metadata": {},
   "outputs": [],
   "source": [
    "max_len = 36\n",
    "import tensorflow as tf\n",
    "from tensorflow.keras.layers import Input, Dense\n",
    "   \n",
    "input_ids = Input(shape=(max_len,), dtype=tf.int32, name=\"input_ids\")\n",
    "input_mask = Input(shape=(max_len,), dtype=tf.int32, name=\"attention_mask\")\n",
    "# embeddings = dbert_model(input_ids,attention_mask = input_mask)[0]\n",
    "\n",
    "\n",
    "embeddings = bert(input_ids,attention_mask = input_mask)[0] #(0 is the last hidden states,1 means pooler_output)\n",
    "out = tf.keras.layers.GlobalMaxPool1D()(embeddings)\n",
    "out = Dense(128, activation='relu')(out)\n",
    "out = tf.keras.layers.Dropout(0.1)(out)\n",
    "out = Dense(32,activation='relu')(out)\n",
    "\n",
    "y = Dense(6,activation='sigmoid')(out)\n",
    "\n",
    "model = tf.keras.Model(inputs=[input_ids, input_mask], outputs=y)\n",
    "model.layers[2].trainable = True"
   ]
  },
  {
   "cell_type": "code",
   "execution_count": 43,
   "metadata": {},
   "outputs": [
    {
     "name": "stdout",
     "output_type": "stream",
     "text": [
      "Model: \"model\"\n",
      "__________________________________________________________________________________________________\n",
      " Layer (type)                   Output Shape         Param #     Connected to                     \n",
      "==================================================================================================\n",
      " input_ids (InputLayer)         [(None, 36)]         0           []                               \n",
      "                                                                                                  \n",
      " attention_mask (InputLayer)    [(None, 36)]         0           []                               \n",
      "                                                                                                  \n",
      " tf_bert_model (TFBertModel)    TFBaseModelOutputWi  108310272   ['input_ids[0][0]',              \n",
      "                                thPoolingAndCrossAt               'attention_mask[0][0]']         \n",
      "                                tentions(last_hidde                                               \n",
      "                                n_state=(None, 36,                                                \n",
      "                                768),                                                             \n",
      "                                 pooler_output=(Non                                               \n",
      "                                e, 768),                                                          \n",
      "                                 past_key_values=No                                               \n",
      "                                ne, hidden_states=N                                               \n",
      "                                one, attentions=Non                                               \n",
      "                                e, cross_attentions                                               \n",
      "                                =None)                                                            \n",
      "                                                                                                  \n",
      " global_max_pooling1d (GlobalMa  (None, 768)         0           ['tf_bert_model[0][0]']          \n",
      " xPooling1D)                                                                                      \n",
      "                                                                                                  \n",
      " dense (Dense)                  (None, 128)          98432       ['global_max_pooling1d[0][0]']   \n",
      "                                                                                                  \n",
      " dropout_56 (Dropout)           (None, 128)          0           ['dense[0][0]']                  \n",
      "                                                                                                  \n",
      " dense_1 (Dense)                (None, 32)           4128        ['dropout_56[0][0]']             \n",
      "                                                                                                  \n",
      " dense_2 (Dense)                (None, 6)            198         ['dense_1[0][0]']                \n",
      "                                                                                                  \n",
      "==================================================================================================\n",
      "Total params: 108,413,030\n",
      "Trainable params: 108,413,030\n",
      "Non-trainable params: 0\n",
      "__________________________________________________________________________________________________\n"
     ]
    }
   ],
   "source": [
    "model.summary()"
   ]
  },
  {
   "cell_type": "code",
   "execution_count": 44,
   "metadata": {},
   "outputs": [
    {
     "name": "stdout",
     "output_type": "stream",
     "text": [
      "huggingface/tokenizers: The current process just got forked, after parallelism has already been used. Disabling parallelism to avoid deadlocks...\n",
      "To disable this warning, you can either:\n",
      "\t- Avoid using `tokenizers` before the fork if possible\n",
      "\t- Explicitly set the environment variable TOKENIZERS_PARALLELISM=(true | false)\n",
      "You must install pydot (`pip install pydot`) and install graphviz (see instructions at https://graphviz.gitlab.io/download/) for plot_model to work.\n"
     ]
    }
   ],
   "source": [
    "tf.keras.utils.plot_model(model, show_shapes=True)"
   ]
  },
  {
   "cell_type": "code",
   "execution_count": 45,
   "metadata": {},
   "outputs": [],
   "source": [
    "optimizer = Adam(\n",
    "    learning_rate=5e-05,\n",
    "    epsilon=1e-08,\n",
    "    decay=0.01,\n",
    "    clipnorm=1.0\n",
    ")\n",
    "\n",
    "# set loss and metrics\n",
    "loss = CategoricalCrossentropy(from_logits=True)\n",
    "metric = CategoricalAccuracy('balanced_accuracy')\n",
    "# compile the model\n",
    "model.compile(optimizer=optimizer, loss=loss, metrics=metric)"
   ]
  },
  {
   "cell_type": "code",
   "execution_count": 46,
   "metadata": {},
   "outputs": [
    {
     "name": "stdout",
     "output_type": "stream",
     "text": [
      "Model: \"model\"\n",
      "__________________________________________________________________________________________________\n",
      " Layer (type)                   Output Shape         Param #     Connected to                     \n",
      "==================================================================================================\n",
      " input_ids (InputLayer)         [(None, 36)]         0           []                               \n",
      "                                                                                                  \n",
      " attention_mask (InputLayer)    [(None, 36)]         0           []                               \n",
      "                                                                                                  \n",
      " tf_bert_model (TFBertModel)    TFBaseModelOutputWi  108310272   ['input_ids[0][0]',              \n",
      "                                thPoolingAndCrossAt               'attention_mask[0][0]']         \n",
      "                                tentions(last_hidde                                               \n",
      "                                n_state=(None, 36,                                                \n",
      "                                768),                                                             \n",
      "                                 pooler_output=(Non                                               \n",
      "                                e, 768),                                                          \n",
      "                                 past_key_values=No                                               \n",
      "                                ne, hidden_states=N                                               \n",
      "                                one, attentions=Non                                               \n",
      "                                e, cross_attentions                                               \n",
      "                                =None)                                                            \n",
      "                                                                                                  \n",
      " global_max_pooling1d (GlobalMa  (None, 768)         0           ['tf_bert_model[0][0]']          \n",
      " xPooling1D)                                                                                      \n",
      "                                                                                                  \n",
      " dense (Dense)                  (None, 128)          98432       ['global_max_pooling1d[0][0]']   \n",
      "                                                                                                  \n",
      " dropout_56 (Dropout)           (None, 128)          0           ['dense[0][0]']                  \n",
      "                                                                                                  \n",
      " dense_1 (Dense)                (None, 32)           4128        ['dropout_56[0][0]']             \n",
      "                                                                                                  \n",
      " dense_2 (Dense)                (None, 6)            198         ['dense_1[0][0]']                \n",
      "                                                                                                  \n",
      "==================================================================================================\n",
      "Total params: 108,413,030\n",
      "Trainable params: 108,413,030\n",
      "Non-trainable params: 0\n",
      "__________________________________________________________________________________________________\n"
     ]
    }
   ],
   "source": [
    "model.summary()"
   ]
  },
  {
   "cell_type": "code",
   "execution_count": 47,
   "metadata": {},
   "outputs": [
    {
     "name": "stdout",
     "output_type": "stream",
     "text": [
      "WARNING:tensorflow:From /var/folders/k3/9czgbhxx0zxbqcb7p49tm04w0000gn/T/ipykernel_24834/403206910.py:1: experimental_run_functions_eagerly (from tensorflow.python.eager.def_function) is deprecated and will be removed in a future version.\n",
      "Instructions for updating:\n",
      "Use `tf.config.run_functions_eagerly` instead of the experimental version.\n"
     ]
    }
   ],
   "source": [
    "tf.config.experimental_run_functions_eagerly(True)\n",
    "tf.config.run_functions_eagerly(True)"
   ]
  },
  {
   "cell_type": "code",
   "execution_count": 48,
   "metadata": {},
   "outputs": [
    {
     "name": "stderr",
     "output_type": "stream",
     "text": [
      "2023-04-15 15:05:25.970169: W tensorflow/core/platform/profile_utils/cpu_utils.cc:128] Failed to get CPU frequency: 0 Hz\n"
     ]
    },
    {
     "name": "stdout",
     "output_type": "stream",
     "text": [
      "WARNING:tensorflow:Gradients do not exist for variables ['tf_bert_model/bert/pooler/dense/kernel:0', 'tf_bert_model/bert/pooler/dense/bias:0'] when minimizing the loss. If you're using `model.compile()`, did you forget to provide a `loss` argument?\n",
      "  1/389 [..............................] - ETA: 39:29 - loss: 1.6305 - balanced_accuracy: 0.3056WARNING:tensorflow:Gradients do not exist for variables ['tf_bert_model/bert/pooler/dense/kernel:0', 'tf_bert_model/bert/pooler/dense/bias:0'] when minimizing the loss. If you're using `model.compile()`, did you forget to provide a `loss` argument?\n",
      "  2/389 [..............................] - ETA: 37:05 - loss: 1.7361 - balanced_accuracy: 0.3194WARNING:tensorflow:Gradients do not exist for variables ['tf_bert_model/bert/pooler/dense/kernel:0', 'tf_bert_model/bert/pooler/dense/bias:0'] when minimizing the loss. If you're using `model.compile()`, did you forget to provide a `loss` argument?\n",
      "  3/389 [..............................] - ETA: 37:42 - loss: 1.7487 - balanced_accuracy: 0.2870WARNING:tensorflow:Gradients do not exist for variables ['tf_bert_model/bert/pooler/dense/kernel:0', 'tf_bert_model/bert/pooler/dense/bias:0'] when minimizing the loss. If you're using `model.compile()`, did you forget to provide a `loss` argument?\n",
      "  4/389 [..............................] - ETA: 37:24 - loss: 1.7055 - balanced_accuracy: 0.3056WARNING:tensorflow:Gradients do not exist for variables ['tf_bert_model/bert/pooler/dense/kernel:0', 'tf_bert_model/bert/pooler/dense/bias:0'] when minimizing the loss. If you're using `model.compile()`, did you forget to provide a `loss` argument?\n",
      "  5/389 [..............................] - ETA: 36:40 - loss: 1.6605 - balanced_accuracy: 0.3389WARNING:tensorflow:Gradients do not exist for variables ['tf_bert_model/bert/pooler/dense/kernel:0', 'tf_bert_model/bert/pooler/dense/bias:0'] when minimizing the loss. If you're using `model.compile()`, did you forget to provide a `loss` argument?\n",
      "  6/389 [..............................] - ETA: 36:19 - loss: 1.6538 - balanced_accuracy: 0.3472WARNING:tensorflow:Gradients do not exist for variables ['tf_bert_model/bert/pooler/dense/kernel:0', 'tf_bert_model/bert/pooler/dense/bias:0'] when minimizing the loss. If you're using `model.compile()`, did you forget to provide a `loss` argument?\n",
      "  7/389 [..............................] - ETA: 36:21 - loss: 1.6637 - balanced_accuracy: 0.3373WARNING:tensorflow:Gradients do not exist for variables ['tf_bert_model/bert/pooler/dense/kernel:0', 'tf_bert_model/bert/pooler/dense/bias:0'] when minimizing the loss. If you're using `model.compile()`, did you forget to provide a `loss` argument?\n",
      "  8/389 [..............................] - ETA: 37:05 - loss: 1.6488 - balanced_accuracy: 0.3333WARNING:tensorflow:Gradients do not exist for variables ['tf_bert_model/bert/pooler/dense/kernel:0', 'tf_bert_model/bert/pooler/dense/bias:0'] when minimizing the loss. If you're using `model.compile()`, did you forget to provide a `loss` argument?\n",
      "  9/389 [..............................] - ETA: 38:36 - loss: 1.6406 - balanced_accuracy: 0.3302WARNING:tensorflow:Gradients do not exist for variables ['tf_bert_model/bert/pooler/dense/kernel:0', 'tf_bert_model/bert/pooler/dense/bias:0'] when minimizing the loss. If you're using `model.compile()`, did you forget to provide a `loss` argument?\n",
      " 10/389 [..............................] - ETA: 38:44 - loss: 1.6188 - balanced_accuracy: 0.3417WARNING:tensorflow:Gradients do not exist for variables ['tf_bert_model/bert/pooler/dense/kernel:0', 'tf_bert_model/bert/pooler/dense/bias:0'] when minimizing the loss. If you're using `model.compile()`, did you forget to provide a `loss` argument?\n",
      " 11/389 [..............................] - ETA: 39:35 - loss: 1.6230 - balanced_accuracy: 0.3384WARNING:tensorflow:Gradients do not exist for variables ['tf_bert_model/bert/pooler/dense/kernel:0', 'tf_bert_model/bert/pooler/dense/bias:0'] when minimizing the loss. If you're using `model.compile()`, did you forget to provide a `loss` argument?\n",
      " 12/389 [..............................] - ETA: 39:50 - loss: 1.6373 - balanced_accuracy: 0.3356WARNING:tensorflow:Gradients do not exist for variables ['tf_bert_model/bert/pooler/dense/kernel:0', 'tf_bert_model/bert/pooler/dense/bias:0'] when minimizing the loss. If you're using `model.compile()`, did you forget to provide a `loss` argument?\n",
      " 13/389 [>.............................] - ETA: 39:42 - loss: 1.6197 - balanced_accuracy: 0.3504WARNING:tensorflow:Gradients do not exist for variables ['tf_bert_model/bert/pooler/dense/kernel:0', 'tf_bert_model/bert/pooler/dense/bias:0'] when minimizing the loss. If you're using `model.compile()`, did you forget to provide a `loss` argument?\n",
      " 14/389 [>.............................] - ETA: 39:27 - loss: 1.6209 - balanced_accuracy: 0.3492WARNING:tensorflow:Gradients do not exist for variables ['tf_bert_model/bert/pooler/dense/kernel:0', 'tf_bert_model/bert/pooler/dense/bias:0'] when minimizing the loss. If you're using `model.compile()`, did you forget to provide a `loss` argument?\n",
      " 15/389 [>.............................] - ETA: 39:35 - loss: 1.6148 - balanced_accuracy: 0.3444WARNING:tensorflow:Gradients do not exist for variables ['tf_bert_model/bert/pooler/dense/kernel:0', 'tf_bert_model/bert/pooler/dense/bias:0'] when minimizing the loss. If you're using `model.compile()`, did you forget to provide a `loss` argument?\n",
      " 16/389 [>.............................] - ETA: 39:35 - loss: 1.6188 - balanced_accuracy: 0.3420WARNING:tensorflow:Gradients do not exist for variables ['tf_bert_model/bert/pooler/dense/kernel:0', 'tf_bert_model/bert/pooler/dense/bias:0'] when minimizing the loss. If you're using `model.compile()`, did you forget to provide a `loss` argument?\n",
      " 17/389 [>.............................] - ETA: 39:26 - loss: 1.6124 - balanced_accuracy: 0.3464WARNING:tensorflow:Gradients do not exist for variables ['tf_bert_model/bert/pooler/dense/kernel:0', 'tf_bert_model/bert/pooler/dense/bias:0'] when minimizing the loss. If you're using `model.compile()`, did you forget to provide a `loss` argument?\n",
      " 18/389 [>.............................] - ETA: 38:56 - loss: 1.6091 - balanced_accuracy: 0.3472WARNING:tensorflow:Gradients do not exist for variables ['tf_bert_model/bert/pooler/dense/kernel:0', 'tf_bert_model/bert/pooler/dense/bias:0'] when minimizing the loss. If you're using `model.compile()`, did you forget to provide a `loss` argument?\n",
      " 19/389 [>.............................] - ETA: 38:37 - loss: 1.5937 - balanced_accuracy: 0.3553WARNING:tensorflow:Gradients do not exist for variables ['tf_bert_model/bert/pooler/dense/kernel:0', 'tf_bert_model/bert/pooler/dense/bias:0'] when minimizing the loss. If you're using `model.compile()`, did you forget to provide a `loss` argument?\n",
      " 20/389 [>.............................] - ETA: 38:46 - loss: 1.5916 - balanced_accuracy: 0.3583WARNING:tensorflow:Gradients do not exist for variables ['tf_bert_model/bert/pooler/dense/kernel:0', 'tf_bert_model/bert/pooler/dense/bias:0'] when minimizing the loss. If you're using `model.compile()`, did you forget to provide a `loss` argument?\n",
      " 21/389 [>.............................] - ETA: 38:51 - loss: 1.5858 - balanced_accuracy: 0.3664WARNING:tensorflow:Gradients do not exist for variables ['tf_bert_model/bert/pooler/dense/kernel:0', 'tf_bert_model/bert/pooler/dense/bias:0'] when minimizing the loss. If you're using `model.compile()`, did you forget to provide a `loss` argument?\n",
      " 22/389 [>.............................] - ETA: 38:45 - loss: 1.5788 - balanced_accuracy: 0.3699WARNING:tensorflow:Gradients do not exist for variables ['tf_bert_model/bert/pooler/dense/kernel:0', 'tf_bert_model/bert/pooler/dense/bias:0'] when minimizing the loss. If you're using `model.compile()`, did you forget to provide a `loss` argument?\n",
      " 23/389 [>.............................] - ETA: 38:38 - loss: 1.5637 - balanced_accuracy: 0.3768WARNING:tensorflow:Gradients do not exist for variables ['tf_bert_model/bert/pooler/dense/kernel:0', 'tf_bert_model/bert/pooler/dense/bias:0'] when minimizing the loss. If you're using `model.compile()`, did you forget to provide a `loss` argument?\n",
      " 24/389 [>.............................] - ETA: 38:51 - loss: 1.5572 - balanced_accuracy: 0.3854WARNING:tensorflow:Gradients do not exist for variables ['tf_bert_model/bert/pooler/dense/kernel:0', 'tf_bert_model/bert/pooler/dense/bias:0'] when minimizing the loss. If you're using `model.compile()`, did you forget to provide a `loss` argument?\n",
      " 25/389 [>.............................] - ETA: 38:56 - loss: 1.5582 - balanced_accuracy: 0.3856WARNING:tensorflow:Gradients do not exist for variables ['tf_bert_model/bert/pooler/dense/kernel:0', 'tf_bert_model/bert/pooler/dense/bias:0'] when minimizing the loss. If you're using `model.compile()`, did you forget to provide a `loss` argument?\n",
      " 26/389 [=>............................] - ETA: 38:50 - loss: 1.5629 - balanced_accuracy: 0.3835WARNING:tensorflow:Gradients do not exist for variables ['tf_bert_model/bert/pooler/dense/kernel:0', 'tf_bert_model/bert/pooler/dense/bias:0'] when minimizing the loss. If you're using `model.compile()`, did you forget to provide a `loss` argument?\n",
      " 27/389 [=>............................] - ETA: 38:58 - loss: 1.5570 - balanced_accuracy: 0.3868WARNING:tensorflow:Gradients do not exist for variables ['tf_bert_model/bert/pooler/dense/kernel:0', 'tf_bert_model/bert/pooler/dense/bias:0'] when minimizing the loss. If you're using `model.compile()`, did you forget to provide a `loss` argument?\n",
      " 28/389 [=>............................] - ETA: 38:56 - loss: 1.5452 - balanced_accuracy: 0.3948WARNING:tensorflow:Gradients do not exist for variables ['tf_bert_model/bert/pooler/dense/kernel:0', 'tf_bert_model/bert/pooler/dense/bias:0'] when minimizing the loss. If you're using `model.compile()`, did you forget to provide a `loss` argument?\n",
      " 29/389 [=>............................] - ETA: 38:50 - loss: 1.5474 - balanced_accuracy: 0.3975WARNING:tensorflow:Gradients do not exist for variables ['tf_bert_model/bert/pooler/dense/kernel:0', 'tf_bert_model/bert/pooler/dense/bias:0'] when minimizing the loss. If you're using `model.compile()`, did you forget to provide a `loss` argument?\n",
      " 30/389 [=>............................] - ETA: 39:07 - loss: 1.5517 - balanced_accuracy: 0.3972WARNING:tensorflow:Gradients do not exist for variables ['tf_bert_model/bert/pooler/dense/kernel:0', 'tf_bert_model/bert/pooler/dense/bias:0'] when minimizing the loss. If you're using `model.compile()`, did you forget to provide a `loss` argument?\n",
      " 31/389 [=>............................] - ETA: 39:02 - loss: 1.5506 - balanced_accuracy: 0.3961WARNING:tensorflow:Gradients do not exist for variables ['tf_bert_model/bert/pooler/dense/kernel:0', 'tf_bert_model/bert/pooler/dense/bias:0'] when minimizing the loss. If you're using `model.compile()`, did you forget to provide a `loss` argument?\n",
      " 32/389 [=>............................] - ETA: 38:54 - loss: 1.5497 - balanced_accuracy: 0.3976WARNING:tensorflow:Gradients do not exist for variables ['tf_bert_model/bert/pooler/dense/kernel:0', 'tf_bert_model/bert/pooler/dense/bias:0'] when minimizing the loss. If you're using `model.compile()`, did you forget to provide a `loss` argument?\n",
      " 33/389 [=>............................] - ETA: 38:39 - loss: 1.5438 - balanced_accuracy: 0.4024WARNING:tensorflow:Gradients do not exist for variables ['tf_bert_model/bert/pooler/dense/kernel:0', 'tf_bert_model/bert/pooler/dense/bias:0'] when minimizing the loss. If you're using `model.compile()`, did you forget to provide a `loss` argument?\n",
      " 34/389 [=>............................] - ETA: 38:32 - loss: 1.5405 - balanced_accuracy: 0.4036WARNING:tensorflow:Gradients do not exist for variables ['tf_bert_model/bert/pooler/dense/kernel:0', 'tf_bert_model/bert/pooler/dense/bias:0'] when minimizing the loss. If you're using `model.compile()`, did you forget to provide a `loss` argument?\n",
      " 35/389 [=>............................] - ETA: 38:24 - loss: 1.5401 - balanced_accuracy: 0.4063WARNING:tensorflow:Gradients do not exist for variables ['tf_bert_model/bert/pooler/dense/kernel:0', 'tf_bert_model/bert/pooler/dense/bias:0'] when minimizing the loss. If you're using `model.compile()`, did you forget to provide a `loss` argument?\n",
      " 36/389 [=>............................] - ETA: 38:12 - loss: 1.5374 - balanced_accuracy: 0.4090WARNING:tensorflow:Gradients do not exist for variables ['tf_bert_model/bert/pooler/dense/kernel:0', 'tf_bert_model/bert/pooler/dense/bias:0'] when minimizing the loss. If you're using `model.compile()`, did you forget to provide a `loss` argument?\n",
      " 37/389 [=>............................] - ETA: 37:59 - loss: 1.5390 - balanced_accuracy: 0.4092WARNING:tensorflow:Gradients do not exist for variables ['tf_bert_model/bert/pooler/dense/kernel:0', 'tf_bert_model/bert/pooler/dense/bias:0'] when minimizing the loss. If you're using `model.compile()`, did you forget to provide a `loss` argument?\n",
      " 38/389 [=>............................] - ETA: 37:49 - loss: 1.5337 - balanced_accuracy: 0.4145WARNING:tensorflow:Gradients do not exist for variables ['tf_bert_model/bert/pooler/dense/kernel:0', 'tf_bert_model/bert/pooler/dense/bias:0'] when minimizing the loss. If you're using `model.compile()`, did you forget to provide a `loss` argument?\n",
      " 39/389 [==>...........................] - ETA: 38:00 - loss: 1.5324 - balanced_accuracy: 0.4152WARNING:tensorflow:Gradients do not exist for variables ['tf_bert_model/bert/pooler/dense/kernel:0', 'tf_bert_model/bert/pooler/dense/bias:0'] when minimizing the loss. If you're using `model.compile()`, did you forget to provide a `loss` argument?\n",
      " 40/389 [==>...........................] - ETA: 38:13 - loss: 1.5354 - balanced_accuracy: 0.4118WARNING:tensorflow:Gradients do not exist for variables ['tf_bert_model/bert/pooler/dense/kernel:0', 'tf_bert_model/bert/pooler/dense/bias:0'] when minimizing the loss. If you're using `model.compile()`, did you forget to provide a `loss` argument?\n",
      " 41/389 [==>...........................] - ETA: 38:11 - loss: 1.5324 - balanced_accuracy: 0.4126WARNING:tensorflow:Gradients do not exist for variables ['tf_bert_model/bert/pooler/dense/kernel:0', 'tf_bert_model/bert/pooler/dense/bias:0'] when minimizing the loss. If you're using `model.compile()`, did you forget to provide a `loss` argument?\n",
      " 42/389 [==>...........................] - ETA: 38:05 - loss: 1.5260 - balanced_accuracy: 0.4180WARNING:tensorflow:Gradients do not exist for variables ['tf_bert_model/bert/pooler/dense/kernel:0', 'tf_bert_model/bert/pooler/dense/bias:0'] when minimizing the loss. If you're using `model.compile()`, did you forget to provide a `loss` argument?\n",
      " 43/389 [==>...........................] - ETA: 38:01 - loss: 1.5243 - balanced_accuracy: 0.4199WARNING:tensorflow:Gradients do not exist for variables ['tf_bert_model/bert/pooler/dense/kernel:0', 'tf_bert_model/bert/pooler/dense/bias:0'] when minimizing the loss. If you're using `model.compile()`, did you forget to provide a `loss` argument?\n",
      " 44/389 [==>...........................] - ETA: 38:07 - loss: 1.5235 - balanced_accuracy: 0.4192WARNING:tensorflow:Gradients do not exist for variables ['tf_bert_model/bert/pooler/dense/kernel:0', 'tf_bert_model/bert/pooler/dense/bias:0'] when minimizing the loss. If you're using `model.compile()`, did you forget to provide a `loss` argument?\n",
      " 45/389 [==>...........................] - ETA: 38:00 - loss: 1.5209 - balanced_accuracy: 0.4210WARNING:tensorflow:Gradients do not exist for variables ['tf_bert_model/bert/pooler/dense/kernel:0', 'tf_bert_model/bert/pooler/dense/bias:0'] when minimizing the loss. If you're using `model.compile()`, did you forget to provide a `loss` argument?\n",
      " 46/389 [==>...........................] - ETA: 37:54 - loss: 1.5215 - balanced_accuracy: 0.4221WARNING:tensorflow:Gradients do not exist for variables ['tf_bert_model/bert/pooler/dense/kernel:0', 'tf_bert_model/bert/pooler/dense/bias:0'] when minimizing the loss. If you're using `model.compile()`, did you forget to provide a `loss` argument?\n",
      " 47/389 [==>...........................] - ETA: 37:44 - loss: 1.5222 - balanced_accuracy: 0.4226WARNING:tensorflow:Gradients do not exist for variables ['tf_bert_model/bert/pooler/dense/kernel:0', 'tf_bert_model/bert/pooler/dense/bias:0'] when minimizing the loss. If you're using `model.compile()`, did you forget to provide a `loss` argument?\n",
      " 48/389 [==>...........................] - ETA: 37:38 - loss: 1.5215 - balanced_accuracy: 0.4259WARNING:tensorflow:Gradients do not exist for variables ['tf_bert_model/bert/pooler/dense/kernel:0', 'tf_bert_model/bert/pooler/dense/bias:0'] when minimizing the loss. If you're using `model.compile()`, did you forget to provide a `loss` argument?\n",
      " 49/389 [==>...........................] - ETA: 37:35 - loss: 1.5204 - balanced_accuracy: 0.4269WARNING:tensorflow:Gradients do not exist for variables ['tf_bert_model/bert/pooler/dense/kernel:0', 'tf_bert_model/bert/pooler/dense/bias:0'] when minimizing the loss. If you're using `model.compile()`, did you forget to provide a `loss` argument?\n",
      " 50/389 [==>...........................] - ETA: 37:30 - loss: 1.5156 - balanced_accuracy: 0.4300WARNING:tensorflow:Gradients do not exist for variables ['tf_bert_model/bert/pooler/dense/kernel:0', 'tf_bert_model/bert/pooler/dense/bias:0'] when minimizing the loss. If you're using `model.compile()`, did you forget to provide a `loss` argument?\n",
      " 51/389 [==>...........................] - ETA: 37:27 - loss: 1.5116 - balanced_accuracy: 0.4319WARNING:tensorflow:Gradients do not exist for variables ['tf_bert_model/bert/pooler/dense/kernel:0', 'tf_bert_model/bert/pooler/dense/bias:0'] when minimizing the loss. If you're using `model.compile()`, did you forget to provide a `loss` argument?\n",
      " 52/389 [===>..........................] - ETA: 37:24 - loss: 1.5145 - balanced_accuracy: 0.4316WARNING:tensorflow:Gradients do not exist for variables ['tf_bert_model/bert/pooler/dense/kernel:0', 'tf_bert_model/bert/pooler/dense/bias:0'] when minimizing the loss. If you're using `model.compile()`, did you forget to provide a `loss` argument?\n",
      " 53/389 [===>..........................] - ETA: 37:19 - loss: 1.5099 - balanced_accuracy: 0.4355WARNING:tensorflow:Gradients do not exist for variables ['tf_bert_model/bert/pooler/dense/kernel:0', 'tf_bert_model/bert/pooler/dense/bias:0'] when minimizing the loss. If you're using `model.compile()`, did you forget to provide a `loss` argument?\n",
      " 54/389 [===>..........................] - ETA: 37:17 - loss: 1.5095 - balanced_accuracy: 0.4352WARNING:tensorflow:Gradients do not exist for variables ['tf_bert_model/bert/pooler/dense/kernel:0', 'tf_bert_model/bert/pooler/dense/bias:0'] when minimizing the loss. If you're using `model.compile()`, did you forget to provide a `loss` argument?\n",
      " 55/389 [===>..........................] - ETA: 37:08 - loss: 1.5062 - balanced_accuracy: 0.4369WARNING:tensorflow:Gradients do not exist for variables ['tf_bert_model/bert/pooler/dense/kernel:0', 'tf_bert_model/bert/pooler/dense/bias:0'] when minimizing the loss. If you're using `model.compile()`, did you forget to provide a `loss` argument?\n",
      " 56/389 [===>..........................] - ETA: 37:06 - loss: 1.5022 - balanced_accuracy: 0.4410WARNING:tensorflow:Gradients do not exist for variables ['tf_bert_model/bert/pooler/dense/kernel:0', 'tf_bert_model/bert/pooler/dense/bias:0'] when minimizing the loss. If you're using `model.compile()`, did you forget to provide a `loss` argument?\n",
      " 57/389 [===>..........................] - ETA: 37:00 - loss: 1.5031 - balanced_accuracy: 0.4396WARNING:tensorflow:Gradients do not exist for variables ['tf_bert_model/bert/pooler/dense/kernel:0', 'tf_bert_model/bert/pooler/dense/bias:0'] when minimizing the loss. If you're using `model.compile()`, did you forget to provide a `loss` argument?\n",
      " 58/389 [===>..........................] - ETA: 36:51 - loss: 1.5010 - balanced_accuracy: 0.4401WARNING:tensorflow:Gradients do not exist for variables ['tf_bert_model/bert/pooler/dense/kernel:0', 'tf_bert_model/bert/pooler/dense/bias:0'] when minimizing the loss. If you're using `model.compile()`, did you forget to provide a `loss` argument?\n",
      " 59/389 [===>..........................] - ETA: 36:41 - loss: 1.4945 - balanced_accuracy: 0.4440WARNING:tensorflow:Gradients do not exist for variables ['tf_bert_model/bert/pooler/dense/kernel:0', 'tf_bert_model/bert/pooler/dense/bias:0'] when minimizing the loss. If you're using `model.compile()`, did you forget to provide a `loss` argument?\n",
      " 60/389 [===>..........................] - ETA: 36:30 - loss: 1.4844 - balanced_accuracy: 0.4491WARNING:tensorflow:Gradients do not exist for variables ['tf_bert_model/bert/pooler/dense/kernel:0', 'tf_bert_model/bert/pooler/dense/bias:0'] when minimizing the loss. If you're using `model.compile()`, did you forget to provide a `loss` argument?\n",
      " 61/389 [===>..........................] - ETA: 36:19 - loss: 1.4780 - balanced_accuracy: 0.4517WARNING:tensorflow:Gradients do not exist for variables ['tf_bert_model/bert/pooler/dense/kernel:0', 'tf_bert_model/bert/pooler/dense/bias:0'] when minimizing the loss. If you're using `model.compile()`, did you forget to provide a `loss` argument?\n",
      " 62/389 [===>..........................] - ETA: 36:10 - loss: 1.4778 - balanced_accuracy: 0.4530WARNING:tensorflow:Gradients do not exist for variables ['tf_bert_model/bert/pooler/dense/kernel:0', 'tf_bert_model/bert/pooler/dense/bias:0'] when minimizing the loss. If you're using `model.compile()`, did you forget to provide a `loss` argument?\n",
      " 63/389 [===>..........................] - ETA: 35:59 - loss: 1.4755 - balanced_accuracy: 0.4546WARNING:tensorflow:Gradients do not exist for variables ['tf_bert_model/bert/pooler/dense/kernel:0', 'tf_bert_model/bert/pooler/dense/bias:0'] when minimizing the loss. If you're using `model.compile()`, did you forget to provide a `loss` argument?\n",
      " 64/389 [===>..........................] - ETA: 35:48 - loss: 1.4686 - balanced_accuracy: 0.4588WARNING:tensorflow:Gradients do not exist for variables ['tf_bert_model/bert/pooler/dense/kernel:0', 'tf_bert_model/bert/pooler/dense/bias:0'] when minimizing the loss. If you're using `model.compile()`, did you forget to provide a `loss` argument?\n",
      " 65/389 [====>.........................] - ETA: 35:37 - loss: 1.4667 - balanced_accuracy: 0.4598WARNING:tensorflow:Gradients do not exist for variables ['tf_bert_model/bert/pooler/dense/kernel:0', 'tf_bert_model/bert/pooler/dense/bias:0'] when minimizing the loss. If you're using `model.compile()`, did you forget to provide a `loss` argument?\n",
      " 66/389 [====>.........................] - ETA: 35:33 - loss: 1.4631 - balanced_accuracy: 0.4609WARNING:tensorflow:Gradients do not exist for variables ['tf_bert_model/bert/pooler/dense/kernel:0', 'tf_bert_model/bert/pooler/dense/bias:0'] when minimizing the loss. If you're using `model.compile()`, did you forget to provide a `loss` argument?\n",
      " 67/389 [====>.........................] - ETA: 35:27 - loss: 1.4611 - balanced_accuracy: 0.4610WARNING:tensorflow:Gradients do not exist for variables ['tf_bert_model/bert/pooler/dense/kernel:0', 'tf_bert_model/bert/pooler/dense/bias:0'] when minimizing the loss. If you're using `model.compile()`, did you forget to provide a `loss` argument?\n",
      " 68/389 [====>.........................] - ETA: 35:18 - loss: 1.4579 - balanced_accuracy: 0.4620WARNING:tensorflow:Gradients do not exist for variables ['tf_bert_model/bert/pooler/dense/kernel:0', 'tf_bert_model/bert/pooler/dense/bias:0'] when minimizing the loss. If you're using `model.compile()`, did you forget to provide a `loss` argument?\n",
      " 69/389 [====>.........................] - ETA: 35:08 - loss: 1.4574 - balanced_accuracy: 0.4622WARNING:tensorflow:Gradients do not exist for variables ['tf_bert_model/bert/pooler/dense/kernel:0', 'tf_bert_model/bert/pooler/dense/bias:0'] when minimizing the loss. If you're using `model.compile()`, did you forget to provide a `loss` argument?\n",
      " 70/389 [====>.........................] - ETA: 35:18 - loss: 1.4526 - balanced_accuracy: 0.4647WARNING:tensorflow:Gradients do not exist for variables ['tf_bert_model/bert/pooler/dense/kernel:0', 'tf_bert_model/bert/pooler/dense/bias:0'] when minimizing the loss. If you're using `model.compile()`, did you forget to provide a `loss` argument?\n",
      " 71/389 [====>.........................] - ETA: 35:12 - loss: 1.4468 - balanced_accuracy: 0.4667WARNING:tensorflow:Gradients do not exist for variables ['tf_bert_model/bert/pooler/dense/kernel:0', 'tf_bert_model/bert/pooler/dense/bias:0'] when minimizing the loss. If you're using `model.compile()`, did you forget to provide a `loss` argument?\n",
      " 72/389 [====>.........................] - ETA: 35:05 - loss: 1.4430 - balanced_accuracy: 0.4684WARNING:tensorflow:Gradients do not exist for variables ['tf_bert_model/bert/pooler/dense/kernel:0', 'tf_bert_model/bert/pooler/dense/bias:0'] when minimizing the loss. If you're using `model.compile()`, did you forget to provide a `loss` argument?\n",
      " 73/389 [====>.........................] - ETA: 34:56 - loss: 1.4426 - balanced_accuracy: 0.4692WARNING:tensorflow:Gradients do not exist for variables ['tf_bert_model/bert/pooler/dense/kernel:0', 'tf_bert_model/bert/pooler/dense/bias:0'] when minimizing the loss. If you're using `model.compile()`, did you forget to provide a `loss` argument?\n",
      " 74/389 [====>.........................] - ETA: 34:44 - loss: 1.4404 - balanced_accuracy: 0.4703WARNING:tensorflow:Gradients do not exist for variables ['tf_bert_model/bert/pooler/dense/kernel:0', 'tf_bert_model/bert/pooler/dense/bias:0'] when minimizing the loss. If you're using `model.compile()`, did you forget to provide a `loss` argument?\n",
      " 75/389 [====>.........................] - ETA: 34:37 - loss: 1.4409 - balanced_accuracy: 0.4700WARNING:tensorflow:Gradients do not exist for variables ['tf_bert_model/bert/pooler/dense/kernel:0', 'tf_bert_model/bert/pooler/dense/bias:0'] when minimizing the loss. If you're using `model.compile()`, did you forget to provide a `loss` argument?\n",
      " 76/389 [====>.........................] - ETA: 34:28 - loss: 1.4395 - balanced_accuracy: 0.4700WARNING:tensorflow:Gradients do not exist for variables ['tf_bert_model/bert/pooler/dense/kernel:0', 'tf_bert_model/bert/pooler/dense/bias:0'] when minimizing the loss. If you're using `model.compile()`, did you forget to provide a `loss` argument?\n",
      " 77/389 [====>.........................] - ETA: 34:21 - loss: 1.4375 - balanced_accuracy: 0.4711WARNING:tensorflow:Gradients do not exist for variables ['tf_bert_model/bert/pooler/dense/kernel:0', 'tf_bert_model/bert/pooler/dense/bias:0'] when minimizing the loss. If you're using `model.compile()`, did you forget to provide a `loss` argument?\n",
      " 78/389 [=====>........................] - ETA: 34:14 - loss: 1.4335 - balanced_accuracy: 0.4729WARNING:tensorflow:Gradients do not exist for variables ['tf_bert_model/bert/pooler/dense/kernel:0', 'tf_bert_model/bert/pooler/dense/bias:0'] when minimizing the loss. If you're using `model.compile()`, did you forget to provide a `loss` argument?\n",
      " 79/389 [=====>........................] - ETA: 34:04 - loss: 1.4276 - balanced_accuracy: 0.4764WARNING:tensorflow:Gradients do not exist for variables ['tf_bert_model/bert/pooler/dense/kernel:0', 'tf_bert_model/bert/pooler/dense/bias:0'] when minimizing the loss. If you're using `model.compile()`, did you forget to provide a `loss` argument?\n",
      " 80/389 [=====>........................] - ETA: 33:56 - loss: 1.4257 - balanced_accuracy: 0.4767WARNING:tensorflow:Gradients do not exist for variables ['tf_bert_model/bert/pooler/dense/kernel:0', 'tf_bert_model/bert/pooler/dense/bias:0'] when minimizing the loss. If you're using `model.compile()`, did you forget to provide a `loss` argument?\n",
      " 81/389 [=====>........................] - ETA: 33:49 - loss: 1.4247 - balanced_accuracy: 0.4767WARNING:tensorflow:Gradients do not exist for variables ['tf_bert_model/bert/pooler/dense/kernel:0', 'tf_bert_model/bert/pooler/dense/bias:0'] when minimizing the loss. If you're using `model.compile()`, did you forget to provide a `loss` argument?\n",
      " 82/389 [=====>........................] - ETA: 33:41 - loss: 1.4221 - balanced_accuracy: 0.4773WARNING:tensorflow:Gradients do not exist for variables ['tf_bert_model/bert/pooler/dense/kernel:0', 'tf_bert_model/bert/pooler/dense/bias:0'] when minimizing the loss. If you're using `model.compile()`, did you forget to provide a `loss` argument?\n",
      " 83/389 [=====>........................] - ETA: 33:33 - loss: 1.4183 - balanced_accuracy: 0.4789WARNING:tensorflow:Gradients do not exist for variables ['tf_bert_model/bert/pooler/dense/kernel:0', 'tf_bert_model/bert/pooler/dense/bias:0'] when minimizing the loss. If you're using `model.compile()`, did you forget to provide a `loss` argument?\n",
      " 84/389 [=====>........................] - ETA: 33:26 - loss: 1.4151 - balanced_accuracy: 0.4805WARNING:tensorflow:Gradients do not exist for variables ['tf_bert_model/bert/pooler/dense/kernel:0', 'tf_bert_model/bert/pooler/dense/bias:0'] when minimizing the loss. If you're using `model.compile()`, did you forget to provide a `loss` argument?\n",
      " 85/389 [=====>........................] - ETA: 33:18 - loss: 1.4121 - balanced_accuracy: 0.4817WARNING:tensorflow:Gradients do not exist for variables ['tf_bert_model/bert/pooler/dense/kernel:0', 'tf_bert_model/bert/pooler/dense/bias:0'] when minimizing the loss. If you're using `model.compile()`, did you forget to provide a `loss` argument?\n",
      " 86/389 [=====>........................] - ETA: 33:09 - loss: 1.4074 - balanced_accuracy: 0.4839WARNING:tensorflow:Gradients do not exist for variables ['tf_bert_model/bert/pooler/dense/kernel:0', 'tf_bert_model/bert/pooler/dense/bias:0'] when minimizing the loss. If you're using `model.compile()`, did you forget to provide a `loss` argument?\n",
      " 87/389 [=====>........................] - ETA: 33:03 - loss: 1.4052 - balanced_accuracy: 0.4847WARNING:tensorflow:Gradients do not exist for variables ['tf_bert_model/bert/pooler/dense/kernel:0', 'tf_bert_model/bert/pooler/dense/bias:0'] when minimizing the loss. If you're using `model.compile()`, did you forget to provide a `loss` argument?\n",
      " 88/389 [=====>........................] - ETA: 32:53 - loss: 1.4011 - balanced_accuracy: 0.4871WARNING:tensorflow:Gradients do not exist for variables ['tf_bert_model/bert/pooler/dense/kernel:0', 'tf_bert_model/bert/pooler/dense/bias:0'] when minimizing the loss. If you're using `model.compile()`, did you forget to provide a `loss` argument?\n",
      " 89/389 [=====>........................] - ETA: 32:44 - loss: 1.3973 - balanced_accuracy: 0.4885WARNING:tensorflow:Gradients do not exist for variables ['tf_bert_model/bert/pooler/dense/kernel:0', 'tf_bert_model/bert/pooler/dense/bias:0'] when minimizing the loss. If you're using `model.compile()`, did you forget to provide a `loss` argument?\n",
      " 90/389 [=====>........................] - ETA: 32:37 - loss: 1.3947 - balanced_accuracy: 0.4895WARNING:tensorflow:Gradients do not exist for variables ['tf_bert_model/bert/pooler/dense/kernel:0', 'tf_bert_model/bert/pooler/dense/bias:0'] when minimizing the loss. If you're using `model.compile()`, did you forget to provide a `loss` argument?\n",
      " 91/389 [======>.......................] - ETA: 32:28 - loss: 1.3976 - balanced_accuracy: 0.4887WARNING:tensorflow:Gradients do not exist for variables ['tf_bert_model/bert/pooler/dense/kernel:0', 'tf_bert_model/bert/pooler/dense/bias:0'] when minimizing the loss. If you're using `model.compile()`, did you forget to provide a `loss` argument?\n",
      " 92/389 [======>.......................] - ETA: 32:19 - loss: 1.3965 - balanced_accuracy: 0.4900WARNING:tensorflow:Gradients do not exist for variables ['tf_bert_model/bert/pooler/dense/kernel:0', 'tf_bert_model/bert/pooler/dense/bias:0'] when minimizing the loss. If you're using `model.compile()`, did you forget to provide a `loss` argument?\n",
      " 93/389 [======>.......................] - ETA: 32:10 - loss: 1.3949 - balanced_accuracy: 0.4913WARNING:tensorflow:Gradients do not exist for variables ['tf_bert_model/bert/pooler/dense/kernel:0', 'tf_bert_model/bert/pooler/dense/bias:0'] when minimizing the loss. If you're using `model.compile()`, did you forget to provide a `loss` argument?\n",
      " 94/389 [======>.......................] - ETA: 32:00 - loss: 1.3912 - balanced_accuracy: 0.4929WARNING:tensorflow:Gradients do not exist for variables ['tf_bert_model/bert/pooler/dense/kernel:0', 'tf_bert_model/bert/pooler/dense/bias:0'] when minimizing the loss. If you're using `model.compile()`, did you forget to provide a `loss` argument?\n",
      " 95/389 [======>.......................] - ETA: 31:51 - loss: 1.3909 - balanced_accuracy: 0.4930WARNING:tensorflow:Gradients do not exist for variables ['tf_bert_model/bert/pooler/dense/kernel:0', 'tf_bert_model/bert/pooler/dense/bias:0'] when minimizing the loss. If you're using `model.compile()`, did you forget to provide a `loss` argument?\n",
      " 96/389 [======>.......................] - ETA: 31:41 - loss: 1.3878 - balanced_accuracy: 0.4942WARNING:tensorflow:Gradients do not exist for variables ['tf_bert_model/bert/pooler/dense/kernel:0', 'tf_bert_model/bert/pooler/dense/bias:0'] when minimizing the loss. If you're using `model.compile()`, did you forget to provide a `loss` argument?\n",
      " 97/389 [======>.......................] - ETA: 31:33 - loss: 1.3853 - balanced_accuracy: 0.4968WARNING:tensorflow:Gradients do not exist for variables ['tf_bert_model/bert/pooler/dense/kernel:0', 'tf_bert_model/bert/pooler/dense/bias:0'] when minimizing the loss. If you're using `model.compile()`, did you forget to provide a `loss` argument?\n",
      " 98/389 [======>.......................] - ETA: 31:25 - loss: 1.3823 - balanced_accuracy: 0.4974WARNING:tensorflow:Gradients do not exist for variables ['tf_bert_model/bert/pooler/dense/kernel:0', 'tf_bert_model/bert/pooler/dense/bias:0'] when minimizing the loss. If you're using `model.compile()`, did you forget to provide a `loss` argument?\n",
      " 99/389 [======>.......................] - ETA: 31:16 - loss: 1.3786 - balanced_accuracy: 0.4989WARNING:tensorflow:Gradients do not exist for variables ['tf_bert_model/bert/pooler/dense/kernel:0', 'tf_bert_model/bert/pooler/dense/bias:0'] when minimizing the loss. If you're using `model.compile()`, did you forget to provide a `loss` argument?\n",
      "100/389 [======>.......................] - ETA: 31:07 - loss: 1.3757 - balanced_accuracy: 0.4994WARNING:tensorflow:Gradients do not exist for variables ['tf_bert_model/bert/pooler/dense/kernel:0', 'tf_bert_model/bert/pooler/dense/bias:0'] when minimizing the loss. If you're using `model.compile()`, did you forget to provide a `loss` argument?\n",
      "101/389 [======>.......................] - ETA: 30:58 - loss: 1.3725 - balanced_accuracy: 0.5008WARNING:tensorflow:Gradients do not exist for variables ['tf_bert_model/bert/pooler/dense/kernel:0', 'tf_bert_model/bert/pooler/dense/bias:0'] when minimizing the loss. If you're using `model.compile()`, did you forget to provide a `loss` argument?\n",
      "102/389 [======>.......................] - ETA: 30:49 - loss: 1.3700 - balanced_accuracy: 0.5016WARNING:tensorflow:Gradients do not exist for variables ['tf_bert_model/bert/pooler/dense/kernel:0', 'tf_bert_model/bert/pooler/dense/bias:0'] when minimizing the loss. If you're using `model.compile()`, did you forget to provide a `loss` argument?\n",
      "103/389 [======>.......................] - ETA: 30:41 - loss: 1.3643 - balanced_accuracy: 0.5040WARNING:tensorflow:Gradients do not exist for variables ['tf_bert_model/bert/pooler/dense/kernel:0', 'tf_bert_model/bert/pooler/dense/bias:0'] when minimizing the loss. If you're using `model.compile()`, did you forget to provide a `loss` argument?\n",
      "104/389 [=======>......................] - ETA: 30:32 - loss: 1.3628 - balanced_accuracy: 0.5053WARNING:tensorflow:Gradients do not exist for variables ['tf_bert_model/bert/pooler/dense/kernel:0', 'tf_bert_model/bert/pooler/dense/bias:0'] when minimizing the loss. If you're using `model.compile()`, did you forget to provide a `loss` argument?\n",
      "105/389 [=======>......................] - ETA: 30:23 - loss: 1.3591 - balanced_accuracy: 0.5069WARNING:tensorflow:Gradients do not exist for variables ['tf_bert_model/bert/pooler/dense/kernel:0', 'tf_bert_model/bert/pooler/dense/bias:0'] when minimizing the loss. If you're using `model.compile()`, did you forget to provide a `loss` argument?\n",
      "106/389 [=======>......................] - ETA: 30:15 - loss: 1.3572 - balanced_accuracy: 0.5073WARNING:tensorflow:Gradients do not exist for variables ['tf_bert_model/bert/pooler/dense/kernel:0', 'tf_bert_model/bert/pooler/dense/bias:0'] when minimizing the loss. If you're using `model.compile()`, did you forget to provide a `loss` argument?\n",
      "107/389 [=======>......................] - ETA: 30:07 - loss: 1.3576 - balanced_accuracy: 0.5070WARNING:tensorflow:Gradients do not exist for variables ['tf_bert_model/bert/pooler/dense/kernel:0', 'tf_bert_model/bert/pooler/dense/bias:0'] when minimizing the loss. If you're using `model.compile()`, did you forget to provide a `loss` argument?\n",
      "108/389 [=======>......................] - ETA: 29:58 - loss: 1.3537 - balanced_accuracy: 0.5090WARNING:tensorflow:Gradients do not exist for variables ['tf_bert_model/bert/pooler/dense/kernel:0', 'tf_bert_model/bert/pooler/dense/bias:0'] when minimizing the loss. If you're using `model.compile()`, did you forget to provide a `loss` argument?\n",
      "109/389 [=======>......................] - ETA: 29:50 - loss: 1.3506 - balanced_accuracy: 0.5099WARNING:tensorflow:Gradients do not exist for variables ['tf_bert_model/bert/pooler/dense/kernel:0', 'tf_bert_model/bert/pooler/dense/bias:0'] when minimizing the loss. If you're using `model.compile()`, did you forget to provide a `loss` argument?\n",
      "110/389 [=======>......................] - ETA: 29:42 - loss: 1.3474 - balanced_accuracy: 0.5111WARNING:tensorflow:Gradients do not exist for variables ['tf_bert_model/bert/pooler/dense/kernel:0', 'tf_bert_model/bert/pooler/dense/bias:0'] when minimizing the loss. If you're using `model.compile()`, did you forget to provide a `loss` argument?\n",
      "111/389 [=======>......................] - ETA: 29:34 - loss: 1.3451 - balanced_accuracy: 0.5123WARNING:tensorflow:Gradients do not exist for variables ['tf_bert_model/bert/pooler/dense/kernel:0', 'tf_bert_model/bert/pooler/dense/bias:0'] when minimizing the loss. If you're using `model.compile()`, did you forget to provide a `loss` argument?\n",
      "112/389 [=======>......................] - ETA: 29:25 - loss: 1.3418 - balanced_accuracy: 0.5134WARNING:tensorflow:Gradients do not exist for variables ['tf_bert_model/bert/pooler/dense/kernel:0', 'tf_bert_model/bert/pooler/dense/bias:0'] when minimizing the loss. If you're using `model.compile()`, did you forget to provide a `loss` argument?\n",
      "113/389 [=======>......................] - ETA: 29:17 - loss: 1.3372 - balanced_accuracy: 0.5152WARNING:tensorflow:Gradients do not exist for variables ['tf_bert_model/bert/pooler/dense/kernel:0', 'tf_bert_model/bert/pooler/dense/bias:0'] when minimizing the loss. If you're using `model.compile()`, did you forget to provide a `loss` argument?\n",
      "114/389 [=======>......................] - ETA: 29:10 - loss: 1.3338 - balanced_accuracy: 0.5158WARNING:tensorflow:Gradients do not exist for variables ['tf_bert_model/bert/pooler/dense/kernel:0', 'tf_bert_model/bert/pooler/dense/bias:0'] when minimizing the loss. If you're using `model.compile()`, did you forget to provide a `loss` argument?\n",
      "115/389 [=======>......................] - ETA: 29:02 - loss: 1.3315 - balanced_accuracy: 0.5162WARNING:tensorflow:Gradients do not exist for variables ['tf_bert_model/bert/pooler/dense/kernel:0', 'tf_bert_model/bert/pooler/dense/bias:0'] when minimizing the loss. If you're using `model.compile()`, did you forget to provide a `loss` argument?\n",
      "116/389 [=======>......................] - ETA: 28:54 - loss: 1.3300 - balanced_accuracy: 0.5168WARNING:tensorflow:Gradients do not exist for variables ['tf_bert_model/bert/pooler/dense/kernel:0', 'tf_bert_model/bert/pooler/dense/bias:0'] when minimizing the loss. If you're using `model.compile()`, did you forget to provide a `loss` argument?\n",
      "117/389 [========>.....................] - ETA: 28:48 - loss: 1.3287 - balanced_accuracy: 0.5171WARNING:tensorflow:Gradients do not exist for variables ['tf_bert_model/bert/pooler/dense/kernel:0', 'tf_bert_model/bert/pooler/dense/bias:0'] when minimizing the loss. If you're using `model.compile()`, did you forget to provide a `loss` argument?\n",
      "118/389 [========>.....................] - ETA: 28:44 - loss: 1.3272 - balanced_accuracy: 0.5179WARNING:tensorflow:Gradients do not exist for variables ['tf_bert_model/bert/pooler/dense/kernel:0', 'tf_bert_model/bert/pooler/dense/bias:0'] when minimizing the loss. If you're using `model.compile()`, did you forget to provide a `loss` argument?\n",
      "119/389 [========>.....................] - ETA: 28:39 - loss: 1.3225 - balanced_accuracy: 0.5194WARNING:tensorflow:Gradients do not exist for variables ['tf_bert_model/bert/pooler/dense/kernel:0', 'tf_bert_model/bert/pooler/dense/bias:0'] when minimizing the loss. If you're using `model.compile()`, did you forget to provide a `loss` argument?\n",
      "120/389 [========>.....................] - ETA: 28:31 - loss: 1.3215 - balanced_accuracy: 0.5204WARNING:tensorflow:Gradients do not exist for variables ['tf_bert_model/bert/pooler/dense/kernel:0', 'tf_bert_model/bert/pooler/dense/bias:0'] when minimizing the loss. If you're using `model.compile()`, did you forget to provide a `loss` argument?\n",
      "121/389 [========>.....................] - ETA: 28:24 - loss: 1.3188 - balanced_accuracy: 0.5207WARNING:tensorflow:Gradients do not exist for variables ['tf_bert_model/bert/pooler/dense/kernel:0', 'tf_bert_model/bert/pooler/dense/bias:0'] when minimizing the loss. If you're using `model.compile()`, did you forget to provide a `loss` argument?\n",
      "122/389 [========>.....................] - ETA: 28:17 - loss: 1.3156 - balanced_accuracy: 0.5223WARNING:tensorflow:Gradients do not exist for variables ['tf_bert_model/bert/pooler/dense/kernel:0', 'tf_bert_model/bert/pooler/dense/bias:0'] when minimizing the loss. If you're using `model.compile()`, did you forget to provide a `loss` argument?\n",
      "123/389 [========>.....................] - ETA: 28:10 - loss: 1.3130 - balanced_accuracy: 0.5235WARNING:tensorflow:Gradients do not exist for variables ['tf_bert_model/bert/pooler/dense/kernel:0', 'tf_bert_model/bert/pooler/dense/bias:0'] when minimizing the loss. If you're using `model.compile()`, did you forget to provide a `loss` argument?\n",
      "124/389 [========>.....................] - ETA: 28:02 - loss: 1.3116 - balanced_accuracy: 0.5240WARNING:tensorflow:Gradients do not exist for variables ['tf_bert_model/bert/pooler/dense/kernel:0', 'tf_bert_model/bert/pooler/dense/bias:0'] when minimizing the loss. If you're using `model.compile()`, did you forget to provide a `loss` argument?\n",
      "125/389 [========>.....................] - ETA: 27:54 - loss: 1.3103 - balanced_accuracy: 0.5242WARNING:tensorflow:Gradients do not exist for variables ['tf_bert_model/bert/pooler/dense/kernel:0', 'tf_bert_model/bert/pooler/dense/bias:0'] when minimizing the loss. If you're using `model.compile()`, did you forget to provide a `loss` argument?\n",
      "126/389 [========>.....................] - ETA: 27:48 - loss: 1.3064 - balanced_accuracy: 0.5256WARNING:tensorflow:Gradients do not exist for variables ['tf_bert_model/bert/pooler/dense/kernel:0', 'tf_bert_model/bert/pooler/dense/bias:0'] when minimizing the loss. If you're using `model.compile()`, did you forget to provide a `loss` argument?\n",
      "127/389 [========>.....................] - ETA: 27:43 - loss: 1.3043 - balanced_accuracy: 0.5267WARNING:tensorflow:Gradients do not exist for variables ['tf_bert_model/bert/pooler/dense/kernel:0', 'tf_bert_model/bert/pooler/dense/bias:0'] when minimizing the loss. If you're using `model.compile()`, did you forget to provide a `loss` argument?\n",
      "128/389 [========>.....................] - ETA: 27:37 - loss: 1.3020 - balanced_accuracy: 0.5271WARNING:tensorflow:Gradients do not exist for variables ['tf_bert_model/bert/pooler/dense/kernel:0', 'tf_bert_model/bert/pooler/dense/bias:0'] when minimizing the loss. If you're using `model.compile()`, did you forget to provide a `loss` argument?\n",
      "129/389 [========>.....................] - ETA: 27:31 - loss: 1.3003 - balanced_accuracy: 0.5278WARNING:tensorflow:Gradients do not exist for variables ['tf_bert_model/bert/pooler/dense/kernel:0', 'tf_bert_model/bert/pooler/dense/bias:0'] when minimizing the loss. If you're using `model.compile()`, did you forget to provide a `loss` argument?\n",
      "130/389 [=========>....................] - ETA: 27:26 - loss: 1.2954 - balanced_accuracy: 0.5297WARNING:tensorflow:Gradients do not exist for variables ['tf_bert_model/bert/pooler/dense/kernel:0', 'tf_bert_model/bert/pooler/dense/bias:0'] when minimizing the loss. If you're using `model.compile()`, did you forget to provide a `loss` argument?\n",
      "131/389 [=========>....................] - ETA: 27:21 - loss: 1.2935 - balanced_accuracy: 0.5310WARNING:tensorflow:Gradients do not exist for variables ['tf_bert_model/bert/pooler/dense/kernel:0', 'tf_bert_model/bert/pooler/dense/bias:0'] when minimizing the loss. If you're using `model.compile()`, did you forget to provide a `loss` argument?\n",
      "132/389 [=========>....................] - ETA: 27:16 - loss: 1.2890 - balanced_accuracy: 0.5330WARNING:tensorflow:Gradients do not exist for variables ['tf_bert_model/bert/pooler/dense/kernel:0', 'tf_bert_model/bert/pooler/dense/bias:0'] when minimizing the loss. If you're using `model.compile()`, did you forget to provide a `loss` argument?\n",
      "133/389 [=========>....................] - ETA: 27:10 - loss: 1.2876 - balanced_accuracy: 0.5340WARNING:tensorflow:Gradients do not exist for variables ['tf_bert_model/bert/pooler/dense/kernel:0', 'tf_bert_model/bert/pooler/dense/bias:0'] when minimizing the loss. If you're using `model.compile()`, did you forget to provide a `loss` argument?\n",
      "134/389 [=========>....................] - ETA: 27:03 - loss: 1.2859 - balanced_accuracy: 0.5354WARNING:tensorflow:Gradients do not exist for variables ['tf_bert_model/bert/pooler/dense/kernel:0', 'tf_bert_model/bert/pooler/dense/bias:0'] when minimizing the loss. If you're using `model.compile()`, did you forget to provide a `loss` argument?\n",
      "135/389 [=========>....................] - ETA: 26:56 - loss: 1.2827 - balanced_accuracy: 0.5368WARNING:tensorflow:Gradients do not exist for variables ['tf_bert_model/bert/pooler/dense/kernel:0', 'tf_bert_model/bert/pooler/dense/bias:0'] when minimizing the loss. If you're using `model.compile()`, did you forget to provide a `loss` argument?\n",
      "136/389 [=========>....................] - ETA: 26:48 - loss: 1.2811 - balanced_accuracy: 0.5378WARNING:tensorflow:Gradients do not exist for variables ['tf_bert_model/bert/pooler/dense/kernel:0', 'tf_bert_model/bert/pooler/dense/bias:0'] when minimizing the loss. If you're using `model.compile()`, did you forget to provide a `loss` argument?\n",
      "137/389 [=========>....................] - ETA: 26:41 - loss: 1.2797 - balanced_accuracy: 0.5389WARNING:tensorflow:Gradients do not exist for variables ['tf_bert_model/bert/pooler/dense/kernel:0', 'tf_bert_model/bert/pooler/dense/bias:0'] when minimizing the loss. If you're using `model.compile()`, did you forget to provide a `loss` argument?\n",
      "138/389 [=========>....................] - ETA: 26:33 - loss: 1.2757 - balanced_accuracy: 0.5401WARNING:tensorflow:Gradients do not exist for variables ['tf_bert_model/bert/pooler/dense/kernel:0', 'tf_bert_model/bert/pooler/dense/bias:0'] when minimizing the loss. If you're using `model.compile()`, did you forget to provide a `loss` argument?\n",
      "139/389 [=========>....................] - ETA: 26:25 - loss: 1.2713 - balanced_accuracy: 0.5416WARNING:tensorflow:Gradients do not exist for variables ['tf_bert_model/bert/pooler/dense/kernel:0', 'tf_bert_model/bert/pooler/dense/bias:0'] when minimizing the loss. If you're using `model.compile()`, did you forget to provide a `loss` argument?\n",
      "140/389 [=========>....................] - ETA: 26:18 - loss: 1.2692 - balanced_accuracy: 0.5429WARNING:tensorflow:Gradients do not exist for variables ['tf_bert_model/bert/pooler/dense/kernel:0', 'tf_bert_model/bert/pooler/dense/bias:0'] when minimizing the loss. If you're using `model.compile()`, did you forget to provide a `loss` argument?\n",
      "141/389 [=========>....................] - ETA: 26:10 - loss: 1.2651 - balanced_accuracy: 0.5447WARNING:tensorflow:Gradients do not exist for variables ['tf_bert_model/bert/pooler/dense/kernel:0', 'tf_bert_model/bert/pooler/dense/bias:0'] when minimizing the loss. If you're using `model.compile()`, did you forget to provide a `loss` argument?\n",
      "142/389 [=========>....................] - ETA: 26:02 - loss: 1.2636 - balanced_accuracy: 0.5454WARNING:tensorflow:Gradients do not exist for variables ['tf_bert_model/bert/pooler/dense/kernel:0', 'tf_bert_model/bert/pooler/dense/bias:0'] when minimizing the loss. If you're using `model.compile()`, did you forget to provide a `loss` argument?\n",
      "143/389 [==========>...................] - ETA: 25:54 - loss: 1.2611 - balanced_accuracy: 0.5472WARNING:tensorflow:Gradients do not exist for variables ['tf_bert_model/bert/pooler/dense/kernel:0', 'tf_bert_model/bert/pooler/dense/bias:0'] when minimizing the loss. If you're using `model.compile()`, did you forget to provide a `loss` argument?\n",
      "144/389 [==========>...................] - ETA: 25:46 - loss: 1.2587 - balanced_accuracy: 0.5476WARNING:tensorflow:Gradients do not exist for variables ['tf_bert_model/bert/pooler/dense/kernel:0', 'tf_bert_model/bert/pooler/dense/bias:0'] when minimizing the loss. If you're using `model.compile()`, did you forget to provide a `loss` argument?\n",
      "145/389 [==========>...................] - ETA: 25:39 - loss: 1.2569 - balanced_accuracy: 0.5485WARNING:tensorflow:Gradients do not exist for variables ['tf_bert_model/bert/pooler/dense/kernel:0', 'tf_bert_model/bert/pooler/dense/bias:0'] when minimizing the loss. If you're using `model.compile()`, did you forget to provide a `loss` argument?\n",
      "146/389 [==========>...................] - ETA: 25:32 - loss: 1.2534 - balanced_accuracy: 0.5498WARNING:tensorflow:Gradients do not exist for variables ['tf_bert_model/bert/pooler/dense/kernel:0', 'tf_bert_model/bert/pooler/dense/bias:0'] when minimizing the loss. If you're using `model.compile()`, did you forget to provide a `loss` argument?\n",
      "147/389 [==========>...................] - ETA: 25:25 - loss: 1.2524 - balanced_accuracy: 0.5505WARNING:tensorflow:Gradients do not exist for variables ['tf_bert_model/bert/pooler/dense/kernel:0', 'tf_bert_model/bert/pooler/dense/bias:0'] when minimizing the loss. If you're using `model.compile()`, did you forget to provide a `loss` argument?\n",
      "148/389 [==========>...................] - ETA: 25:18 - loss: 1.2501 - balanced_accuracy: 0.5514WARNING:tensorflow:Gradients do not exist for variables ['tf_bert_model/bert/pooler/dense/kernel:0', 'tf_bert_model/bert/pooler/dense/bias:0'] when minimizing the loss. If you're using `model.compile()`, did you forget to provide a `loss` argument?\n",
      "149/389 [==========>...................] - ETA: 25:10 - loss: 1.2459 - balanced_accuracy: 0.5528WARNING:tensorflow:Gradients do not exist for variables ['tf_bert_model/bert/pooler/dense/kernel:0', 'tf_bert_model/bert/pooler/dense/bias:0'] when minimizing the loss. If you're using `model.compile()`, did you forget to provide a `loss` argument?\n",
      "150/389 [==========>...................] - ETA: 25:02 - loss: 1.2432 - balanced_accuracy: 0.5543WARNING:tensorflow:Gradients do not exist for variables ['tf_bert_model/bert/pooler/dense/kernel:0', 'tf_bert_model/bert/pooler/dense/bias:0'] when minimizing the loss. If you're using `model.compile()`, did you forget to provide a `loss` argument?\n",
      "151/389 [==========>...................] - ETA: 24:55 - loss: 1.2406 - balanced_accuracy: 0.5556WARNING:tensorflow:Gradients do not exist for variables ['tf_bert_model/bert/pooler/dense/kernel:0', 'tf_bert_model/bert/pooler/dense/bias:0'] when minimizing the loss. If you're using `model.compile()`, did you forget to provide a `loss` argument?\n",
      "152/389 [==========>...................] - ETA: 24:48 - loss: 1.2369 - balanced_accuracy: 0.5568WARNING:tensorflow:Gradients do not exist for variables ['tf_bert_model/bert/pooler/dense/kernel:0', 'tf_bert_model/bert/pooler/dense/bias:0'] when minimizing the loss. If you're using `model.compile()`, did you forget to provide a `loss` argument?\n",
      "153/389 [==========>...................] - ETA: 24:40 - loss: 1.2331 - balanced_accuracy: 0.5583WARNING:tensorflow:Gradients do not exist for variables ['tf_bert_model/bert/pooler/dense/kernel:0', 'tf_bert_model/bert/pooler/dense/bias:0'] when minimizing the loss. If you're using `model.compile()`, did you forget to provide a `loss` argument?\n",
      "154/389 [==========>...................] - ETA: 24:32 - loss: 1.2316 - balanced_accuracy: 0.5590WARNING:tensorflow:Gradients do not exist for variables ['tf_bert_model/bert/pooler/dense/kernel:0', 'tf_bert_model/bert/pooler/dense/bias:0'] when minimizing the loss. If you're using `model.compile()`, did you forget to provide a `loss` argument?\n",
      "155/389 [==========>...................] - ETA: 24:25 - loss: 1.2282 - balanced_accuracy: 0.5599WARNING:tensorflow:Gradients do not exist for variables ['tf_bert_model/bert/pooler/dense/kernel:0', 'tf_bert_model/bert/pooler/dense/bias:0'] when minimizing the loss. If you're using `model.compile()`, did you forget to provide a `loss` argument?\n",
      "156/389 [===========>..................] - ETA: 24:18 - loss: 1.2261 - balanced_accuracy: 0.5607WARNING:tensorflow:Gradients do not exist for variables ['tf_bert_model/bert/pooler/dense/kernel:0', 'tf_bert_model/bert/pooler/dense/bias:0'] when minimizing the loss. If you're using `model.compile()`, did you forget to provide a `loss` argument?\n",
      "157/389 [===========>..................] - ETA: 24:10 - loss: 1.2234 - balanced_accuracy: 0.5614WARNING:tensorflow:Gradients do not exist for variables ['tf_bert_model/bert/pooler/dense/kernel:0', 'tf_bert_model/bert/pooler/dense/bias:0'] when minimizing the loss. If you're using `model.compile()`, did you forget to provide a `loss` argument?\n",
      "158/389 [===========>..................] - ETA: 24:02 - loss: 1.2197 - balanced_accuracy: 0.5631WARNING:tensorflow:Gradients do not exist for variables ['tf_bert_model/bert/pooler/dense/kernel:0', 'tf_bert_model/bert/pooler/dense/bias:0'] when minimizing the loss. If you're using `model.compile()`, did you forget to provide a `loss` argument?\n",
      "159/389 [===========>..................] - ETA: 23:55 - loss: 1.2166 - balanced_accuracy: 0.5646WARNING:tensorflow:Gradients do not exist for variables ['tf_bert_model/bert/pooler/dense/kernel:0', 'tf_bert_model/bert/pooler/dense/bias:0'] when minimizing the loss. If you're using `model.compile()`, did you forget to provide a `loss` argument?\n",
      "160/389 [===========>..................] - ETA: 23:48 - loss: 1.2148 - balanced_accuracy: 0.5655WARNING:tensorflow:Gradients do not exist for variables ['tf_bert_model/bert/pooler/dense/kernel:0', 'tf_bert_model/bert/pooler/dense/bias:0'] when minimizing the loss. If you're using `model.compile()`, did you forget to provide a `loss` argument?\n",
      "161/389 [===========>..................] - ETA: 23:41 - loss: 1.2121 - balanced_accuracy: 0.5671WARNING:tensorflow:Gradients do not exist for variables ['tf_bert_model/bert/pooler/dense/kernel:0', 'tf_bert_model/bert/pooler/dense/bias:0'] when minimizing the loss. If you're using `model.compile()`, did you forget to provide a `loss` argument?\n",
      "162/389 [===========>..................] - ETA: 23:34 - loss: 1.2090 - balanced_accuracy: 0.5684WARNING:tensorflow:Gradients do not exist for variables ['tf_bert_model/bert/pooler/dense/kernel:0', 'tf_bert_model/bert/pooler/dense/bias:0'] when minimizing the loss. If you're using `model.compile()`, did you forget to provide a `loss` argument?\n",
      "163/389 [===========>..................] - ETA: 23:26 - loss: 1.2055 - balanced_accuracy: 0.5699WARNING:tensorflow:Gradients do not exist for variables ['tf_bert_model/bert/pooler/dense/kernel:0', 'tf_bert_model/bert/pooler/dense/bias:0'] when minimizing the loss. If you're using `model.compile()`, did you forget to provide a `loss` argument?\n",
      "164/389 [===========>..................] - ETA: 23:19 - loss: 1.2032 - balanced_accuracy: 0.5708WARNING:tensorflow:Gradients do not exist for variables ['tf_bert_model/bert/pooler/dense/kernel:0', 'tf_bert_model/bert/pooler/dense/bias:0'] when minimizing the loss. If you're using `model.compile()`, did you forget to provide a `loss` argument?\n",
      "165/389 [===========>..................] - ETA: 23:12 - loss: 1.1996 - balanced_accuracy: 0.5721WARNING:tensorflow:Gradients do not exist for variables ['tf_bert_model/bert/pooler/dense/kernel:0', 'tf_bert_model/bert/pooler/dense/bias:0'] when minimizing the loss. If you're using `model.compile()`, did you forget to provide a `loss` argument?\n",
      "166/389 [===========>..................] - ETA: 23:05 - loss: 1.1982 - balanced_accuracy: 0.5726WARNING:tensorflow:Gradients do not exist for variables ['tf_bert_model/bert/pooler/dense/kernel:0', 'tf_bert_model/bert/pooler/dense/bias:0'] when minimizing the loss. If you're using `model.compile()`, did you forget to provide a `loss` argument?\n",
      "167/389 [===========>..................] - ETA: 22:59 - loss: 1.1954 - balanced_accuracy: 0.5737WARNING:tensorflow:Gradients do not exist for variables ['tf_bert_model/bert/pooler/dense/kernel:0', 'tf_bert_model/bert/pooler/dense/bias:0'] when minimizing the loss. If you're using `model.compile()`, did you forget to provide a `loss` argument?\n",
      "168/389 [===========>..................] - ETA: 22:51 - loss: 1.1922 - balanced_accuracy: 0.5752WARNING:tensorflow:Gradients do not exist for variables ['tf_bert_model/bert/pooler/dense/kernel:0', 'tf_bert_model/bert/pooler/dense/bias:0'] when minimizing the loss. If you're using `model.compile()`, did you forget to provide a `loss` argument?\n",
      "169/389 [============>.................] - ETA: 22:44 - loss: 1.1893 - balanced_accuracy: 0.5764WARNING:tensorflow:Gradients do not exist for variables ['tf_bert_model/bert/pooler/dense/kernel:0', 'tf_bert_model/bert/pooler/dense/bias:0'] when minimizing the loss. If you're using `model.compile()`, did you forget to provide a `loss` argument?\n",
      "170/389 [============>.................] - ETA: 22:36 - loss: 1.1862 - balanced_accuracy: 0.5778WARNING:tensorflow:Gradients do not exist for variables ['tf_bert_model/bert/pooler/dense/kernel:0', 'tf_bert_model/bert/pooler/dense/bias:0'] when minimizing the loss. If you're using `model.compile()`, did you forget to provide a `loss` argument?\n",
      "171/389 [============>.................] - ETA: 22:29 - loss: 1.1847 - balanced_accuracy: 0.5780WARNING:tensorflow:Gradients do not exist for variables ['tf_bert_model/bert/pooler/dense/kernel:0', 'tf_bert_model/bert/pooler/dense/bias:0'] when minimizing the loss. If you're using `model.compile()`, did you forget to provide a `loss` argument?\n",
      "172/389 [============>.................] - ETA: 22:22 - loss: 1.1818 - balanced_accuracy: 0.5790WARNING:tensorflow:Gradients do not exist for variables ['tf_bert_model/bert/pooler/dense/kernel:0', 'tf_bert_model/bert/pooler/dense/bias:0'] when minimizing the loss. If you're using `model.compile()`, did you forget to provide a `loss` argument?\n",
      "173/389 [============>.................] - ETA: 22:15 - loss: 1.1812 - balanced_accuracy: 0.5793WARNING:tensorflow:Gradients do not exist for variables ['tf_bert_model/bert/pooler/dense/kernel:0', 'tf_bert_model/bert/pooler/dense/bias:0'] when minimizing the loss. If you're using `model.compile()`, did you forget to provide a `loss` argument?\n",
      "174/389 [============>.................] - ETA: 22:08 - loss: 1.1786 - balanced_accuracy: 0.5801WARNING:tensorflow:Gradients do not exist for variables ['tf_bert_model/bert/pooler/dense/kernel:0', 'tf_bert_model/bert/pooler/dense/bias:0'] when minimizing the loss. If you're using `model.compile()`, did you forget to provide a `loss` argument?\n",
      "175/389 [============>.................] - ETA: 22:01 - loss: 1.1771 - balanced_accuracy: 0.5810WARNING:tensorflow:Gradients do not exist for variables ['tf_bert_model/bert/pooler/dense/kernel:0', 'tf_bert_model/bert/pooler/dense/bias:0'] when minimizing the loss. If you're using `model.compile()`, did you forget to provide a `loss` argument?\n",
      "176/389 [============>.................] - ETA: 21:54 - loss: 1.1741 - balanced_accuracy: 0.5819WARNING:tensorflow:Gradients do not exist for variables ['tf_bert_model/bert/pooler/dense/kernel:0', 'tf_bert_model/bert/pooler/dense/bias:0'] when minimizing the loss. If you're using `model.compile()`, did you forget to provide a `loss` argument?\n",
      "177/389 [============>.................] - ETA: 21:46 - loss: 1.1718 - balanced_accuracy: 0.5825WARNING:tensorflow:Gradients do not exist for variables ['tf_bert_model/bert/pooler/dense/kernel:0', 'tf_bert_model/bert/pooler/dense/bias:0'] when minimizing the loss. If you're using `model.compile()`, did you forget to provide a `loss` argument?\n",
      "178/389 [============>.................] - ETA: 21:39 - loss: 1.1700 - balanced_accuracy: 0.5835WARNING:tensorflow:Gradients do not exist for variables ['tf_bert_model/bert/pooler/dense/kernel:0', 'tf_bert_model/bert/pooler/dense/bias:0'] when minimizing the loss. If you're using `model.compile()`, did you forget to provide a `loss` argument?\n",
      "179/389 [============>.................] - ETA: 21:33 - loss: 1.1666 - balanced_accuracy: 0.5846WARNING:tensorflow:Gradients do not exist for variables ['tf_bert_model/bert/pooler/dense/kernel:0', 'tf_bert_model/bert/pooler/dense/bias:0'] when minimizing the loss. If you're using `model.compile()`, did you forget to provide a `loss` argument?\n",
      "180/389 [============>.................] - ETA: 21:26 - loss: 1.1631 - balanced_accuracy: 0.5863WARNING:tensorflow:Gradients do not exist for variables ['tf_bert_model/bert/pooler/dense/kernel:0', 'tf_bert_model/bert/pooler/dense/bias:0'] when minimizing the loss. If you're using `model.compile()`, did you forget to provide a `loss` argument?\n",
      "181/389 [============>.................] - ETA: 21:19 - loss: 1.1605 - balanced_accuracy: 0.5872WARNING:tensorflow:Gradients do not exist for variables ['tf_bert_model/bert/pooler/dense/kernel:0', 'tf_bert_model/bert/pooler/dense/bias:0'] when minimizing the loss. If you're using `model.compile()`, did you forget to provide a `loss` argument?\n",
      "182/389 [=============>................] - ETA: 21:12 - loss: 1.1581 - balanced_accuracy: 0.5882WARNING:tensorflow:Gradients do not exist for variables ['tf_bert_model/bert/pooler/dense/kernel:0', 'tf_bert_model/bert/pooler/dense/bias:0'] when minimizing the loss. If you're using `model.compile()`, did you forget to provide a `loss` argument?\n",
      "183/389 [=============>................] - ETA: 21:05 - loss: 1.1565 - balanced_accuracy: 0.5891WARNING:tensorflow:Gradients do not exist for variables ['tf_bert_model/bert/pooler/dense/kernel:0', 'tf_bert_model/bert/pooler/dense/bias:0'] when minimizing the loss. If you're using `model.compile()`, did you forget to provide a `loss` argument?\n",
      "184/389 [=============>................] - ETA: 20:59 - loss: 1.1553 - balanced_accuracy: 0.5898WARNING:tensorflow:Gradients do not exist for variables ['tf_bert_model/bert/pooler/dense/kernel:0', 'tf_bert_model/bert/pooler/dense/bias:0'] when minimizing the loss. If you're using `model.compile()`, did you forget to provide a `loss` argument?\n",
      "185/389 [=============>................] - ETA: 20:51 - loss: 1.1527 - balanced_accuracy: 0.5907WARNING:tensorflow:Gradients do not exist for variables ['tf_bert_model/bert/pooler/dense/kernel:0', 'tf_bert_model/bert/pooler/dense/bias:0'] when minimizing the loss. If you're using `model.compile()`, did you forget to provide a `loss` argument?\n",
      "186/389 [=============>................] - ETA: 20:44 - loss: 1.1492 - balanced_accuracy: 0.5918WARNING:tensorflow:Gradients do not exist for variables ['tf_bert_model/bert/pooler/dense/kernel:0', 'tf_bert_model/bert/pooler/dense/bias:0'] when minimizing the loss. If you're using `model.compile()`, did you forget to provide a `loss` argument?\n",
      "187/389 [=============>................] - ETA: 20:37 - loss: 1.1465 - balanced_accuracy: 0.5931WARNING:tensorflow:Gradients do not exist for variables ['tf_bert_model/bert/pooler/dense/kernel:0', 'tf_bert_model/bert/pooler/dense/bias:0'] when minimizing the loss. If you're using `model.compile()`, did you forget to provide a `loss` argument?\n",
      "188/389 [=============>................] - ETA: 20:31 - loss: 1.1441 - balanced_accuracy: 0.5941WARNING:tensorflow:Gradients do not exist for variables ['tf_bert_model/bert/pooler/dense/kernel:0', 'tf_bert_model/bert/pooler/dense/bias:0'] when minimizing the loss. If you're using `model.compile()`, did you forget to provide a `loss` argument?\n",
      "189/389 [=============>................] - ETA: 20:25 - loss: 1.1405 - balanced_accuracy: 0.5952WARNING:tensorflow:Gradients do not exist for variables ['tf_bert_model/bert/pooler/dense/kernel:0', 'tf_bert_model/bert/pooler/dense/bias:0'] when minimizing the loss. If you're using `model.compile()`, did you forget to provide a `loss` argument?\n",
      "190/389 [=============>................] - ETA: 20:18 - loss: 1.1370 - balanced_accuracy: 0.5965WARNING:tensorflow:Gradients do not exist for variables ['tf_bert_model/bert/pooler/dense/kernel:0', 'tf_bert_model/bert/pooler/dense/bias:0'] when minimizing the loss. If you're using `model.compile()`, did you forget to provide a `loss` argument?\n",
      "191/389 [=============>................] - ETA: 20:11 - loss: 1.1351 - balanced_accuracy: 0.5970WARNING:tensorflow:Gradients do not exist for variables ['tf_bert_model/bert/pooler/dense/kernel:0', 'tf_bert_model/bert/pooler/dense/bias:0'] when minimizing the loss. If you're using `model.compile()`, did you forget to provide a `loss` argument?\n",
      "192/389 [=============>................] - ETA: 20:04 - loss: 1.1332 - balanced_accuracy: 0.5974WARNING:tensorflow:Gradients do not exist for variables ['tf_bert_model/bert/pooler/dense/kernel:0', 'tf_bert_model/bert/pooler/dense/bias:0'] when minimizing the loss. If you're using `model.compile()`, did you forget to provide a `loss` argument?\n",
      "193/389 [=============>................] - ETA: 19:58 - loss: 1.1298 - balanced_accuracy: 0.5987WARNING:tensorflow:Gradients do not exist for variables ['tf_bert_model/bert/pooler/dense/kernel:0', 'tf_bert_model/bert/pooler/dense/bias:0'] when minimizing the loss. If you're using `model.compile()`, did you forget to provide a `loss` argument?\n",
      "194/389 [=============>................] - ETA: 19:51 - loss: 1.1271 - balanced_accuracy: 0.5998WARNING:tensorflow:Gradients do not exist for variables ['tf_bert_model/bert/pooler/dense/kernel:0', 'tf_bert_model/bert/pooler/dense/bias:0'] when minimizing the loss. If you're using `model.compile()`, did you forget to provide a `loss` argument?\n",
      "195/389 [==============>...............] - ETA: 19:44 - loss: 1.1249 - balanced_accuracy: 0.6010WARNING:tensorflow:Gradients do not exist for variables ['tf_bert_model/bert/pooler/dense/kernel:0', 'tf_bert_model/bert/pooler/dense/bias:0'] when minimizing the loss. If you're using `model.compile()`, did you forget to provide a `loss` argument?\n",
      "196/389 [==============>...............] - ETA: 19:38 - loss: 1.1227 - balanced_accuracy: 0.6018WARNING:tensorflow:Gradients do not exist for variables ['tf_bert_model/bert/pooler/dense/kernel:0', 'tf_bert_model/bert/pooler/dense/bias:0'] when minimizing the loss. If you're using `model.compile()`, did you forget to provide a `loss` argument?\n",
      "197/389 [==============>...............] - ETA: 19:31 - loss: 1.1203 - balanced_accuracy: 0.6024WARNING:tensorflow:Gradients do not exist for variables ['tf_bert_model/bert/pooler/dense/kernel:0', 'tf_bert_model/bert/pooler/dense/bias:0'] when minimizing the loss. If you're using `model.compile()`, did you forget to provide a `loss` argument?\n",
      "198/389 [==============>...............] - ETA: 19:25 - loss: 1.1177 - balanced_accuracy: 0.6033WARNING:tensorflow:Gradients do not exist for variables ['tf_bert_model/bert/pooler/dense/kernel:0', 'tf_bert_model/bert/pooler/dense/bias:0'] when minimizing the loss. If you're using `model.compile()`, did you forget to provide a `loss` argument?\n",
      "199/389 [==============>...............] - ETA: 19:18 - loss: 1.1160 - balanced_accuracy: 0.6041WARNING:tensorflow:Gradients do not exist for variables ['tf_bert_model/bert/pooler/dense/kernel:0', 'tf_bert_model/bert/pooler/dense/bias:0'] when minimizing the loss. If you're using `model.compile()`, did you forget to provide a `loss` argument?\n",
      "200/389 [==============>...............] - ETA: 19:11 - loss: 1.1143 - balanced_accuracy: 0.6047WARNING:tensorflow:Gradients do not exist for variables ['tf_bert_model/bert/pooler/dense/kernel:0', 'tf_bert_model/bert/pooler/dense/bias:0'] when minimizing the loss. If you're using `model.compile()`, did you forget to provide a `loss` argument?\n",
      "201/389 [==============>...............] - ETA: 19:05 - loss: 1.1117 - balanced_accuracy: 0.6059WARNING:tensorflow:Gradients do not exist for variables ['tf_bert_model/bert/pooler/dense/kernel:0', 'tf_bert_model/bert/pooler/dense/bias:0'] when minimizing the loss. If you're using `model.compile()`, did you forget to provide a `loss` argument?\n",
      "202/389 [==============>...............] - ETA: 18:58 - loss: 1.1093 - balanced_accuracy: 0.6067WARNING:tensorflow:Gradients do not exist for variables ['tf_bert_model/bert/pooler/dense/kernel:0', 'tf_bert_model/bert/pooler/dense/bias:0'] when minimizing the loss. If you're using `model.compile()`, did you forget to provide a `loss` argument?\n",
      "203/389 [==============>...............] - ETA: 18:51 - loss: 1.1088 - balanced_accuracy: 0.6067WARNING:tensorflow:Gradients do not exist for variables ['tf_bert_model/bert/pooler/dense/kernel:0', 'tf_bert_model/bert/pooler/dense/bias:0'] when minimizing the loss. If you're using `model.compile()`, did you forget to provide a `loss` argument?\n",
      "204/389 [==============>...............] - ETA: 18:44 - loss: 1.1078 - balanced_accuracy: 0.6074WARNING:tensorflow:Gradients do not exist for variables ['tf_bert_model/bert/pooler/dense/kernel:0', 'tf_bert_model/bert/pooler/dense/bias:0'] when minimizing the loss. If you're using `model.compile()`, did you forget to provide a `loss` argument?\n",
      "205/389 [==============>...............] - ETA: 18:38 - loss: 1.1046 - balanced_accuracy: 0.6087WARNING:tensorflow:Gradients do not exist for variables ['tf_bert_model/bert/pooler/dense/kernel:0', 'tf_bert_model/bert/pooler/dense/bias:0'] when minimizing the loss. If you're using `model.compile()`, did you forget to provide a `loss` argument?\n",
      "206/389 [==============>...............] - ETA: 18:31 - loss: 1.1022 - balanced_accuracy: 0.6095WARNING:tensorflow:Gradients do not exist for variables ['tf_bert_model/bert/pooler/dense/kernel:0', 'tf_bert_model/bert/pooler/dense/bias:0'] when minimizing the loss. If you're using `model.compile()`, did you forget to provide a `loss` argument?\n",
      "207/389 [==============>...............] - ETA: 18:24 - loss: 1.0998 - balanced_accuracy: 0.6106WARNING:tensorflow:Gradients do not exist for variables ['tf_bert_model/bert/pooler/dense/kernel:0', 'tf_bert_model/bert/pooler/dense/bias:0'] when minimizing the loss. If you're using `model.compile()`, did you forget to provide a `loss` argument?\n",
      "208/389 [===============>..............] - ETA: 18:17 - loss: 1.0984 - balanced_accuracy: 0.6107WARNING:tensorflow:Gradients do not exist for variables ['tf_bert_model/bert/pooler/dense/kernel:0', 'tf_bert_model/bert/pooler/dense/bias:0'] when minimizing the loss. If you're using `model.compile()`, did you forget to provide a `loss` argument?\n",
      "209/389 [===============>..............] - ETA: 18:10 - loss: 1.0977 - balanced_accuracy: 0.6111WARNING:tensorflow:Gradients do not exist for variables ['tf_bert_model/bert/pooler/dense/kernel:0', 'tf_bert_model/bert/pooler/dense/bias:0'] when minimizing the loss. If you're using `model.compile()`, did you forget to provide a `loss` argument?\n",
      "210/389 [===============>..............] - ETA: 18:04 - loss: 1.0954 - balanced_accuracy: 0.6118WARNING:tensorflow:Gradients do not exist for variables ['tf_bert_model/bert/pooler/dense/kernel:0', 'tf_bert_model/bert/pooler/dense/bias:0'] when minimizing the loss. If you're using `model.compile()`, did you forget to provide a `loss` argument?\n",
      "211/389 [===============>..............] - ETA: 17:57 - loss: 1.0933 - balanced_accuracy: 0.6126WARNING:tensorflow:Gradients do not exist for variables ['tf_bert_model/bert/pooler/dense/kernel:0', 'tf_bert_model/bert/pooler/dense/bias:0'] when minimizing the loss. If you're using `model.compile()`, did you forget to provide a `loss` argument?\n",
      "212/389 [===============>..............] - ETA: 17:51 - loss: 1.0917 - balanced_accuracy: 0.6135WARNING:tensorflow:Gradients do not exist for variables ['tf_bert_model/bert/pooler/dense/kernel:0', 'tf_bert_model/bert/pooler/dense/bias:0'] when minimizing the loss. If you're using `model.compile()`, did you forget to provide a `loss` argument?\n",
      "213/389 [===============>..............] - ETA: 17:44 - loss: 1.0899 - balanced_accuracy: 0.6141WARNING:tensorflow:Gradients do not exist for variables ['tf_bert_model/bert/pooler/dense/kernel:0', 'tf_bert_model/bert/pooler/dense/bias:0'] when minimizing the loss. If you're using `model.compile()`, did you forget to provide a `loss` argument?\n",
      "214/389 [===============>..............] - ETA: 17:37 - loss: 1.0884 - balanced_accuracy: 0.6149WARNING:tensorflow:Gradients do not exist for variables ['tf_bert_model/bert/pooler/dense/kernel:0', 'tf_bert_model/bert/pooler/dense/bias:0'] when minimizing the loss. If you're using `model.compile()`, did you forget to provide a `loss` argument?\n",
      "215/389 [===============>..............] - ETA: 17:31 - loss: 1.0869 - balanced_accuracy: 0.6154WARNING:tensorflow:Gradients do not exist for variables ['tf_bert_model/bert/pooler/dense/kernel:0', 'tf_bert_model/bert/pooler/dense/bias:0'] when minimizing the loss. If you're using `model.compile()`, did you forget to provide a `loss` argument?\n",
      "216/389 [===============>..............] - ETA: 17:24 - loss: 1.0847 - balanced_accuracy: 0.6161WARNING:tensorflow:Gradients do not exist for variables ['tf_bert_model/bert/pooler/dense/kernel:0', 'tf_bert_model/bert/pooler/dense/bias:0'] when minimizing the loss. If you're using `model.compile()`, did you forget to provide a `loss` argument?\n",
      "217/389 [===============>..............] - ETA: 17:18 - loss: 1.0829 - balanced_accuracy: 0.6170WARNING:tensorflow:Gradients do not exist for variables ['tf_bert_model/bert/pooler/dense/kernel:0', 'tf_bert_model/bert/pooler/dense/bias:0'] when minimizing the loss. If you're using `model.compile()`, did you forget to provide a `loss` argument?\n",
      "218/389 [===============>..............] - ETA: 17:11 - loss: 1.0806 - balanced_accuracy: 0.6179WARNING:tensorflow:Gradients do not exist for variables ['tf_bert_model/bert/pooler/dense/kernel:0', 'tf_bert_model/bert/pooler/dense/bias:0'] when minimizing the loss. If you're using `model.compile()`, did you forget to provide a `loss` argument?\n",
      "219/389 [===============>..............] - ETA: 17:04 - loss: 1.0776 - balanced_accuracy: 0.6190WARNING:tensorflow:Gradients do not exist for variables ['tf_bert_model/bert/pooler/dense/kernel:0', 'tf_bert_model/bert/pooler/dense/bias:0'] when minimizing the loss. If you're using `model.compile()`, did you forget to provide a `loss` argument?\n",
      "220/389 [===============>..............] - ETA: 16:58 - loss: 1.0752 - balanced_accuracy: 0.6198WARNING:tensorflow:Gradients do not exist for variables ['tf_bert_model/bert/pooler/dense/kernel:0', 'tf_bert_model/bert/pooler/dense/bias:0'] when minimizing the loss. If you're using `model.compile()`, did you forget to provide a `loss` argument?\n",
      "221/389 [================>.............] - ETA: 16:51 - loss: 1.0743 - balanced_accuracy: 0.6203WARNING:tensorflow:Gradients do not exist for variables ['tf_bert_model/bert/pooler/dense/kernel:0', 'tf_bert_model/bert/pooler/dense/bias:0'] when minimizing the loss. If you're using `model.compile()`, did you forget to provide a `loss` argument?\n",
      "222/389 [================>.............] - ETA: 16:44 - loss: 1.0726 - balanced_accuracy: 0.6211WARNING:tensorflow:Gradients do not exist for variables ['tf_bert_model/bert/pooler/dense/kernel:0', 'tf_bert_model/bert/pooler/dense/bias:0'] when minimizing the loss. If you're using `model.compile()`, did you forget to provide a `loss` argument?\n",
      "223/389 [================>.............] - ETA: 16:38 - loss: 1.0714 - balanced_accuracy: 0.6218WARNING:tensorflow:Gradients do not exist for variables ['tf_bert_model/bert/pooler/dense/kernel:0', 'tf_bert_model/bert/pooler/dense/bias:0'] when minimizing the loss. If you're using `model.compile()`, did you forget to provide a `loss` argument?\n",
      "224/389 [================>.............] - ETA: 16:32 - loss: 1.0685 - balanced_accuracy: 0.6229WARNING:tensorflow:Gradients do not exist for variables ['tf_bert_model/bert/pooler/dense/kernel:0', 'tf_bert_model/bert/pooler/dense/bias:0'] when minimizing the loss. If you're using `model.compile()`, did you forget to provide a `loss` argument?\n",
      "225/389 [================>.............] - ETA: 16:25 - loss: 1.0659 - balanced_accuracy: 0.6237WARNING:tensorflow:Gradients do not exist for variables ['tf_bert_model/bert/pooler/dense/kernel:0', 'tf_bert_model/bert/pooler/dense/bias:0'] when minimizing the loss. If you're using `model.compile()`, did you forget to provide a `loss` argument?\n",
      "226/389 [================>.............] - ETA: 16:19 - loss: 1.0646 - balanced_accuracy: 0.6240WARNING:tensorflow:Gradients do not exist for variables ['tf_bert_model/bert/pooler/dense/kernel:0', 'tf_bert_model/bert/pooler/dense/bias:0'] when minimizing the loss. If you're using `model.compile()`, did you forget to provide a `loss` argument?\n",
      "227/389 [================>.............] - ETA: 16:12 - loss: 1.0615 - balanced_accuracy: 0.6253WARNING:tensorflow:Gradients do not exist for variables ['tf_bert_model/bert/pooler/dense/kernel:0', 'tf_bert_model/bert/pooler/dense/bias:0'] when minimizing the loss. If you're using `model.compile()`, did you forget to provide a `loss` argument?\n",
      "228/389 [================>.............] - ETA: 16:06 - loss: 1.0600 - balanced_accuracy: 0.6261WARNING:tensorflow:Gradients do not exist for variables ['tf_bert_model/bert/pooler/dense/kernel:0', 'tf_bert_model/bert/pooler/dense/bias:0'] when minimizing the loss. If you're using `model.compile()`, did you forget to provide a `loss` argument?\n",
      "229/389 [================>.............] - ETA: 15:59 - loss: 1.0578 - balanced_accuracy: 0.6271WARNING:tensorflow:Gradients do not exist for variables ['tf_bert_model/bert/pooler/dense/kernel:0', 'tf_bert_model/bert/pooler/dense/bias:0'] when minimizing the loss. If you're using `model.compile()`, did you forget to provide a `loss` argument?\n",
      "230/389 [================>.............] - ETA: 15:53 - loss: 1.0563 - balanced_accuracy: 0.6278WARNING:tensorflow:Gradients do not exist for variables ['tf_bert_model/bert/pooler/dense/kernel:0', 'tf_bert_model/bert/pooler/dense/bias:0'] when minimizing the loss. If you're using `model.compile()`, did you forget to provide a `loss` argument?\n",
      "231/389 [================>.............] - ETA: 15:46 - loss: 1.0550 - balanced_accuracy: 0.6282WARNING:tensorflow:Gradients do not exist for variables ['tf_bert_model/bert/pooler/dense/kernel:0', 'tf_bert_model/bert/pooler/dense/bias:0'] when minimizing the loss. If you're using `model.compile()`, did you forget to provide a `loss` argument?\n",
      "232/389 [================>.............] - ETA: 15:40 - loss: 1.0529 - balanced_accuracy: 0.6291WARNING:tensorflow:Gradients do not exist for variables ['tf_bert_model/bert/pooler/dense/kernel:0', 'tf_bert_model/bert/pooler/dense/bias:0'] when minimizing the loss. If you're using `model.compile()`, did you forget to provide a `loss` argument?\n",
      "233/389 [================>.............] - ETA: 15:34 - loss: 1.0524 - balanced_accuracy: 0.6295WARNING:tensorflow:Gradients do not exist for variables ['tf_bert_model/bert/pooler/dense/kernel:0', 'tf_bert_model/bert/pooler/dense/bias:0'] when minimizing the loss. If you're using `model.compile()`, did you forget to provide a `loss` argument?\n",
      "234/389 [=================>............] - ETA: 15:27 - loss: 1.0510 - balanced_accuracy: 0.6300WARNING:tensorflow:Gradients do not exist for variables ['tf_bert_model/bert/pooler/dense/kernel:0', 'tf_bert_model/bert/pooler/dense/bias:0'] when minimizing the loss. If you're using `model.compile()`, did you forget to provide a `loss` argument?\n",
      "235/389 [=================>............] - ETA: 15:21 - loss: 1.0492 - balanced_accuracy: 0.6309WARNING:tensorflow:Gradients do not exist for variables ['tf_bert_model/bert/pooler/dense/kernel:0', 'tf_bert_model/bert/pooler/dense/bias:0'] when minimizing the loss. If you're using `model.compile()`, did you forget to provide a `loss` argument?\n",
      "236/389 [=================>............] - ETA: 15:15 - loss: 1.0467 - balanced_accuracy: 0.6318WARNING:tensorflow:Gradients do not exist for variables ['tf_bert_model/bert/pooler/dense/kernel:0', 'tf_bert_model/bert/pooler/dense/bias:0'] when minimizing the loss. If you're using `model.compile()`, did you forget to provide a `loss` argument?\n",
      "237/389 [=================>............] - ETA: 15:08 - loss: 1.0464 - balanced_accuracy: 0.6322WARNING:tensorflow:Gradients do not exist for variables ['tf_bert_model/bert/pooler/dense/kernel:0', 'tf_bert_model/bert/pooler/dense/bias:0'] when minimizing the loss. If you're using `model.compile()`, did you forget to provide a `loss` argument?\n",
      "238/389 [=================>............] - ETA: 15:02 - loss: 1.0444 - balanced_accuracy: 0.6327WARNING:tensorflow:Gradients do not exist for variables ['tf_bert_model/bert/pooler/dense/kernel:0', 'tf_bert_model/bert/pooler/dense/bias:0'] when minimizing the loss. If you're using `model.compile()`, did you forget to provide a `loss` argument?\n",
      "239/389 [=================>............] - ETA: 14:56 - loss: 1.0417 - balanced_accuracy: 0.6335WARNING:tensorflow:Gradients do not exist for variables ['tf_bert_model/bert/pooler/dense/kernel:0', 'tf_bert_model/bert/pooler/dense/bias:0'] when minimizing the loss. If you're using `model.compile()`, did you forget to provide a `loss` argument?\n",
      "240/389 [=================>............] - ETA: 14:49 - loss: 1.0402 - balanced_accuracy: 0.6340WARNING:tensorflow:Gradients do not exist for variables ['tf_bert_model/bert/pooler/dense/kernel:0', 'tf_bert_model/bert/pooler/dense/bias:0'] when minimizing the loss. If you're using `model.compile()`, did you forget to provide a `loss` argument?\n",
      "241/389 [=================>............] - ETA: 14:43 - loss: 1.0385 - balanced_accuracy: 0.6346WARNING:tensorflow:Gradients do not exist for variables ['tf_bert_model/bert/pooler/dense/kernel:0', 'tf_bert_model/bert/pooler/dense/bias:0'] when minimizing the loss. If you're using `model.compile()`, did you forget to provide a `loss` argument?\n",
      "242/389 [=================>............] - ETA: 14:36 - loss: 1.0360 - balanced_accuracy: 0.6352WARNING:tensorflow:Gradients do not exist for variables ['tf_bert_model/bert/pooler/dense/kernel:0', 'tf_bert_model/bert/pooler/dense/bias:0'] when minimizing the loss. If you're using `model.compile()`, did you forget to provide a `loss` argument?\n",
      "243/389 [=================>............] - ETA: 14:30 - loss: 1.0344 - balanced_accuracy: 0.6357WARNING:tensorflow:Gradients do not exist for variables ['tf_bert_model/bert/pooler/dense/kernel:0', 'tf_bert_model/bert/pooler/dense/bias:0'] when minimizing the loss. If you're using `model.compile()`, did you forget to provide a `loss` argument?\n",
      "244/389 [=================>............] - ETA: 14:24 - loss: 1.0320 - balanced_accuracy: 0.6367WARNING:tensorflow:Gradients do not exist for variables ['tf_bert_model/bert/pooler/dense/kernel:0', 'tf_bert_model/bert/pooler/dense/bias:0'] when minimizing the loss. If you're using `model.compile()`, did you forget to provide a `loss` argument?\n",
      "245/389 [=================>............] - ETA: 14:18 - loss: 1.0292 - balanced_accuracy: 0.6379WARNING:tensorflow:Gradients do not exist for variables ['tf_bert_model/bert/pooler/dense/kernel:0', 'tf_bert_model/bert/pooler/dense/bias:0'] when minimizing the loss. If you're using `model.compile()`, did you forget to provide a `loss` argument?\n",
      "246/389 [=================>............] - ETA: 14:11 - loss: 1.0268 - balanced_accuracy: 0.6388WARNING:tensorflow:Gradients do not exist for variables ['tf_bert_model/bert/pooler/dense/kernel:0', 'tf_bert_model/bert/pooler/dense/bias:0'] when minimizing the loss. If you're using `model.compile()`, did you forget to provide a `loss` argument?\n",
      "247/389 [==================>...........] - ETA: 14:05 - loss: 1.0247 - balanced_accuracy: 0.6395WARNING:tensorflow:Gradients do not exist for variables ['tf_bert_model/bert/pooler/dense/kernel:0', 'tf_bert_model/bert/pooler/dense/bias:0'] when minimizing the loss. If you're using `model.compile()`, did you forget to provide a `loss` argument?\n",
      "248/389 [==================>...........] - ETA: 13:59 - loss: 1.0242 - balanced_accuracy: 0.6400WARNING:tensorflow:Gradients do not exist for variables ['tf_bert_model/bert/pooler/dense/kernel:0', 'tf_bert_model/bert/pooler/dense/bias:0'] when minimizing the loss. If you're using `model.compile()`, did you forget to provide a `loss` argument?\n",
      "249/389 [==================>...........] - ETA: 13:53 - loss: 1.0226 - balanced_accuracy: 0.6403WARNING:tensorflow:Gradients do not exist for variables ['tf_bert_model/bert/pooler/dense/kernel:0', 'tf_bert_model/bert/pooler/dense/bias:0'] when minimizing the loss. If you're using `model.compile()`, did you forget to provide a `loss` argument?\n",
      "250/389 [==================>...........] - ETA: 13:46 - loss: 1.0214 - balanced_accuracy: 0.6408WARNING:tensorflow:Gradients do not exist for variables ['tf_bert_model/bert/pooler/dense/kernel:0', 'tf_bert_model/bert/pooler/dense/bias:0'] when minimizing the loss. If you're using `model.compile()`, did you forget to provide a `loss` argument?\n",
      "251/389 [==================>...........] - ETA: 13:40 - loss: 1.0208 - balanced_accuracy: 0.6411WARNING:tensorflow:Gradients do not exist for variables ['tf_bert_model/bert/pooler/dense/kernel:0', 'tf_bert_model/bert/pooler/dense/bias:0'] when minimizing the loss. If you're using `model.compile()`, did you forget to provide a `loss` argument?\n",
      "252/389 [==================>...........] - ETA: 13:34 - loss: 1.0194 - balanced_accuracy: 0.6413WARNING:tensorflow:Gradients do not exist for variables ['tf_bert_model/bert/pooler/dense/kernel:0', 'tf_bert_model/bert/pooler/dense/bias:0'] when minimizing the loss. If you're using `model.compile()`, did you forget to provide a `loss` argument?\n",
      "253/389 [==================>...........] - ETA: 13:28 - loss: 1.0176 - balanced_accuracy: 0.6419WARNING:tensorflow:Gradients do not exist for variables ['tf_bert_model/bert/pooler/dense/kernel:0', 'tf_bert_model/bert/pooler/dense/bias:0'] when minimizing the loss. If you're using `model.compile()`, did you forget to provide a `loss` argument?\n",
      "254/389 [==================>...........] - ETA: 13:21 - loss: 1.0159 - balanced_accuracy: 0.6424WARNING:tensorflow:Gradients do not exist for variables ['tf_bert_model/bert/pooler/dense/kernel:0', 'tf_bert_model/bert/pooler/dense/bias:0'] when minimizing the loss. If you're using `model.compile()`, did you forget to provide a `loss` argument?\n",
      "255/389 [==================>...........] - ETA: 13:15 - loss: 1.0140 - balanced_accuracy: 0.6429WARNING:tensorflow:Gradients do not exist for variables ['tf_bert_model/bert/pooler/dense/kernel:0', 'tf_bert_model/bert/pooler/dense/bias:0'] when minimizing the loss. If you're using `model.compile()`, did you forget to provide a `loss` argument?\n",
      "256/389 [==================>...........] - ETA: 13:09 - loss: 1.0121 - balanced_accuracy: 0.6437WARNING:tensorflow:Gradients do not exist for variables ['tf_bert_model/bert/pooler/dense/kernel:0', 'tf_bert_model/bert/pooler/dense/bias:0'] when minimizing the loss. If you're using `model.compile()`, did you forget to provide a `loss` argument?\n",
      "257/389 [==================>...........] - ETA: 13:03 - loss: 1.0102 - balanced_accuracy: 0.6444WARNING:tensorflow:Gradients do not exist for variables ['tf_bert_model/bert/pooler/dense/kernel:0', 'tf_bert_model/bert/pooler/dense/bias:0'] when minimizing the loss. If you're using `model.compile()`, did you forget to provide a `loss` argument?\n",
      "258/389 [==================>...........] - ETA: 12:57 - loss: 1.0088 - balanced_accuracy: 0.6450WARNING:tensorflow:Gradients do not exist for variables ['tf_bert_model/bert/pooler/dense/kernel:0', 'tf_bert_model/bert/pooler/dense/bias:0'] when minimizing the loss. If you're using `model.compile()`, did you forget to provide a `loss` argument?\n",
      "259/389 [==================>...........] - ETA: 12:50 - loss: 1.0078 - balanced_accuracy: 0.6454WARNING:tensorflow:Gradients do not exist for variables ['tf_bert_model/bert/pooler/dense/kernel:0', 'tf_bert_model/bert/pooler/dense/bias:0'] when minimizing the loss. If you're using `model.compile()`, did you forget to provide a `loss` argument?\n",
      "260/389 [===================>..........] - ETA: 12:44 - loss: 1.0064 - balanced_accuracy: 0.6462WARNING:tensorflow:Gradients do not exist for variables ['tf_bert_model/bert/pooler/dense/kernel:0', 'tf_bert_model/bert/pooler/dense/bias:0'] when minimizing the loss. If you're using `model.compile()`, did you forget to provide a `loss` argument?\n",
      "261/389 [===================>..........] - ETA: 12:38 - loss: 1.0049 - balanced_accuracy: 0.6467WARNING:tensorflow:Gradients do not exist for variables ['tf_bert_model/bert/pooler/dense/kernel:0', 'tf_bert_model/bert/pooler/dense/bias:0'] when minimizing the loss. If you're using `model.compile()`, did you forget to provide a `loss` argument?\n",
      "262/389 [===================>..........] - ETA: 12:32 - loss: 1.0033 - balanced_accuracy: 0.6472WARNING:tensorflow:Gradients do not exist for variables ['tf_bert_model/bert/pooler/dense/kernel:0', 'tf_bert_model/bert/pooler/dense/bias:0'] when minimizing the loss. If you're using `model.compile()`, did you forget to provide a `loss` argument?\n",
      "263/389 [===================>..........] - ETA: 12:26 - loss: 1.0019 - balanced_accuracy: 0.6479WARNING:tensorflow:Gradients do not exist for variables ['tf_bert_model/bert/pooler/dense/kernel:0', 'tf_bert_model/bert/pooler/dense/bias:0'] when minimizing the loss. If you're using `model.compile()`, did you forget to provide a `loss` argument?\n",
      "264/389 [===================>..........] - ETA: 12:19 - loss: 0.9997 - balanced_accuracy: 0.6486WARNING:tensorflow:Gradients do not exist for variables ['tf_bert_model/bert/pooler/dense/kernel:0', 'tf_bert_model/bert/pooler/dense/bias:0'] when minimizing the loss. If you're using `model.compile()`, did you forget to provide a `loss` argument?\n",
      "265/389 [===================>..........] - ETA: 12:13 - loss: 0.9974 - balanced_accuracy: 0.6494WARNING:tensorflow:Gradients do not exist for variables ['tf_bert_model/bert/pooler/dense/kernel:0', 'tf_bert_model/bert/pooler/dense/bias:0'] when minimizing the loss. If you're using `model.compile()`, did you forget to provide a `loss` argument?\n",
      "266/389 [===================>..........] - ETA: 12:07 - loss: 0.9962 - balanced_accuracy: 0.6496WARNING:tensorflow:Gradients do not exist for variables ['tf_bert_model/bert/pooler/dense/kernel:0', 'tf_bert_model/bert/pooler/dense/bias:0'] when minimizing the loss. If you're using `model.compile()`, did you forget to provide a `loss` argument?\n",
      "267/389 [===================>..........] - ETA: 12:01 - loss: 0.9942 - balanced_accuracy: 0.6503WARNING:tensorflow:Gradients do not exist for variables ['tf_bert_model/bert/pooler/dense/kernel:0', 'tf_bert_model/bert/pooler/dense/bias:0'] when minimizing the loss. If you're using `model.compile()`, did you forget to provide a `loss` argument?\n",
      "268/389 [===================>..........] - ETA: 11:55 - loss: 0.9926 - balanced_accuracy: 0.6507WARNING:tensorflow:Gradients do not exist for variables ['tf_bert_model/bert/pooler/dense/kernel:0', 'tf_bert_model/bert/pooler/dense/bias:0'] when minimizing the loss. If you're using `model.compile()`, did you forget to provide a `loss` argument?\n",
      "269/389 [===================>..........] - ETA: 11:49 - loss: 0.9908 - balanced_accuracy: 0.6514WARNING:tensorflow:Gradients do not exist for variables ['tf_bert_model/bert/pooler/dense/kernel:0', 'tf_bert_model/bert/pooler/dense/bias:0'] when minimizing the loss. If you're using `model.compile()`, did you forget to provide a `loss` argument?\n",
      "270/389 [===================>..........] - ETA: 11:42 - loss: 0.9906 - balanced_accuracy: 0.6515WARNING:tensorflow:Gradients do not exist for variables ['tf_bert_model/bert/pooler/dense/kernel:0', 'tf_bert_model/bert/pooler/dense/bias:0'] when minimizing the loss. If you're using `model.compile()`, did you forget to provide a `loss` argument?\n",
      "271/389 [===================>..........] - ETA: 11:36 - loss: 0.9891 - balanced_accuracy: 0.6520WARNING:tensorflow:Gradients do not exist for variables ['tf_bert_model/bert/pooler/dense/kernel:0', 'tf_bert_model/bert/pooler/dense/bias:0'] when minimizing the loss. If you're using `model.compile()`, did you forget to provide a `loss` argument?\n",
      "272/389 [===================>..........] - ETA: 11:30 - loss: 0.9873 - balanced_accuracy: 0.6526WARNING:tensorflow:Gradients do not exist for variables ['tf_bert_model/bert/pooler/dense/kernel:0', 'tf_bert_model/bert/pooler/dense/bias:0'] when minimizing the loss. If you're using `model.compile()`, did you forget to provide a `loss` argument?\n",
      "273/389 [====================>.........] - ETA: 11:24 - loss: 0.9856 - balanced_accuracy: 0.6530WARNING:tensorflow:Gradients do not exist for variables ['tf_bert_model/bert/pooler/dense/kernel:0', 'tf_bert_model/bert/pooler/dense/bias:0'] when minimizing the loss. If you're using `model.compile()`, did you forget to provide a `loss` argument?\n",
      "274/389 [====================>.........] - ETA: 11:18 - loss: 0.9838 - balanced_accuracy: 0.6534WARNING:tensorflow:Gradients do not exist for variables ['tf_bert_model/bert/pooler/dense/kernel:0', 'tf_bert_model/bert/pooler/dense/bias:0'] when minimizing the loss. If you're using `model.compile()`, did you forget to provide a `loss` argument?\n",
      "275/389 [====================>.........] - ETA: 11:12 - loss: 0.9818 - balanced_accuracy: 0.6542WARNING:tensorflow:Gradients do not exist for variables ['tf_bert_model/bert/pooler/dense/kernel:0', 'tf_bert_model/bert/pooler/dense/bias:0'] when minimizing the loss. If you're using `model.compile()`, did you forget to provide a `loss` argument?\n",
      "276/389 [====================>.........] - ETA: 11:06 - loss: 0.9799 - balanced_accuracy: 0.6550WARNING:tensorflow:Gradients do not exist for variables ['tf_bert_model/bert/pooler/dense/kernel:0', 'tf_bert_model/bert/pooler/dense/bias:0'] when minimizing the loss. If you're using `model.compile()`, did you forget to provide a `loss` argument?\n",
      "277/389 [====================>.........] - ETA: 11:00 - loss: 0.9790 - balanced_accuracy: 0.6554WARNING:tensorflow:Gradients do not exist for variables ['tf_bert_model/bert/pooler/dense/kernel:0', 'tf_bert_model/bert/pooler/dense/bias:0'] when minimizing the loss. If you're using `model.compile()`, did you forget to provide a `loss` argument?\n",
      "278/389 [====================>.........] - ETA: 10:53 - loss: 0.9768 - balanced_accuracy: 0.6561WARNING:tensorflow:Gradients do not exist for variables ['tf_bert_model/bert/pooler/dense/kernel:0', 'tf_bert_model/bert/pooler/dense/bias:0'] when minimizing the loss. If you're using `model.compile()`, did you forget to provide a `loss` argument?\n",
      "279/389 [====================>.........] - ETA: 10:47 - loss: 0.9747 - balanced_accuracy: 0.6568WARNING:tensorflow:Gradients do not exist for variables ['tf_bert_model/bert/pooler/dense/kernel:0', 'tf_bert_model/bert/pooler/dense/bias:0'] when minimizing the loss. If you're using `model.compile()`, did you forget to provide a `loss` argument?\n",
      "280/389 [====================>.........] - ETA: 10:41 - loss: 0.9725 - balanced_accuracy: 0.6574WARNING:tensorflow:Gradients do not exist for variables ['tf_bert_model/bert/pooler/dense/kernel:0', 'tf_bert_model/bert/pooler/dense/bias:0'] when minimizing the loss. If you're using `model.compile()`, did you forget to provide a `loss` argument?\n",
      "281/389 [====================>.........] - ETA: 10:35 - loss: 0.9703 - balanced_accuracy: 0.6585WARNING:tensorflow:Gradients do not exist for variables ['tf_bert_model/bert/pooler/dense/kernel:0', 'tf_bert_model/bert/pooler/dense/bias:0'] when minimizing the loss. If you're using `model.compile()`, did you forget to provide a `loss` argument?\n",
      "282/389 [====================>.........] - ETA: 10:29 - loss: 0.9684 - balanced_accuracy: 0.6591WARNING:tensorflow:Gradients do not exist for variables ['tf_bert_model/bert/pooler/dense/kernel:0', 'tf_bert_model/bert/pooler/dense/bias:0'] when minimizing the loss. If you're using `model.compile()`, did you forget to provide a `loss` argument?\n",
      "283/389 [====================>.........] - ETA: 10:23 - loss: 0.9667 - balanced_accuracy: 0.6596WARNING:tensorflow:Gradients do not exist for variables ['tf_bert_model/bert/pooler/dense/kernel:0', 'tf_bert_model/bert/pooler/dense/bias:0'] when minimizing the loss. If you're using `model.compile()`, did you forget to provide a `loss` argument?\n",
      "284/389 [====================>.........] - ETA: 10:17 - loss: 0.9649 - balanced_accuracy: 0.6601WARNING:tensorflow:Gradients do not exist for variables ['tf_bert_model/bert/pooler/dense/kernel:0', 'tf_bert_model/bert/pooler/dense/bias:0'] when minimizing the loss. If you're using `model.compile()`, did you forget to provide a `loss` argument?\n",
      "285/389 [====================>.........] - ETA: 10:11 - loss: 0.9629 - balanced_accuracy: 0.6607WARNING:tensorflow:Gradients do not exist for variables ['tf_bert_model/bert/pooler/dense/kernel:0', 'tf_bert_model/bert/pooler/dense/bias:0'] when minimizing the loss. If you're using `model.compile()`, did you forget to provide a `loss` argument?\n",
      "286/389 [=====================>........] - ETA: 10:05 - loss: 0.9618 - balanced_accuracy: 0.6612WARNING:tensorflow:Gradients do not exist for variables ['tf_bert_model/bert/pooler/dense/kernel:0', 'tf_bert_model/bert/pooler/dense/bias:0'] when minimizing the loss. If you're using `model.compile()`, did you forget to provide a `loss` argument?\n",
      "287/389 [=====================>........] - ETA: 9:59 - loss: 0.9600 - balanced_accuracy: 0.6617 WARNING:tensorflow:Gradients do not exist for variables ['tf_bert_model/bert/pooler/dense/kernel:0', 'tf_bert_model/bert/pooler/dense/bias:0'] when minimizing the loss. If you're using `model.compile()`, did you forget to provide a `loss` argument?\n",
      "288/389 [=====================>........] - ETA: 9:52 - loss: 0.9575 - balanced_accuracy: 0.6627WARNING:tensorflow:Gradients do not exist for variables ['tf_bert_model/bert/pooler/dense/kernel:0', 'tf_bert_model/bert/pooler/dense/bias:0'] when minimizing the loss. If you're using `model.compile()`, did you forget to provide a `loss` argument?\n",
      "289/389 [=====================>........] - ETA: 9:46 - loss: 0.9560 - balanced_accuracy: 0.6630WARNING:tensorflow:Gradients do not exist for variables ['tf_bert_model/bert/pooler/dense/kernel:0', 'tf_bert_model/bert/pooler/dense/bias:0'] when minimizing the loss. If you're using `model.compile()`, did you forget to provide a `loss` argument?\n",
      "290/389 [=====================>........] - ETA: 9:41 - loss: 0.9548 - balanced_accuracy: 0.6634WARNING:tensorflow:Gradients do not exist for variables ['tf_bert_model/bert/pooler/dense/kernel:0', 'tf_bert_model/bert/pooler/dense/bias:0'] when minimizing the loss. If you're using `model.compile()`, did you forget to provide a `loss` argument?\n",
      "291/389 [=====================>........] - ETA: 9:35 - loss: 0.9532 - balanced_accuracy: 0.6637WARNING:tensorflow:Gradients do not exist for variables ['tf_bert_model/bert/pooler/dense/kernel:0', 'tf_bert_model/bert/pooler/dense/bias:0'] when minimizing the loss. If you're using `model.compile()`, did you forget to provide a `loss` argument?\n",
      "292/389 [=====================>........] - ETA: 9:28 - loss: 0.9516 - balanced_accuracy: 0.6643WARNING:tensorflow:Gradients do not exist for variables ['tf_bert_model/bert/pooler/dense/kernel:0', 'tf_bert_model/bert/pooler/dense/bias:0'] when minimizing the loss. If you're using `model.compile()`, did you forget to provide a `loss` argument?\n",
      "293/389 [=====================>........] - ETA: 9:23 - loss: 0.9503 - balanced_accuracy: 0.6650WARNING:tensorflow:Gradients do not exist for variables ['tf_bert_model/bert/pooler/dense/kernel:0', 'tf_bert_model/bert/pooler/dense/bias:0'] when minimizing the loss. If you're using `model.compile()`, did you forget to provide a `loss` argument?\n",
      "294/389 [=====================>........] - ETA: 9:16 - loss: 0.9491 - balanced_accuracy: 0.6653WARNING:tensorflow:Gradients do not exist for variables ['tf_bert_model/bert/pooler/dense/kernel:0', 'tf_bert_model/bert/pooler/dense/bias:0'] when minimizing the loss. If you're using `model.compile()`, did you forget to provide a `loss` argument?\n",
      "295/389 [=====================>........] - ETA: 9:10 - loss: 0.9480 - balanced_accuracy: 0.6655WARNING:tensorflow:Gradients do not exist for variables ['tf_bert_model/bert/pooler/dense/kernel:0', 'tf_bert_model/bert/pooler/dense/bias:0'] when minimizing the loss. If you're using `model.compile()`, did you forget to provide a `loss` argument?\n",
      "296/389 [=====================>........] - ETA: 9:05 - loss: 0.9468 - balanced_accuracy: 0.6659WARNING:tensorflow:Gradients do not exist for variables ['tf_bert_model/bert/pooler/dense/kernel:0', 'tf_bert_model/bert/pooler/dense/bias:0'] when minimizing the loss. If you're using `model.compile()`, did you forget to provide a `loss` argument?\n",
      "297/389 [=====================>........] - ETA: 8:58 - loss: 0.9445 - balanced_accuracy: 0.6669WARNING:tensorflow:Gradients do not exist for variables ['tf_bert_model/bert/pooler/dense/kernel:0', 'tf_bert_model/bert/pooler/dense/bias:0'] when minimizing the loss. If you're using `model.compile()`, did you forget to provide a `loss` argument?\n",
      "298/389 [=====================>........] - ETA: 8:52 - loss: 0.9431 - balanced_accuracy: 0.6675WARNING:tensorflow:Gradients do not exist for variables ['tf_bert_model/bert/pooler/dense/kernel:0', 'tf_bert_model/bert/pooler/dense/bias:0'] when minimizing the loss. If you're using `model.compile()`, did you forget to provide a `loss` argument?\n",
      "299/389 [======================>.......] - ETA: 8:46 - loss: 0.9420 - balanced_accuracy: 0.6681WARNING:tensorflow:Gradients do not exist for variables ['tf_bert_model/bert/pooler/dense/kernel:0', 'tf_bert_model/bert/pooler/dense/bias:0'] when minimizing the loss. If you're using `model.compile()`, did you forget to provide a `loss` argument?\n",
      "300/389 [======================>.......] - ETA: 8:40 - loss: 0.9411 - balanced_accuracy: 0.6685WARNING:tensorflow:Gradients do not exist for variables ['tf_bert_model/bert/pooler/dense/kernel:0', 'tf_bert_model/bert/pooler/dense/bias:0'] when minimizing the loss. If you're using `model.compile()`, did you forget to provide a `loss` argument?\n",
      "301/389 [======================>.......] - ETA: 8:34 - loss: 0.9400 - balanced_accuracy: 0.6688WARNING:tensorflow:Gradients do not exist for variables ['tf_bert_model/bert/pooler/dense/kernel:0', 'tf_bert_model/bert/pooler/dense/bias:0'] when minimizing the loss. If you're using `model.compile()`, did you forget to provide a `loss` argument?\n",
      "302/389 [======================>.......] - ETA: 8:28 - loss: 0.9393 - balanced_accuracy: 0.6689WARNING:tensorflow:Gradients do not exist for variables ['tf_bert_model/bert/pooler/dense/kernel:0', 'tf_bert_model/bert/pooler/dense/bias:0'] when minimizing the loss. If you're using `model.compile()`, did you forget to provide a `loss` argument?\n",
      "303/389 [======================>.......] - ETA: 8:22 - loss: 0.9382 - balanced_accuracy: 0.6691WARNING:tensorflow:Gradients do not exist for variables ['tf_bert_model/bert/pooler/dense/kernel:0', 'tf_bert_model/bert/pooler/dense/bias:0'] when minimizing the loss. If you're using `model.compile()`, did you forget to provide a `loss` argument?\n",
      "304/389 [======================>.......] - ETA: 8:16 - loss: 0.9366 - balanced_accuracy: 0.6697WARNING:tensorflow:Gradients do not exist for variables ['tf_bert_model/bert/pooler/dense/kernel:0', 'tf_bert_model/bert/pooler/dense/bias:0'] when minimizing the loss. If you're using `model.compile()`, did you forget to provide a `loss` argument?\n",
      "305/389 [======================>.......] - ETA: 8:10 - loss: 0.9349 - balanced_accuracy: 0.6702WARNING:tensorflow:Gradients do not exist for variables ['tf_bert_model/bert/pooler/dense/kernel:0', 'tf_bert_model/bert/pooler/dense/bias:0'] when minimizing the loss. If you're using `model.compile()`, did you forget to provide a `loss` argument?\n",
      "306/389 [======================>.......] - ETA: 8:04 - loss: 0.9325 - balanced_accuracy: 0.6711WARNING:tensorflow:Gradients do not exist for variables ['tf_bert_model/bert/pooler/dense/kernel:0', 'tf_bert_model/bert/pooler/dense/bias:0'] when minimizing the loss. If you're using `model.compile()`, did you forget to provide a `loss` argument?\n",
      "307/389 [======================>.......] - ETA: 7:58 - loss: 0.9306 - balanced_accuracy: 0.6716WARNING:tensorflow:Gradients do not exist for variables ['tf_bert_model/bert/pooler/dense/kernel:0', 'tf_bert_model/bert/pooler/dense/bias:0'] when minimizing the loss. If you're using `model.compile()`, did you forget to provide a `loss` argument?\n",
      "308/389 [======================>.......] - ETA: 7:52 - loss: 0.9300 - balanced_accuracy: 0.6719WARNING:tensorflow:Gradients do not exist for variables ['tf_bert_model/bert/pooler/dense/kernel:0', 'tf_bert_model/bert/pooler/dense/bias:0'] when minimizing the loss. If you're using `model.compile()`, did you forget to provide a `loss` argument?\n",
      "309/389 [======================>.......] - ETA: 7:47 - loss: 0.9282 - balanced_accuracy: 0.6723WARNING:tensorflow:Gradients do not exist for variables ['tf_bert_model/bert/pooler/dense/kernel:0', 'tf_bert_model/bert/pooler/dense/bias:0'] when minimizing the loss. If you're using `model.compile()`, did you forget to provide a `loss` argument?\n",
      "310/389 [======================>.......] - ETA: 7:40 - loss: 0.9267 - balanced_accuracy: 0.6728WARNING:tensorflow:Gradients do not exist for variables ['tf_bert_model/bert/pooler/dense/kernel:0', 'tf_bert_model/bert/pooler/dense/bias:0'] when minimizing the loss. If you're using `model.compile()`, did you forget to provide a `loss` argument?\n",
      "311/389 [======================>.......] - ETA: 7:34 - loss: 0.9251 - balanced_accuracy: 0.6733WARNING:tensorflow:Gradients do not exist for variables ['tf_bert_model/bert/pooler/dense/kernel:0', 'tf_bert_model/bert/pooler/dense/bias:0'] when minimizing the loss. If you're using `model.compile()`, did you forget to provide a `loss` argument?\n",
      "312/389 [=======================>......] - ETA: 7:28 - loss: 0.9243 - balanced_accuracy: 0.6735WARNING:tensorflow:Gradients do not exist for variables ['tf_bert_model/bert/pooler/dense/kernel:0', 'tf_bert_model/bert/pooler/dense/bias:0'] when minimizing the loss. If you're using `model.compile()`, did you forget to provide a `loss` argument?\n",
      "313/389 [=======================>......] - ETA: 7:22 - loss: 0.9225 - balanced_accuracy: 0.6741WARNING:tensorflow:Gradients do not exist for variables ['tf_bert_model/bert/pooler/dense/kernel:0', 'tf_bert_model/bert/pooler/dense/bias:0'] when minimizing the loss. If you're using `model.compile()`, did you forget to provide a `loss` argument?\n",
      "314/389 [=======================>......] - ETA: 7:17 - loss: 0.9213 - balanced_accuracy: 0.6747WARNING:tensorflow:Gradients do not exist for variables ['tf_bert_model/bert/pooler/dense/kernel:0', 'tf_bert_model/bert/pooler/dense/bias:0'] when minimizing the loss. If you're using `model.compile()`, did you forget to provide a `loss` argument?\n",
      "315/389 [=======================>......] - ETA: 7:11 - loss: 0.9194 - balanced_accuracy: 0.6754WARNING:tensorflow:Gradients do not exist for variables ['tf_bert_model/bert/pooler/dense/kernel:0', 'tf_bert_model/bert/pooler/dense/bias:0'] when minimizing the loss. If you're using `model.compile()`, did you forget to provide a `loss` argument?\n",
      "316/389 [=======================>......] - ETA: 7:05 - loss: 0.9182 - balanced_accuracy: 0.6760WARNING:tensorflow:Gradients do not exist for variables ['tf_bert_model/bert/pooler/dense/kernel:0', 'tf_bert_model/bert/pooler/dense/bias:0'] when minimizing the loss. If you're using `model.compile()`, did you forget to provide a `loss` argument?\n",
      "317/389 [=======================>......] - ETA: 6:59 - loss: 0.9170 - balanced_accuracy: 0.6766WARNING:tensorflow:Gradients do not exist for variables ['tf_bert_model/bert/pooler/dense/kernel:0', 'tf_bert_model/bert/pooler/dense/bias:0'] when minimizing the loss. If you're using `model.compile()`, did you forget to provide a `loss` argument?\n",
      "318/389 [=======================>......] - ETA: 6:53 - loss: 0.9151 - balanced_accuracy: 0.6772WARNING:tensorflow:Gradients do not exist for variables ['tf_bert_model/bert/pooler/dense/kernel:0', 'tf_bert_model/bert/pooler/dense/bias:0'] when minimizing the loss. If you're using `model.compile()`, did you forget to provide a `loss` argument?\n",
      "319/389 [=======================>......] - ETA: 6:47 - loss: 0.9134 - balanced_accuracy: 0.6778WARNING:tensorflow:Gradients do not exist for variables ['tf_bert_model/bert/pooler/dense/kernel:0', 'tf_bert_model/bert/pooler/dense/bias:0'] when minimizing the loss. If you're using `model.compile()`, did you forget to provide a `loss` argument?\n",
      "320/389 [=======================>......] - ETA: 6:41 - loss: 0.9115 - balanced_accuracy: 0.6786WARNING:tensorflow:Gradients do not exist for variables ['tf_bert_model/bert/pooler/dense/kernel:0', 'tf_bert_model/bert/pooler/dense/bias:0'] when minimizing the loss. If you're using `model.compile()`, did you forget to provide a `loss` argument?\n",
      "321/389 [=======================>......] - ETA: 6:35 - loss: 0.9098 - balanced_accuracy: 0.6791WARNING:tensorflow:Gradients do not exist for variables ['tf_bert_model/bert/pooler/dense/kernel:0', 'tf_bert_model/bert/pooler/dense/bias:0'] when minimizing the loss. If you're using `model.compile()`, did you forget to provide a `loss` argument?\n",
      "322/389 [=======================>......] - ETA: 6:29 - loss: 0.9080 - balanced_accuracy: 0.6798WARNING:tensorflow:Gradients do not exist for variables ['tf_bert_model/bert/pooler/dense/kernel:0', 'tf_bert_model/bert/pooler/dense/bias:0'] when minimizing the loss. If you're using `model.compile()`, did you forget to provide a `loss` argument?\n",
      "323/389 [=======================>......] - ETA: 6:23 - loss: 0.9067 - balanced_accuracy: 0.6803WARNING:tensorflow:Gradients do not exist for variables ['tf_bert_model/bert/pooler/dense/kernel:0', 'tf_bert_model/bert/pooler/dense/bias:0'] when minimizing the loss. If you're using `model.compile()`, did you forget to provide a `loss` argument?\n",
      "324/389 [=======================>......] - ETA: 6:17 - loss: 0.9050 - balanced_accuracy: 0.6809WARNING:tensorflow:Gradients do not exist for variables ['tf_bert_model/bert/pooler/dense/kernel:0', 'tf_bert_model/bert/pooler/dense/bias:0'] when minimizing the loss. If you're using `model.compile()`, did you forget to provide a `loss` argument?\n",
      "325/389 [========================>.....] - ETA: 6:11 - loss: 0.9037 - balanced_accuracy: 0.6815WARNING:tensorflow:Gradients do not exist for variables ['tf_bert_model/bert/pooler/dense/kernel:0', 'tf_bert_model/bert/pooler/dense/bias:0'] when minimizing the loss. If you're using `model.compile()`, did you forget to provide a `loss` argument?\n",
      "326/389 [========================>.....] - ETA: 6:06 - loss: 0.9022 - balanced_accuracy: 0.6819WARNING:tensorflow:Gradients do not exist for variables ['tf_bert_model/bert/pooler/dense/kernel:0', 'tf_bert_model/bert/pooler/dense/bias:0'] when minimizing the loss. If you're using `model.compile()`, did you forget to provide a `loss` argument?\n",
      "327/389 [========================>.....] - ETA: 6:00 - loss: 0.9009 - balanced_accuracy: 0.6823WARNING:tensorflow:Gradients do not exist for variables ['tf_bert_model/bert/pooler/dense/kernel:0', 'tf_bert_model/bert/pooler/dense/bias:0'] when minimizing the loss. If you're using `model.compile()`, did you forget to provide a `loss` argument?\n",
      "328/389 [========================>.....] - ETA: 5:54 - loss: 0.9003 - balanced_accuracy: 0.6827WARNING:tensorflow:Gradients do not exist for variables ['tf_bert_model/bert/pooler/dense/kernel:0', 'tf_bert_model/bert/pooler/dense/bias:0'] when minimizing the loss. If you're using `model.compile()`, did you forget to provide a `loss` argument?\n",
      "329/389 [========================>.....] - ETA: 5:48 - loss: 0.8991 - balanced_accuracy: 0.6832WARNING:tensorflow:Gradients do not exist for variables ['tf_bert_model/bert/pooler/dense/kernel:0', 'tf_bert_model/bert/pooler/dense/bias:0'] when minimizing the loss. If you're using `model.compile()`, did you forget to provide a `loss` argument?\n",
      "330/389 [========================>.....] - ETA: 5:42 - loss: 0.8978 - balanced_accuracy: 0.6836WARNING:tensorflow:Gradients do not exist for variables ['tf_bert_model/bert/pooler/dense/kernel:0', 'tf_bert_model/bert/pooler/dense/bias:0'] when minimizing the loss. If you're using `model.compile()`, did you forget to provide a `loss` argument?\n",
      "331/389 [========================>.....] - ETA: 5:36 - loss: 0.8959 - balanced_accuracy: 0.6842WARNING:tensorflow:Gradients do not exist for variables ['tf_bert_model/bert/pooler/dense/kernel:0', 'tf_bert_model/bert/pooler/dense/bias:0'] when minimizing the loss. If you're using `model.compile()`, did you forget to provide a `loss` argument?\n",
      "332/389 [========================>.....] - ETA: 5:30 - loss: 0.8946 - balanced_accuracy: 0.6846WARNING:tensorflow:Gradients do not exist for variables ['tf_bert_model/bert/pooler/dense/kernel:0', 'tf_bert_model/bert/pooler/dense/bias:0'] when minimizing the loss. If you're using `model.compile()`, did you forget to provide a `loss` argument?\n",
      "333/389 [========================>.....] - ETA: 5:24 - loss: 0.8943 - balanced_accuracy: 0.6848WARNING:tensorflow:Gradients do not exist for variables ['tf_bert_model/bert/pooler/dense/kernel:0', 'tf_bert_model/bert/pooler/dense/bias:0'] when minimizing the loss. If you're using `model.compile()`, did you forget to provide a `loss` argument?\n",
      "334/389 [========================>.....] - ETA: 5:19 - loss: 0.8922 - balanced_accuracy: 0.6855WARNING:tensorflow:Gradients do not exist for variables ['tf_bert_model/bert/pooler/dense/kernel:0', 'tf_bert_model/bert/pooler/dense/bias:0'] when minimizing the loss. If you're using `model.compile()`, did you forget to provide a `loss` argument?\n",
      "335/389 [========================>.....] - ETA: 5:13 - loss: 0.8905 - balanced_accuracy: 0.6860WARNING:tensorflow:Gradients do not exist for variables ['tf_bert_model/bert/pooler/dense/kernel:0', 'tf_bert_model/bert/pooler/dense/bias:0'] when minimizing the loss. If you're using `model.compile()`, did you forget to provide a `loss` argument?\n",
      "336/389 [========================>.....] - ETA: 5:07 - loss: 0.8896 - balanced_accuracy: 0.6863WARNING:tensorflow:Gradients do not exist for variables ['tf_bert_model/bert/pooler/dense/kernel:0', 'tf_bert_model/bert/pooler/dense/bias:0'] when minimizing the loss. If you're using `model.compile()`, did you forget to provide a `loss` argument?\n",
      "337/389 [========================>.....] - ETA: 5:02 - loss: 0.8892 - balanced_accuracy: 0.6865WARNING:tensorflow:Gradients do not exist for variables ['tf_bert_model/bert/pooler/dense/kernel:0', 'tf_bert_model/bert/pooler/dense/bias:0'] when minimizing the loss. If you're using `model.compile()`, did you forget to provide a `loss` argument?\n",
      "338/389 [=========================>....] - ETA: 4:56 - loss: 0.8872 - balanced_accuracy: 0.6872WARNING:tensorflow:Gradients do not exist for variables ['tf_bert_model/bert/pooler/dense/kernel:0', 'tf_bert_model/bert/pooler/dense/bias:0'] when minimizing the loss. If you're using `model.compile()`, did you forget to provide a `loss` argument?\n",
      "339/389 [=========================>....] - ETA: 4:50 - loss: 0.8867 - balanced_accuracy: 0.6876WARNING:tensorflow:Gradients do not exist for variables ['tf_bert_model/bert/pooler/dense/kernel:0', 'tf_bert_model/bert/pooler/dense/bias:0'] when minimizing the loss. If you're using `model.compile()`, did you forget to provide a `loss` argument?\n",
      "340/389 [=========================>....] - ETA: 4:45 - loss: 0.8858 - balanced_accuracy: 0.6882WARNING:tensorflow:Gradients do not exist for variables ['tf_bert_model/bert/pooler/dense/kernel:0', 'tf_bert_model/bert/pooler/dense/bias:0'] when minimizing the loss. If you're using `model.compile()`, did you forget to provide a `loss` argument?\n",
      "341/389 [=========================>....] - ETA: 4:39 - loss: 0.8845 - balanced_accuracy: 0.6887WARNING:tensorflow:Gradients do not exist for variables ['tf_bert_model/bert/pooler/dense/kernel:0', 'tf_bert_model/bert/pooler/dense/bias:0'] when minimizing the loss. If you're using `model.compile()`, did you forget to provide a `loss` argument?\n",
      "342/389 [=========================>....] - ETA: 4:34 - loss: 0.8828 - balanced_accuracy: 0.6892WARNING:tensorflow:Gradients do not exist for variables ['tf_bert_model/bert/pooler/dense/kernel:0', 'tf_bert_model/bert/pooler/dense/bias:0'] when minimizing the loss. If you're using `model.compile()`, did you forget to provide a `loss` argument?\n",
      "343/389 [=========================>....] - ETA: 4:28 - loss: 0.8813 - balanced_accuracy: 0.6898WARNING:tensorflow:Gradients do not exist for variables ['tf_bert_model/bert/pooler/dense/kernel:0', 'tf_bert_model/bert/pooler/dense/bias:0'] when minimizing the loss. If you're using `model.compile()`, did you forget to provide a `loss` argument?\n",
      "344/389 [=========================>....] - ETA: 4:22 - loss: 0.8800 - balanced_accuracy: 0.6902WARNING:tensorflow:Gradients do not exist for variables ['tf_bert_model/bert/pooler/dense/kernel:0', 'tf_bert_model/bert/pooler/dense/bias:0'] when minimizing the loss. If you're using `model.compile()`, did you forget to provide a `loss` argument?\n",
      "345/389 [=========================>....] - ETA: 4:17 - loss: 0.8792 - balanced_accuracy: 0.6904WARNING:tensorflow:Gradients do not exist for variables ['tf_bert_model/bert/pooler/dense/kernel:0', 'tf_bert_model/bert/pooler/dense/bias:0'] when minimizing the loss. If you're using `model.compile()`, did you forget to provide a `loss` argument?\n",
      "346/389 [=========================>....] - ETA: 4:11 - loss: 0.8777 - balanced_accuracy: 0.6910WARNING:tensorflow:Gradients do not exist for variables ['tf_bert_model/bert/pooler/dense/kernel:0', 'tf_bert_model/bert/pooler/dense/bias:0'] when minimizing the loss. If you're using `model.compile()`, did you forget to provide a `loss` argument?\n",
      "347/389 [=========================>....] - ETA: 4:06 - loss: 0.8760 - balanced_accuracy: 0.6916WARNING:tensorflow:Gradients do not exist for variables ['tf_bert_model/bert/pooler/dense/kernel:0', 'tf_bert_model/bert/pooler/dense/bias:0'] when minimizing the loss. If you're using `model.compile()`, did you forget to provide a `loss` argument?\n",
      "348/389 [=========================>....] - ETA: 4:00 - loss: 0.8745 - balanced_accuracy: 0.6922WARNING:tensorflow:Gradients do not exist for variables ['tf_bert_model/bert/pooler/dense/kernel:0', 'tf_bert_model/bert/pooler/dense/bias:0'] when minimizing the loss. If you're using `model.compile()`, did you forget to provide a `loss` argument?\n",
      "349/389 [=========================>....] - ETA: 3:54 - loss: 0.8736 - balanced_accuracy: 0.6925WARNING:tensorflow:Gradients do not exist for variables ['tf_bert_model/bert/pooler/dense/kernel:0', 'tf_bert_model/bert/pooler/dense/bias:0'] when minimizing the loss. If you're using `model.compile()`, did you forget to provide a `loss` argument?\n",
      "350/389 [=========================>....] - ETA: 3:48 - loss: 0.8721 - balanced_accuracy: 0.6930WARNING:tensorflow:Gradients do not exist for variables ['tf_bert_model/bert/pooler/dense/kernel:0', 'tf_bert_model/bert/pooler/dense/bias:0'] when minimizing the loss. If you're using `model.compile()`, did you forget to provide a `loss` argument?\n",
      "351/389 [==========================>...] - ETA: 3:43 - loss: 0.8708 - balanced_accuracy: 0.6936WARNING:tensorflow:Gradients do not exist for variables ['tf_bert_model/bert/pooler/dense/kernel:0', 'tf_bert_model/bert/pooler/dense/bias:0'] when minimizing the loss. If you're using `model.compile()`, did you forget to provide a `loss` argument?\n",
      "352/389 [==========================>...] - ETA: 3:37 - loss: 0.8692 - balanced_accuracy: 0.6942WARNING:tensorflow:Gradients do not exist for variables ['tf_bert_model/bert/pooler/dense/kernel:0', 'tf_bert_model/bert/pooler/dense/bias:0'] when minimizing the loss. If you're using `model.compile()`, did you forget to provide a `loss` argument?\n",
      "353/389 [==========================>...] - ETA: 3:32 - loss: 0.8677 - balanced_accuracy: 0.6948WARNING:tensorflow:Gradients do not exist for variables ['tf_bert_model/bert/pooler/dense/kernel:0', 'tf_bert_model/bert/pooler/dense/bias:0'] when minimizing the loss. If you're using `model.compile()`, did you forget to provide a `loss` argument?\n",
      "354/389 [==========================>...] - ETA: 3:26 - loss: 0.8666 - balanced_accuracy: 0.6951WARNING:tensorflow:Gradients do not exist for variables ['tf_bert_model/bert/pooler/dense/kernel:0', 'tf_bert_model/bert/pooler/dense/bias:0'] when minimizing the loss. If you're using `model.compile()`, did you forget to provide a `loss` argument?\n",
      "355/389 [==========================>...] - ETA: 3:20 - loss: 0.8653 - balanced_accuracy: 0.6955WARNING:tensorflow:Gradients do not exist for variables ['tf_bert_model/bert/pooler/dense/kernel:0', 'tf_bert_model/bert/pooler/dense/bias:0'] when minimizing the loss. If you're using `model.compile()`, did you forget to provide a `loss` argument?\n",
      "356/389 [==========================>...] - ETA: 3:14 - loss: 0.8642 - balanced_accuracy: 0.6959WARNING:tensorflow:Gradients do not exist for variables ['tf_bert_model/bert/pooler/dense/kernel:0', 'tf_bert_model/bert/pooler/dense/bias:0'] when minimizing the loss. If you're using `model.compile()`, did you forget to provide a `loss` argument?\n",
      "357/389 [==========================>...] - ETA: 3:09 - loss: 0.8638 - balanced_accuracy: 0.6961WARNING:tensorflow:Gradients do not exist for variables ['tf_bert_model/bert/pooler/dense/kernel:0', 'tf_bert_model/bert/pooler/dense/bias:0'] when minimizing the loss. If you're using `model.compile()`, did you forget to provide a `loss` argument?\n",
      "358/389 [==========================>...] - ETA: 3:03 - loss: 0.8627 - balanced_accuracy: 0.6964WARNING:tensorflow:Gradients do not exist for variables ['tf_bert_model/bert/pooler/dense/kernel:0', 'tf_bert_model/bert/pooler/dense/bias:0'] when minimizing the loss. If you're using `model.compile()`, did you forget to provide a `loss` argument?\n",
      "359/389 [==========================>...] - ETA: 2:57 - loss: 0.8617 - balanced_accuracy: 0.6966WARNING:tensorflow:Gradients do not exist for variables ['tf_bert_model/bert/pooler/dense/kernel:0', 'tf_bert_model/bert/pooler/dense/bias:0'] when minimizing the loss. If you're using `model.compile()`, did you forget to provide a `loss` argument?\n",
      "360/389 [==========================>...] - ETA: 2:51 - loss: 0.8600 - balanced_accuracy: 0.6973WARNING:tensorflow:Gradients do not exist for variables ['tf_bert_model/bert/pooler/dense/kernel:0', 'tf_bert_model/bert/pooler/dense/bias:0'] when minimizing the loss. If you're using `model.compile()`, did you forget to provide a `loss` argument?\n",
      "361/389 [==========================>...] - ETA: 2:45 - loss: 0.8589 - balanced_accuracy: 0.6975WARNING:tensorflow:Gradients do not exist for variables ['tf_bert_model/bert/pooler/dense/kernel:0', 'tf_bert_model/bert/pooler/dense/bias:0'] when minimizing the loss. If you're using `model.compile()`, did you forget to provide a `loss` argument?\n",
      "362/389 [==========================>...] - ETA: 2:39 - loss: 0.8577 - balanced_accuracy: 0.6981WARNING:tensorflow:Gradients do not exist for variables ['tf_bert_model/bert/pooler/dense/kernel:0', 'tf_bert_model/bert/pooler/dense/bias:0'] when minimizing the loss. If you're using `model.compile()`, did you forget to provide a `loss` argument?\n",
      "363/389 [==========================>...] - ETA: 2:34 - loss: 0.8562 - balanced_accuracy: 0.6987WARNING:tensorflow:Gradients do not exist for variables ['tf_bert_model/bert/pooler/dense/kernel:0', 'tf_bert_model/bert/pooler/dense/bias:0'] when minimizing the loss. If you're using `model.compile()`, did you forget to provide a `loss` argument?\n",
      "364/389 [===========================>..] - ETA: 2:28 - loss: 0.8548 - balanced_accuracy: 0.6992WARNING:tensorflow:Gradients do not exist for variables ['tf_bert_model/bert/pooler/dense/kernel:0', 'tf_bert_model/bert/pooler/dense/bias:0'] when minimizing the loss. If you're using `model.compile()`, did you forget to provide a `loss` argument?\n",
      "365/389 [===========================>..] - ETA: 2:22 - loss: 0.8532 - balanced_accuracy: 0.6997WARNING:tensorflow:Gradients do not exist for variables ['tf_bert_model/bert/pooler/dense/kernel:0', 'tf_bert_model/bert/pooler/dense/bias:0'] when minimizing the loss. If you're using `model.compile()`, did you forget to provide a `loss` argument?\n",
      "366/389 [===========================>..] - ETA: 2:16 - loss: 0.8517 - balanced_accuracy: 0.7002WARNING:tensorflow:Gradients do not exist for variables ['tf_bert_model/bert/pooler/dense/kernel:0', 'tf_bert_model/bert/pooler/dense/bias:0'] when minimizing the loss. If you're using `model.compile()`, did you forget to provide a `loss` argument?\n",
      "367/389 [===========================>..] - ETA: 2:10 - loss: 0.8504 - balanced_accuracy: 0.7007WARNING:tensorflow:Gradients do not exist for variables ['tf_bert_model/bert/pooler/dense/kernel:0', 'tf_bert_model/bert/pooler/dense/bias:0'] when minimizing the loss. If you're using `model.compile()`, did you forget to provide a `loss` argument?\n",
      "368/389 [===========================>..] - ETA: 2:04 - loss: 0.8495 - balanced_accuracy: 0.7012WARNING:tensorflow:Gradients do not exist for variables ['tf_bert_model/bert/pooler/dense/kernel:0', 'tf_bert_model/bert/pooler/dense/bias:0'] when minimizing the loss. If you're using `model.compile()`, did you forget to provide a `loss` argument?\n",
      "369/389 [===========================>..] - ETA: 1:59 - loss: 0.8493 - balanced_accuracy: 0.7014WARNING:tensorflow:Gradients do not exist for variables ['tf_bert_model/bert/pooler/dense/kernel:0', 'tf_bert_model/bert/pooler/dense/bias:0'] when minimizing the loss. If you're using `model.compile()`, did you forget to provide a `loss` argument?\n",
      "370/389 [===========================>..] - ETA: 1:53 - loss: 0.8479 - balanced_accuracy: 0.7018WARNING:tensorflow:Gradients do not exist for variables ['tf_bert_model/bert/pooler/dense/kernel:0', 'tf_bert_model/bert/pooler/dense/bias:0'] when minimizing the loss. If you're using `model.compile()`, did you forget to provide a `loss` argument?\n",
      "371/389 [===========================>..] - ETA: 1:47 - loss: 0.8468 - balanced_accuracy: 0.7023WARNING:tensorflow:Gradients do not exist for variables ['tf_bert_model/bert/pooler/dense/kernel:0', 'tf_bert_model/bert/pooler/dense/bias:0'] when minimizing the loss. If you're using `model.compile()`, did you forget to provide a `loss` argument?\n",
      "372/389 [===========================>..] - ETA: 1:41 - loss: 0.8457 - balanced_accuracy: 0.7028WARNING:tensorflow:Gradients do not exist for variables ['tf_bert_model/bert/pooler/dense/kernel:0', 'tf_bert_model/bert/pooler/dense/bias:0'] when minimizing the loss. If you're using `model.compile()`, did you forget to provide a `loss` argument?\n",
      "373/389 [===========================>..] - ETA: 1:35 - loss: 0.8447 - balanced_accuracy: 0.7032WARNING:tensorflow:Gradients do not exist for variables ['tf_bert_model/bert/pooler/dense/kernel:0', 'tf_bert_model/bert/pooler/dense/bias:0'] when minimizing the loss. If you're using `model.compile()`, did you forget to provide a `loss` argument?\n",
      "374/389 [===========================>..] - ETA: 1:29 - loss: 0.8439 - balanced_accuracy: 0.7037WARNING:tensorflow:Gradients do not exist for variables ['tf_bert_model/bert/pooler/dense/kernel:0', 'tf_bert_model/bert/pooler/dense/bias:0'] when minimizing the loss. If you're using `model.compile()`, did you forget to provide a `loss` argument?\n",
      "375/389 [===========================>..] - ETA: 1:24 - loss: 0.8428 - balanced_accuracy: 0.7042WARNING:tensorflow:Gradients do not exist for variables ['tf_bert_model/bert/pooler/dense/kernel:0', 'tf_bert_model/bert/pooler/dense/bias:0'] when minimizing the loss. If you're using `model.compile()`, did you forget to provide a `loss` argument?\n",
      "376/389 [===========================>..] - ETA: 1:18 - loss: 0.8422 - balanced_accuracy: 0.7045WARNING:tensorflow:Gradients do not exist for variables ['tf_bert_model/bert/pooler/dense/kernel:0', 'tf_bert_model/bert/pooler/dense/bias:0'] when minimizing the loss. If you're using `model.compile()`, did you forget to provide a `loss` argument?\n",
      "377/389 [============================>.] - ETA: 1:12 - loss: 0.8417 - balanced_accuracy: 0.7045WARNING:tensorflow:Gradients do not exist for variables ['tf_bert_model/bert/pooler/dense/kernel:0', 'tf_bert_model/bert/pooler/dense/bias:0'] when minimizing the loss. If you're using `model.compile()`, did you forget to provide a `loss` argument?\n",
      "378/389 [============================>.] - ETA: 1:06 - loss: 0.8410 - balanced_accuracy: 0.7048WARNING:tensorflow:Gradients do not exist for variables ['tf_bert_model/bert/pooler/dense/kernel:0', 'tf_bert_model/bert/pooler/dense/bias:0'] when minimizing the loss. If you're using `model.compile()`, did you forget to provide a `loss` argument?\n",
      "379/389 [============================>.] - ETA: 1:00 - loss: 0.8401 - balanced_accuracy: 0.7051WARNING:tensorflow:Gradients do not exist for variables ['tf_bert_model/bert/pooler/dense/kernel:0', 'tf_bert_model/bert/pooler/dense/bias:0'] when minimizing the loss. If you're using `model.compile()`, did you forget to provide a `loss` argument?\n",
      "380/389 [============================>.] - ETA: 54s - loss: 0.8391 - balanced_accuracy: 0.7054 WARNING:tensorflow:Gradients do not exist for variables ['tf_bert_model/bert/pooler/dense/kernel:0', 'tf_bert_model/bert/pooler/dense/bias:0'] when minimizing the loss. If you're using `model.compile()`, did you forget to provide a `loss` argument?\n",
      "381/389 [============================>.] - ETA: 48s - loss: 0.8381 - balanced_accuracy: 0.7058WARNING:tensorflow:Gradients do not exist for variables ['tf_bert_model/bert/pooler/dense/kernel:0', 'tf_bert_model/bert/pooler/dense/bias:0'] when minimizing the loss. If you're using `model.compile()`, did you forget to provide a `loss` argument?\n",
      "382/389 [============================>.] - ETA: 42s - loss: 0.8368 - balanced_accuracy: 0.7062WARNING:tensorflow:Gradients do not exist for variables ['tf_bert_model/bert/pooler/dense/kernel:0', 'tf_bert_model/bert/pooler/dense/bias:0'] when minimizing the loss. If you're using `model.compile()`, did you forget to provide a `loss` argument?\n",
      "383/389 [============================>.] - ETA: 36s - loss: 0.8355 - balanced_accuracy: 0.7066WARNING:tensorflow:Gradients do not exist for variables ['tf_bert_model/bert/pooler/dense/kernel:0', 'tf_bert_model/bert/pooler/dense/bias:0'] when minimizing the loss. If you're using `model.compile()`, did you forget to provide a `loss` argument?\n",
      "384/389 [============================>.] - ETA: 30s - loss: 0.8344 - balanced_accuracy: 0.7070WARNING:tensorflow:Gradients do not exist for variables ['tf_bert_model/bert/pooler/dense/kernel:0', 'tf_bert_model/bert/pooler/dense/bias:0'] when minimizing the loss. If you're using `model.compile()`, did you forget to provide a `loss` argument?\n",
      "385/389 [============================>.] - ETA: 24s - loss: 0.8335 - balanced_accuracy: 0.7073WARNING:tensorflow:Gradients do not exist for variables ['tf_bert_model/bert/pooler/dense/kernel:0', 'tf_bert_model/bert/pooler/dense/bias:0'] when minimizing the loss. If you're using `model.compile()`, did you forget to provide a `loss` argument?\n",
      "386/389 [============================>.] - ETA: 18s - loss: 0.8326 - balanced_accuracy: 0.7075WARNING:tensorflow:Gradients do not exist for variables ['tf_bert_model/bert/pooler/dense/kernel:0', 'tf_bert_model/bert/pooler/dense/bias:0'] when minimizing the loss. If you're using `model.compile()`, did you forget to provide a `loss` argument?\n",
      "387/389 [============================>.] - ETA: 12s - loss: 0.8311 - balanced_accuracy: 0.7079WARNING:tensorflow:Gradients do not exist for variables ['tf_bert_model/bert/pooler/dense/kernel:0', 'tf_bert_model/bert/pooler/dense/bias:0'] when minimizing the loss. If you're using `model.compile()`, did you forget to provide a `loss` argument?\n",
      "388/389 [============================>.] - ETA: 6s - loss: 0.8301 - balanced_accuracy: 0.7083 WARNING:tensorflow:Gradients do not exist for variables ['tf_bert_model/bert/pooler/dense/kernel:0', 'tf_bert_model/bert/pooler/dense/bias:0'] when minimizing the loss. If you're using `model.compile()`, did you forget to provide a `loss` argument?\n",
      "389/389 [==============================] - ETA: 0s - loss: 0.8292 - balanced_accuracy: 0.7087"
     ]
    },
    {
     "ename": "ValueError",
     "evalue": "Data cardinality is ambiguous:\n  x sizes: 6000, 6000\n  y sizes: 14000\nMake sure all arrays contain the same number of samples.",
     "output_type": "error",
     "traceback": [
      "\u001b[0;31m---------------------------------------------------------------------------\u001b[0m",
      "\u001b[0;31mValueError\u001b[0m                                Traceback (most recent call last)",
      "Cell \u001b[0;32mIn[48], line 1\u001b[0m\n\u001b[0;32m----> 1\u001b[0m train_history \u001b[38;5;241m=\u001b[39m \u001b[43mmodel\u001b[49m\u001b[38;5;241;43m.\u001b[39;49m\u001b[43mfit\u001b[49m\u001b[43m(\u001b[49m\n\u001b[1;32m      2\u001b[0m \u001b[43m    \u001b[49m\u001b[43mx\u001b[49m\u001b[43m \u001b[49m\u001b[38;5;241;43m=\u001b[39;49m\u001b[43m \u001b[49m\u001b[43m{\u001b[49m\u001b[38;5;124;43m'\u001b[39;49m\u001b[38;5;124;43minput_ids\u001b[39;49m\u001b[38;5;124;43m'\u001b[39;49m\u001b[43m:\u001b[49m\u001b[43mx_train\u001b[49m\u001b[43m[\u001b[49m\u001b[38;5;124;43m'\u001b[39;49m\u001b[38;5;124;43minput_ids\u001b[39;49m\u001b[38;5;124;43m'\u001b[39;49m\u001b[43m]\u001b[49m\u001b[43m,\u001b[49m\u001b[43m \u001b[49m\u001b[38;5;124;43m'\u001b[39;49m\u001b[38;5;124;43mattention_mask\u001b[39;49m\u001b[38;5;124;43m'\u001b[39;49m\u001b[43m:\u001b[49m\u001b[43mx_train\u001b[49m\u001b[43m[\u001b[49m\u001b[38;5;124;43m'\u001b[39;49m\u001b[38;5;124;43mattention_mask\u001b[39;49m\u001b[38;5;124;43m'\u001b[39;49m\u001b[43m]\u001b[49m\u001b[43m}\u001b[49m\u001b[43m,\u001b[49m\n\u001b[1;32m      3\u001b[0m \u001b[43m    \u001b[49m\u001b[43my\u001b[49m\u001b[43m \u001b[49m\u001b[38;5;241;43m=\u001b[39;49m\u001b[43m \u001b[49m\u001b[43mto_categorical\u001b[49m\u001b[43m(\u001b[49m\u001b[43mdata_train\u001b[49m\u001b[38;5;241;43m.\u001b[39;49m\u001b[43mSentiment\u001b[49m\u001b[43m)\u001b[49m\u001b[43m,\u001b[49m\n\u001b[1;32m      4\u001b[0m \u001b[43m    \u001b[49m\u001b[43mvalidation_data\u001b[49m\u001b[43m \u001b[49m\u001b[38;5;241;43m=\u001b[39;49m\u001b[43m \u001b[49m\u001b[43m(\u001b[49m\n\u001b[1;32m      5\u001b[0m \u001b[43m        \u001b[49m\u001b[43m{\u001b[49m\u001b[38;5;124;43m'\u001b[39;49m\u001b[38;5;124;43minput_ids\u001b[39;49m\u001b[38;5;124;43m'\u001b[39;49m\u001b[43m:\u001b[49m\u001b[43m \u001b[49m\u001b[43mx_test\u001b[49m\u001b[43m[\u001b[49m\u001b[38;5;124;43m'\u001b[39;49m\u001b[38;5;124;43minput_ids\u001b[39;49m\u001b[38;5;124;43m'\u001b[39;49m\u001b[43m]\u001b[49m\u001b[43m,\u001b[49m\u001b[43m \u001b[49m\u001b[38;5;124;43m'\u001b[39;49m\u001b[38;5;124;43mattention_mask\u001b[39;49m\u001b[38;5;124;43m'\u001b[39;49m\u001b[43m:\u001b[49m\u001b[43mx_test\u001b[49m\u001b[43m[\u001b[49m\u001b[38;5;124;43m'\u001b[39;49m\u001b[38;5;124;43mattention_mask\u001b[39;49m\u001b[38;5;124;43m'\u001b[39;49m\u001b[43m]\u001b[49m\u001b[43m}\u001b[49m\u001b[43m,\u001b[49m\u001b[43m \u001b[49m\u001b[43mto_categorical\u001b[49m\u001b[43m(\u001b[49m\u001b[43mdata_train\u001b[49m\u001b[38;5;241;43m.\u001b[39;49m\u001b[43mSentiment\u001b[49m\u001b[43m)\u001b[49m\n\u001b[1;32m      6\u001b[0m \u001b[43m    \u001b[49m\u001b[43m)\u001b[49m\u001b[43m,\u001b[49m\n\u001b[1;32m      7\u001b[0m \u001b[43m    \u001b[49m\u001b[43mepochs\u001b[49m\u001b[43m \u001b[49m\u001b[38;5;241;43m=\u001b[39;49m\u001b[43m \u001b[49m\u001b[38;5;241;43m1\u001b[39;49m\u001b[43m,\u001b[49m\n\u001b[1;32m      8\u001b[0m \u001b[43m    \u001b[49m\u001b[43mbatch_size\u001b[49m\u001b[43m \u001b[49m\u001b[38;5;241;43m=\u001b[39;49m\u001b[43m \u001b[49m\u001b[38;5;241;43m36\u001b[39;49m\n\u001b[1;32m      9\u001b[0m \u001b[43m)\u001b[49m\n",
      "File \u001b[0;32m~/miniconda3/lib/python3.9/site-packages/keras/utils/traceback_utils.py:70\u001b[0m, in \u001b[0;36mfilter_traceback.<locals>.error_handler\u001b[0;34m(*args, **kwargs)\u001b[0m\n\u001b[1;32m     <a href='file:///Users/ekanshgupta/miniconda3/lib/python3.9/site-packages/keras/utils/traceback_utils.py?line=66'>67</a>\u001b[0m     filtered_tb \u001b[39m=\u001b[39m _process_traceback_frames(e\u001b[39m.\u001b[39m__traceback__)\n\u001b[1;32m     <a href='file:///Users/ekanshgupta/miniconda3/lib/python3.9/site-packages/keras/utils/traceback_utils.py?line=67'>68</a>\u001b[0m     \u001b[39m# To get the full stack trace, call:\u001b[39;00m\n\u001b[1;32m     <a href='file:///Users/ekanshgupta/miniconda3/lib/python3.9/site-packages/keras/utils/traceback_utils.py?line=68'>69</a>\u001b[0m     \u001b[39m# `tf.debugging.disable_traceback_filtering()`\u001b[39;00m\n\u001b[0;32m---> <a href='file:///Users/ekanshgupta/miniconda3/lib/python3.9/site-packages/keras/utils/traceback_utils.py?line=69'>70</a>\u001b[0m     \u001b[39mraise\u001b[39;00m e\u001b[39m.\u001b[39mwith_traceback(filtered_tb) \u001b[39mfrom\u001b[39;00m \u001b[39mNone\u001b[39m\n\u001b[1;32m     <a href='file:///Users/ekanshgupta/miniconda3/lib/python3.9/site-packages/keras/utils/traceback_utils.py?line=70'>71</a>\u001b[0m \u001b[39mfinally\u001b[39;00m:\n\u001b[1;32m     <a href='file:///Users/ekanshgupta/miniconda3/lib/python3.9/site-packages/keras/utils/traceback_utils.py?line=71'>72</a>\u001b[0m     \u001b[39mdel\u001b[39;00m filtered_tb\n",
      "File \u001b[0;32m~/miniconda3/lib/python3.9/site-packages/keras/engine/data_adapter.py:1851\u001b[0m, in \u001b[0;36m_check_data_cardinality\u001b[0;34m(data)\u001b[0m\n\u001b[1;32m   <a href='file:///Users/ekanshgupta/miniconda3/lib/python3.9/site-packages/keras/engine/data_adapter.py?line=1843'>1844</a>\u001b[0m     msg \u001b[39m+\u001b[39m\u001b[39m=\u001b[39m \u001b[39m\"\u001b[39m\u001b[39m  \u001b[39m\u001b[39m{}\u001b[39;00m\u001b[39m sizes: \u001b[39m\u001b[39m{}\u001b[39;00m\u001b[39m\\n\u001b[39;00m\u001b[39m\"\u001b[39m\u001b[39m.\u001b[39mformat(\n\u001b[1;32m   <a href='file:///Users/ekanshgupta/miniconda3/lib/python3.9/site-packages/keras/engine/data_adapter.py?line=1844'>1845</a>\u001b[0m         label,\n\u001b[1;32m   <a href='file:///Users/ekanshgupta/miniconda3/lib/python3.9/site-packages/keras/engine/data_adapter.py?line=1845'>1846</a>\u001b[0m         \u001b[39m\"\u001b[39m\u001b[39m, \u001b[39m\u001b[39m\"\u001b[39m\u001b[39m.\u001b[39mjoin(\n\u001b[1;32m   <a href='file:///Users/ekanshgupta/miniconda3/lib/python3.9/site-packages/keras/engine/data_adapter.py?line=1846'>1847</a>\u001b[0m             \u001b[39mstr\u001b[39m(i\u001b[39m.\u001b[39mshape[\u001b[39m0\u001b[39m]) \u001b[39mfor\u001b[39;00m i \u001b[39min\u001b[39;00m tf\u001b[39m.\u001b[39mnest\u001b[39m.\u001b[39mflatten(single_data)\n\u001b[1;32m   <a href='file:///Users/ekanshgupta/miniconda3/lib/python3.9/site-packages/keras/engine/data_adapter.py?line=1847'>1848</a>\u001b[0m         ),\n\u001b[1;32m   <a href='file:///Users/ekanshgupta/miniconda3/lib/python3.9/site-packages/keras/engine/data_adapter.py?line=1848'>1849</a>\u001b[0m     )\n\u001b[1;32m   <a href='file:///Users/ekanshgupta/miniconda3/lib/python3.9/site-packages/keras/engine/data_adapter.py?line=1849'>1850</a>\u001b[0m msg \u001b[39m+\u001b[39m\u001b[39m=\u001b[39m \u001b[39m\"\u001b[39m\u001b[39mMake sure all arrays contain the same number of samples.\u001b[39m\u001b[39m\"\u001b[39m\n\u001b[0;32m-> <a href='file:///Users/ekanshgupta/miniconda3/lib/python3.9/site-packages/keras/engine/data_adapter.py?line=1850'>1851</a>\u001b[0m \u001b[39mraise\u001b[39;00m \u001b[39mValueError\u001b[39;00m(msg)\n",
      "\u001b[0;31mValueError\u001b[0m: Data cardinality is ambiguous:\n  x sizes: 6000, 6000\n  y sizes: 14000\nMake sure all arrays contain the same number of samples."
     ]
    }
   ],
   "source": [
    "train_history = model.fit(\n",
    "    x = {'input_ids':x_train['input_ids'], 'attention_mask':x_train['attention_mask']},\n",
    "    y = to_categorical(data_train.Sentiment),\n",
    "    validation_data = (\n",
    "        {'input_ids': x_test['input_ids'], 'attention_mask':x_test['attention_mask']}, to_categorical(data_train.Sentiment)\n",
    "    ),\n",
    "    epochs = 1,\n",
    "    batch_size = 36\n",
    ")"
   ]
  },
  {
   "cell_type": "code",
   "execution_count": 49,
   "metadata": {},
   "outputs": [
    {
     "name": "stdout",
     "output_type": "stream",
     "text": [
      "188/188 [==============================] - 220s 1s/step\n"
     ]
    }
   ],
   "source": [
    "predicted_raw = model.predict({'input_ids' : x_test['input_ids'], 'attention_mask': x_test['attention_mask']})"
   ]
  },
  {
   "cell_type": "code",
   "execution_count": 50,
   "metadata": {},
   "outputs": [
    {
     "data": {
      "text/plain": [
       "array([0.9249266 , 0.79025155, 0.3010679 , 0.03423624, 0.23898873,\n",
       "       0.28776443], dtype=float32)"
      ]
     },
     "execution_count": 50,
     "metadata": {},
     "output_type": "execute_result"
    }
   ],
   "source": [
    "predicted_raw[0]"
   ]
  },
  {
   "cell_type": "code",
   "execution_count": 51,
   "metadata": {},
   "outputs": [],
   "source": [
    "from pandas import np\n",
    "y_predicted = np.argmax(predicted_raw, axis=1)"
   ]
  },
  {
   "cell_type": "code",
   "execution_count": 52,
   "metadata": {},
   "outputs": [
    {
     "data": {
      "text/plain": [
       "'              precision    recall  f1-score   support\\n\\n           0       0.89      0.87      0.88       813\\n           1       0.90      0.80      0.85       712\\n           2       0.86      0.91      0.89      2028\\n           3       0.75      0.62      0.68       492\\n           4       0.91      0.94      0.93      1739\\n           5       0.77      0.71      0.74       216\\n\\n    accuracy                           0.87      6000\\n   macro avg       0.85      0.81      0.83      6000\\nweighted avg       0.87      0.87      0.87      6000\\n'"
      ]
     },
     "execution_count": 52,
     "metadata": {},
     "output_type": "execute_result"
    }
   ],
   "source": [
    "from sklearn.metrics import classification_report\n",
    "classification_report(data_test.Sentiment, y_predicted)"
   ]
  },
  {
   "cell_type": "code",
   "execution_count": 67,
   "metadata": {},
   "outputs": [],
   "source": [
    "#import from Tweet.ipynb\n",
    "%store -r tweets_simplify\n",
    "%store -r body\n",
    "%store -r ticker\n",
    "%store -r stock_price"
   ]
  },
  {
   "cell_type": "code",
   "execution_count": 68,
   "metadata": {},
   "outputs": [
    {
     "name": "stdout",
     "output_type": "stream",
     "text": [
      "2/2 [==============================] - 3s 408ms/step\n"
     ]
    },
    {
     "data": {
      "text/plain": [
       "array([[42.530777 , 19.809439 , 88.05628  , 37.564724 , 41.909397 ,\n",
       "        14.473362 ],\n",
       "       [42.530777 , 19.809439 , 88.05628  , 37.564724 , 41.909397 ,\n",
       "        14.473362 ],\n",
       "       [43.271942 , 35.537632 , 62.97938  , 30.342516 , 80.75502  ,\n",
       "        12.181705 ],\n",
       "       [44.801712 , 15.168844 , 94.86046  , 32.72899  , 33.637608 ,\n",
       "        14.825275 ],\n",
       "       [41.93366  , 38.6899   , 75.14487  , 24.16026  , 47.19691  ,\n",
       "        30.67519  ],\n",
       "       [48.329533 , 39.418404 , 81.320694 , 29.387987 , 63.207924 ,\n",
       "        18.214079 ],\n",
       "       [45.09989  , 34.412354 , 63.447697 , 25.810505 , 79.02218  ,\n",
       "        13.131216 ],\n",
       "       [25.348902 , 16.199373 , 92.95924  , 41.826202 , 40.570496 ,\n",
       "        16.56161  ],\n",
       "       [37.68558  , 19.203468 , 89.26843  , 44.82439  , 34.320812 ,\n",
       "        18.64868  ],\n",
       "       [37.68558  , 19.203468 , 89.26843  , 44.82439  , 34.320812 ,\n",
       "        18.64868  ],\n",
       "       [29.618484 , 16.897245 , 90.52772  , 39.612522 , 42.79575  ,\n",
       "        18.471832 ],\n",
       "       [40.452797 , 24.829744 , 85.39245  , 27.976217 , 31.371965 ,\n",
       "        21.071085 ],\n",
       "       [40.452797 , 24.829744 , 85.39245  , 27.976217 , 31.371965 ,\n",
       "        21.071085 ],\n",
       "       [40.452797 , 24.829744 , 85.39245  , 27.976217 , 31.371965 ,\n",
       "        21.071085 ],\n",
       "       [40.452797 , 24.829744 , 85.39245  , 27.976217 , 31.371965 ,\n",
       "        21.071085 ],\n",
       "       [31.618994 , 18.782768 , 90.162834 , 38.648228 , 42.940224 ,\n",
       "        17.80826  ],\n",
       "       [43.863018 , 21.652664 , 84.926895 , 34.36234  , 29.766611 ,\n",
       "        23.260052 ],\n",
       "       [33.82959  , 14.394297 , 95.58497  , 42.44024  , 29.443499 ,\n",
       "        15.580432 ],\n",
       "       [33.82959  , 14.394297 , 95.58497  , 42.44024  , 29.443499 ,\n",
       "        15.580432 ],\n",
       "       [33.82959  , 14.394297 , 95.58497  , 42.44024  , 29.443499 ,\n",
       "        15.580432 ],\n",
       "       [44.6502   , 23.461258 , 83.34618  , 35.073544 , 31.498804 ,\n",
       "        23.796314 ],\n",
       "       [38.34386  , 14.778909 , 95.322815 , 46.51279  , 23.57456  ,\n",
       "        15.115634 ],\n",
       "       [38.34386  , 14.778909 , 95.322815 , 46.51279  , 23.57456  ,\n",
       "        15.115634 ],\n",
       "       [38.34386  , 14.778909 , 95.322815 , 46.51279  , 23.57456  ,\n",
       "        15.115634 ],\n",
       "       [43.148403 , 28.091425 , 88.47805  , 45.425262 , 35.601555 ,\n",
       "        16.687418 ],\n",
       "       [39.183662 , 17.908392 , 87.27289  , 56.96299  , 43.269955 ,\n",
       "        16.720245 ],\n",
       "       [43.408695 , 25.292189 , 81.10268  , 40.16458  , 44.04977  ,\n",
       "        18.121368 ],\n",
       "       [55.656815 , 49.174965 , 77.583855 , 48.66444  , 72.238846 ,\n",
       "        11.647907 ],\n",
       "       [33.03373  , 19.752697 , 85.13643  , 59.474255 , 60.119884 ,\n",
       "        13.0053   ],\n",
       "       [42.85708  , 23.242716 , 80.042854 , 30.024702 , 47.487225 ,\n",
       "        17.054108 ],\n",
       "       [33.558228 , 16.41982  , 94.49     , 45.643913 , 41.865517 ,\n",
       "        12.838914 ],\n",
       "       [64.23599  , 38.616108 , 79.90153  , 32.804398 , 49.70575  ,\n",
       "        19.714994 ],\n",
       "       [32.943077 , 25.181553 , 85.24883  , 32.492966 , 31.410376 ,\n",
       "        17.664669 ],\n",
       "       [27.332676 , 42.51687  , 75.26977  , 21.189114 , 37.8985   ,\n",
       "        28.866695 ],\n",
       "       [61.487953 , 42.73766  , 63.42023  , 20.397545 , 63.98167  ,\n",
       "        13.175352 ],\n",
       "       [39.08378  , 20.824389 , 86.57078  , 35.39379  , 32.238884 ,\n",
       "        15.7593565],\n",
       "       [49.990494 , 30.2135   , 79.04512  , 22.442493 , 28.58828  ,\n",
       "        23.734388 ],\n",
       "       [31.370779 , 18.300108 , 90.40976  , 38.612503 , 44.813663 ,\n",
       "        17.289244 ],\n",
       "       [33.77591  , 12.876375 , 94.538536 , 37.262367 , 23.28448  ,\n",
       "        16.374435 ],\n",
       "       [30.227041 , 15.921797 , 92.44187  , 58.458622 , 47.602066 ,\n",
       "         6.110602 ],\n",
       "       [40.375248 , 19.385769 , 91.69662  , 53.564877 , 32.946415 ,\n",
       "        13.263279 ],\n",
       "       [40.375248 , 19.385769 , 91.69662  , 53.564877 , 32.946415 ,\n",
       "        13.263279 ],\n",
       "       [41.320404 , 25.646624 , 86.17866  , 36.92571  , 40.419624 ,\n",
       "        18.472313 ]], dtype=float32)"
      ]
     },
     "execution_count": 68,
     "metadata": {},
     "output_type": "execute_result"
    }
   ],
   "source": [
    "#texts = [\"i think this stock has great potential\"]\n",
    "\n",
    "x_val = tokenizer(\n",
    "    text = body,\n",
    "    add_special_tokens=True,\n",
    "    max_length = 36,\n",
    "    truncation = True,\n",
    "    padding='max_length',\n",
    "    return_tensors='tf',\n",
    "    return_token_type_ids=False,\n",
    "    return_attention_mask=True,\n",
    "    verbose=True\n",
    ")\n",
    "\n",
    "validation = model.predict({'input_ids':x_val['input_ids'],'attention_mask':x_val['attention_mask']})*100\n",
    "validation"
   ]
  },
  {
   "cell_type": "code",
   "execution_count": 69,
   "metadata": {},
   "outputs": [
    {
     "name": "stdout",
     "output_type": "stream",
     "text": [
      "Tweet:  \"http://iphone.appleinsider.com/articles/14/12/30/editorial-the-world-revolved-around-apple-inc-in-2014…\" .@DanielEran Awesome journalism as usual. #mustread $GOOG $AAPL\n",
      "anger 42.530777\n",
      "fear 19.809439\n",
      "joy 88.05628\n",
      "love 37.564724\n",
      "sadness 41.909397\n",
      "surprise 14.473362\n",
      "Stock:  AAPL\n",
      "Stock Price:  2.66 \n",
      "\n",
      "Tweet:  \"http://iphone.appleinsider.com/articles/14/12/30/editorial-the-world-revolved-around-apple-inc-in-2014…\" .@DanielEran Awesome journalism as usual. #mustread $GOOG $AAPL\n",
      "anger 42.530777\n",
      "fear 19.809439\n",
      "joy 88.05628\n",
      "love 37.564724\n",
      "sadness 41.909397\n",
      "surprise 14.473362\n",
      "Stock:  GOOG\n",
      "Stock Price:  4.69 \n",
      "\n",
      "Tweet:  Jeff Bezos lost $7.4 billion in Amazon's worst year since 2008: http://on.wsj.com/1Acvuo6 $AMZN\n",
      "anger 43.271942\n",
      "fear 35.537632\n",
      "joy 62.97938\n",
      "love 30.342516\n",
      "sadness 80.75502\n",
      "surprise 12.181705\n",
      "Stock:  AMZN\n",
      "Stock Price:  0.14 \n",
      "\n",
      "Tweet:  $MU $AAPL $SUNE Propel Greenlight To 9% Return In 2014 http://valuewalk.com/2014/12/apple-micron-sune-greenlight/… $MRVL $GLD\n",
      "anger 44.801712\n",
      "fear 15.168844\n",
      "joy 94.86046\n",
      "love 32.72899\n",
      "sadness 33.637608\n",
      "surprise 14.825275\n",
      "Stock:  AAPL\n",
      "Stock Price:  2.66 \n",
      "\n",
      "Tweet:  #FoolFaves2014 Lo, how the mighty have fallen? Why the future of $AAPL's iPad is looking murkier:\n",
      "anger 41.93366\n",
      "fear 38.6899\n",
      "joy 75.14487\n",
      "love 24.16026\n",
      "sadness 47.19691\n",
      "surprise 30.67519\n",
      "Stock:  AAPL\n",
      "Stock Price:  2.66 \n",
      "\n",
      "Tweet:  Earlier this month, a mysterious glitch caused $AAPL to suddenly drop 6% » http://cnb.cx/1wafKRS (via @JohnMelloy)\n",
      "anger 48.329533\n",
      "fear 39.418404\n",
      "joy 81.320694\n",
      "love 29.387987\n",
      "sadness 63.207924\n",
      "surprise 18.214079\n",
      "Stock:  AAPL\n",
      "Stock Price:  2.66 \n",
      "\n",
      "Tweet:  Jeff Bezos lost $7.4 billion in Amazon's worst year since 2008: http://on.wsj.com/1BmKuz3 $AMZN\n",
      "anger 45.09989\n",
      "fear 34.412354\n",
      "joy 63.447697\n",
      "love 25.810505\n",
      "sadness 79.02218\n",
      "surprise 13.131216\n",
      "Stock:  AMZN\n",
      "Stock Price:  0.14 \n",
      "\n",
      "Tweet:  Wow! $AAPL #mobile MT @stevesi 'Computing power in iPhone 5S in '91 would have cost $3.56 million.' http://businessinsider.com/technology-the-great-equalizer-2014-12…\n",
      "anger 25.348902\n",
      "fear 16.199373\n",
      "joy 92.95924\n",
      "love 41.826202\n",
      "sadness 40.570496\n",
      "surprise 16.56161\n",
      "Stock:  AAPL\n",
      "Stock Price:  2.66 \n",
      "\n",
      "Tweet:  Analyst Report on Top Stock Market Options for 2015 Read Here $AAPL $AMZN $BABA $EBAY http://goo.gl/puLqYi\n",
      "anger 37.68558\n",
      "fear 19.203468\n",
      "joy 89.26843\n",
      "love 44.82439\n",
      "sadness 34.320812\n",
      "surprise 18.64868\n",
      "Stock:  AAPL\n",
      "Stock Price:  2.66 \n",
      "\n",
      "Tweet:  Analyst Report on Top Stock Market Options for 2015 Read Here $AAPL $AMZN $BABA $EBAY http://goo.gl/puLqYi\n",
      "anger 37.68558\n",
      "fear 19.203468\n",
      "joy 89.26843\n",
      "love 44.82439\n",
      "sadness 34.320812\n",
      "surprise 18.64868\n",
      "Stock:  AMZN\n",
      "Stock Price:  0.14 \n",
      "\n",
      "Tweet:  See how tech companies like Apple, Twitter and Facebook rank in terms of diversity: http://on.wsj.com/1BmB3j7 $AAPL $FB\n",
      "anger 29.618484\n",
      "fear 16.897245\n",
      "joy 90.52772\n",
      "love 39.612522\n",
      "sadness 42.79575\n",
      "surprise 18.471832\n",
      "Stock:  AAPL\n",
      "Stock Price:  2.66 \n",
      "\n",
      "Tweet:  2015 Tech Forecast: Clouds, Wearables, Cybersecurity http://news.investors.com/technology/123114-732780-wearables-cloud-ott-tv-cybersecurity-big-in-2015-predictions.htm… #IBDNews via @IBDinvestors  $AAPL $MSFT $AMZN $GOOGL $NFLX $TMUS\n",
      "anger 40.452797\n",
      "fear 24.829744\n",
      "joy 85.39245\n",
      "love 27.976217\n",
      "sadness 31.371965\n",
      "surprise 21.071085\n",
      "Stock:  AAPL\n",
      "Stock Price:  2.66 \n",
      "\n",
      "Tweet:  2015 Tech Forecast: Clouds, Wearables, Cybersecurity http://news.investors.com/technology/123114-732780-wearables-cloud-ott-tv-cybersecurity-big-in-2015-predictions.htm… #IBDNews via @IBDinvestors  $AAPL $MSFT $AMZN $GOOGL $NFLX $TMUS\n",
      "anger 40.452797\n",
      "fear 24.829744\n",
      "joy 85.39245\n",
      "love 27.976217\n",
      "sadness 31.371965\n",
      "surprise 21.071085\n",
      "Stock:  GOOGL\n",
      "Stock Price:  5.4 \n",
      "\n",
      "Tweet:  2015 Tech Forecast: Clouds, Wearables, Cybersecurity http://news.investors.com/technology/123114-732780-wearables-cloud-ott-tv-cybersecurity-big-in-2015-predictions.htm… #IBDNews via @IBDinvestors  $AAPL $MSFT $AMZN $GOOGL $NFLX $TMUS\n",
      "anger 40.452797\n",
      "fear 24.829744\n",
      "joy 85.39245\n",
      "love 27.976217\n",
      "sadness 31.371965\n",
      "surprise 21.071085\n",
      "Stock:  AMZN\n",
      "Stock Price:  0.14 \n",
      "\n",
      "Tweet:  2015 Tech Forecast: Clouds, Wearables, Cybersecurity http://news.investors.com/technology/123114-732780-wearables-cloud-ott-tv-cybersecurity-big-in-2015-predictions.htm… #IBDNews via @IBDinvestors  $AAPL $MSFT $AMZN $GOOGL $NFLX $TMUS\n",
      "anger 40.452797\n",
      "fear 24.829744\n",
      "joy 85.39245\n",
      "love 27.976217\n",
      "sadness 31.371965\n",
      "surprise 21.071085\n",
      "Stock:  MSFT\n",
      "Stock Price:  0.84 \n",
      "\n",
      "Tweet:  See how tech companies like Apple, Twitter and Facebook rank in terms of diversity: http://on.wsj.com/1CTSFXS $AAPL $FB\n",
      "anger 31.618994\n",
      "fear 18.782768\n",
      "joy 90.162834\n",
      "love 38.648228\n",
      "sadness 42.940224\n",
      "surprise 17.80826\n",
      "Stock:  AAPL\n",
      "Stock Price:  2.66 \n",
      "\n",
      "Tweet:  New Post - \"Apple Stock Pullback: Price Targets & Levels To Watch\" http://seeitmarket.com/apple-stock-pullback-price-targets-levels-aapl-13985/… by @andrewnyquist | $AAPL\n",
      "anger 43.863018\n",
      "fear 21.652664\n",
      "joy 84.926895\n",
      "love 34.36234\n",
      "sadness 29.766611\n",
      "surprise 23.260052\n",
      "Stock:  AAPL\n",
      "Stock Price:  2.66 \n",
      "\n",
      "Tweet:  2015 technology forecasts: Wearable technology innovation > wearable sales http://ibdn.uz/GEE4x $AAPL $T $VZ $MSFT $AMZN $NFLX\n",
      "anger 33.82959\n",
      "fear 14.394297\n",
      "joy 95.58497\n",
      "love 42.44024\n",
      "sadness 29.443499\n",
      "surprise 15.580432\n",
      "Stock:  AAPL\n",
      "Stock Price:  2.66 \n",
      "\n",
      "Tweet:  2015 technology forecasts: Wearable technology innovation > wearable sales http://ibdn.uz/GEE4x $AAPL $T $VZ $MSFT $AMZN $NFLX\n",
      "anger 33.82959\n",
      "fear 14.394297\n",
      "joy 95.58497\n",
      "love 42.44024\n",
      "sadness 29.443499\n",
      "surprise 15.580432\n",
      "Stock:  AMZN\n",
      "Stock Price:  0.14 \n",
      "\n",
      "Tweet:  2015 technology forecasts: Wearable technology innovation > wearable sales http://ibdn.uz/GEE4x $AAPL $T $VZ $MSFT $AMZN $NFLX\n",
      "anger 33.82959\n",
      "fear 14.394297\n",
      "joy 95.58497\n",
      "love 42.44024\n",
      "sadness 29.443499\n",
      "surprise 15.580432\n",
      "Stock:  MSFT\n",
      "Stock Price:  0.84 \n",
      "\n",
      "Tweet:  New Post - \"Apple Stock Pullback: Price Targets and Levels to Watch\" http://seeitmarket.com/apple-stock-pullback-price-targets-levels-aapl-13985/… via @seeitmarket | $AAPL\n",
      "anger 44.6502\n",
      "fear 23.461258\n",
      "joy 83.34618\n",
      "love 35.073544\n",
      "sadness 31.498804\n",
      "surprise 23.796314\n",
      "Stock:  AAPL\n",
      "Stock Price:  2.66 \n",
      "\n",
      "Tweet:  IBD:2015 technology forecasts: Wearable technology innovation &gt; wearable sales http://ibdn.uz/GEE4x $AAPL $T $VZ $MSFT $AMZN $NFLX\n",
      "anger 38.34386\n",
      "fear 14.778909\n",
      "joy 95.322815\n",
      "love 46.51279\n",
      "sadness 23.57456\n",
      "surprise 15.115634\n",
      "Stock:  AAPL\n",
      "Stock Price:  2.66 \n",
      "\n",
      "Tweet:  IBD:2015 technology forecasts: Wearable technology innovation &gt; wearable sales http://ibdn.uz/GEE4x $AAPL $T $VZ $MSFT $AMZN $NFLX\n",
      "anger 38.34386\n",
      "fear 14.778909\n",
      "joy 95.322815\n",
      "love 46.51279\n",
      "sadness 23.57456\n",
      "surprise 15.115634\n",
      "Stock:  AMZN\n",
      "Stock Price:  0.14 \n",
      "\n",
      "Tweet:  IBD:2015 technology forecasts: Wearable technology innovation &gt; wearable sales http://ibdn.uz/GEE4x $AAPL $T $VZ $MSFT $AMZN $NFLX\n",
      "anger 38.34386\n",
      "fear 14.778909\n",
      "joy 95.322815\n",
      "love 46.51279\n",
      "sadness 23.57456\n",
      "surprise 15.115634\n",
      "Stock:  MSFT\n",
      "Stock Price:  0.84 \n",
      "\n",
      "Tweet:  Kirill Klip.: China Extends Electric-Car Incentives As Shenzhen Caps New Cars Registrations. http://kirillklip.blogspot.com/2015/01/china-extends-electric-car-incentives.html#.VKWG7EE1u2c.twitter… $ILHMF $TRRXF $LIT $TSLA\n",
      "anger 43.148403\n",
      "fear 28.091425\n",
      "joy 88.47805\n",
      "love 45.425262\n",
      "sadness 35.601555\n",
      "surprise 16.687418\n",
      "Stock:  TSLA\n",
      "Stock Price:  -2.19 \n",
      "\n",
      "Tweet:  Memo to @elonmusk: Tesla's accounting is as creative as its engineering. Eventually it will catch fire like your cars. $TSLA\n",
      "anger 39.183662\n",
      "fear 17.908392\n",
      "joy 87.27289\n",
      "love 56.96299\n",
      "sadness 43.269955\n",
      "surprise 16.720245\n",
      "Stock:  TSLA\n",
      "Stock Price:  -2.19 \n",
      "\n",
      "Tweet:  $AAPL Risk into Earnings Rising Early (pic)data via -> http://bit.ly/lvo_volscan-Option Trading is Volatility Trading\n",
      "anger 43.408695\n",
      "fear 25.292189\n",
      "joy 81.10268\n",
      "love 40.16458\n",
      "sadness 44.04977\n",
      "surprise 18.121368\n",
      "Stock:  AAPL\n",
      "Stock Price:  2.66 \n",
      "\n",
      "Tweet:  Memo to @elonmusk: Blocking me on twitter won't stop the fire. Telsa's accounting will burn like it's cars. $TSLA\n",
      "anger 55.656815\n",
      "fear 49.174965\n",
      "joy 77.583855\n",
      "love 48.66444\n",
      "sadness 72.238846\n",
      "surprise 11.647907\n",
      "Stock:  TSLA\n",
      "Stock Price:  -2.19 \n",
      "\n",
      "Tweet:  Memo to @elonmusk: Thank's for the trophy! Get a fire extinguisher ready when Tesla's accounting catches fire. $TSLA\n",
      "anger 33.03373\n",
      "fear 19.752697\n",
      "joy 85.13643\n",
      "love 59.474255\n",
      "sadness 60.119884\n",
      "surprise 13.0053\n",
      "Stock:  TSLA\n",
      "Stock Price:  -2.19 \n",
      "\n",
      "Tweet:  .@Microsoft to eliminate original #Kinect for @Windows in 2015 $MSFT http://tweaktown.to/1tubVm9\n",
      "anger 42.85708\n",
      "fear 23.242716\n",
      "joy 80.042854\n",
      "love 30.024702\n",
      "sadness 47.487225\n",
      "surprise 17.054108\n",
      "Stock:  MSFT\n",
      "Stock Price:  0.84 \n",
      "\n",
      "Tweet:  Today's apps gone free: Decide Now, OftenType, Billing Hours and more http://dlvr.it/7zpPzM #AppAdvice $AAPL\n",
      "anger 33.558228\n",
      "fear 16.41982\n",
      "joy 94.49\n",
      "love 45.643913\n",
      "sadness 41.865517\n",
      "surprise 12.838914\n",
      "Stock:  AAPL\n",
      "Stock Price:  2.66 \n",
      "\n",
      "Tweet:  @SamAntar$TSLA does a lot of things to manipulate its income statement, moving expenses from COGS to SGAA,then boasting about gross margins\n",
      "anger 64.23599\n",
      "fear 38.616108\n",
      "joy 79.90153\n",
      "love 32.804398\n",
      "sadness 49.70575\n",
      "surprise 19.714994\n",
      "Stock:  TSLA\n",
      "Stock Price:  -2.19 \n",
      "\n",
      "Tweet:  Long BlackBerry, Short Apple Again In 2015 http://seekingalpha.com/article/2791175-long-blackberry-short-apple-again-in-2015?source=feed_f… $AAPL #APPLE $BBRY\n",
      "anger 32.943077\n",
      "fear 25.181553\n",
      "joy 85.24883\n",
      "love 32.492966\n",
      "sadness 31.410376\n",
      "surprise 17.664669\n",
      "Stock:  AAPL\n",
      "Stock Price:  2.66 \n",
      "\n",
      "Tweet:  We're shocked, shocked! that Samsung might try to copy something $AAPL's done. Rumored Apple Pay rival: http://mot.ly/1zrsYav\n",
      "anger 27.332676\n",
      "fear 42.51687\n",
      "joy 75.26977\n",
      "love 21.189114\n",
      "sadness 37.8985\n",
      "surprise 28.866695\n",
      "Stock:  AAPL\n",
      "Stock Price:  2.66 \n",
      "\n",
      "Tweet:  $aapl could be a problem sitting on support that 110 breakdown is big area\n",
      "anger 61.487953\n",
      "fear 42.73766\n",
      "joy 63.42023\n",
      "love 20.397545\n",
      "sadness 63.98167\n",
      "surprise 13.175352\n",
      "Stock:  AAPL\n",
      "Stock Price:  2.66 \n",
      "\n",
      "Tweet:  4 Value Stocks For 2015 http://seekingalpha.com/article/2792425-4-value-stocks-for-2015?source=feed_f… $AAPL #APPLE $ALU $EXPE $KORS $PCLN $QCOM $QIHU $RAD $RH $S $XPO\n",
      "anger 39.08378\n",
      "fear 20.824389\n",
      "joy 86.57078\n",
      "love 35.39379\n",
      "sadness 32.238884\n",
      "surprise 15.7593565\n",
      "Stock:  AAPL\n",
      "Stock Price:  2.66 \n",
      "\n",
      "Tweet:  New hed, same story: The Apple press goes off half-cocked. Again.  http://fortune.com/2015/01/01/did-samsung-really-overtake-apple-in-consumer-satisfaction/… $AAPL\n",
      "anger 49.990494\n",
      "fear 30.2135\n",
      "joy 79.04512\n",
      "love 22.442493\n",
      "sadness 28.58828\n",
      "surprise 23.734388\n",
      "Stock:  AAPL\n",
      "Stock Price:  2.66 \n",
      "\n",
      "Tweet:  See how tech companies like Apple, Twitter and Facebook rank in terms of diversity: http://on.wsj.com/1CTSFXQ $AAPL $FB\n",
      "anger 31.370779\n",
      "fear 18.300108\n",
      "joy 90.40976\n",
      "love 38.612503\n",
      "sadness 44.813663\n",
      "surprise 17.289244\n",
      "Stock:  AAPL\n",
      "Stock Price:  2.66 \n",
      "\n",
      "Tweet:  This is Wall Street's top pick in 2015. Hint: it's NOT $AAPL or $GOOGL » http://cnb.cx/1xsBWIT\n",
      "anger 33.77591\n",
      "fear 12.876375\n",
      "joy 94.538536\n",
      "love 37.262367\n",
      "sadness 23.28448\n",
      "surprise 16.374435\n",
      "Stock:  AAPL\n",
      "Stock Price:  2.66 \n",
      "\n",
      "Tweet:  video going out . happy new year . talking $aapl $gpro $loco $ndrm etc . New year . same process http://stks.co/j1VD3\n",
      "anger 30.227041\n",
      "fear 15.921797\n",
      "joy 92.44187\n",
      "love 58.458622\n",
      "sadness 47.602066\n",
      "surprise 6.110602\n",
      "Stock:  AAPL\n",
      "Stock Price:  2.66 \n",
      "\n",
      "Tweet:  #bluechips like $TSLA, $AAPL, $DIS, $TWTR & NVO are great investments for your grandpa. I'll stick to $ECIG, $GWPH, and $ERBB, etc.\n",
      "anger 40.375248\n",
      "fear 19.385769\n",
      "joy 91.69662\n",
      "love 53.564877\n",
      "sadness 32.946415\n",
      "surprise 13.263279\n",
      "Stock:  AAPL\n",
      "Stock Price:  2.66 \n",
      "\n",
      "Tweet:  #bluechips like $TSLA, $AAPL, $DIS, $TWTR & NVO are great investments for your grandpa. I'll stick to $ECIG, $GWPH, and $ERBB, etc.\n",
      "anger 40.375248\n",
      "fear 19.385769\n",
      "joy 91.69662\n",
      "love 53.564877\n",
      "sadness 32.946415\n",
      "surprise 13.263279\n",
      "Stock:  TSLA\n",
      "Stock Price:  -2.19 \n",
      "\n",
      "Tweet:  An $AAPL store line in Sapporo Japan for the \"Lucky Bag\"Pic from @buckedplatypus ht @ifostore https://pic.twitter.com/iUrLSc4SEk\n",
      "anger 41.320404\n",
      "fear 25.646624\n",
      "joy 86.17866\n",
      "love 36.92571\n",
      "sadness 40.419624\n",
      "surprise 18.472313\n",
      "Stock:  AAPL\n",
      "Stock Price:  2.66 \n",
      "\n"
     ]
    }
   ],
   "source": [
    "count = 0\n",
    "for i in validation:\n",
    "    print('Tweet: ', body[count])\n",
    "    for key,value in zip(encoded_dict.keys(), i):\n",
    "        print(key,value)\n",
    "    print('Stock: ', ticker[count])\n",
    "    print('Stock Price: ', stock_price[count], '\\n')\n",
    "    count+=1"
   ]
  }
 ],
 "metadata": {
  "interpreter": {
   "hash": "95b985441b0915b098fa7606d9deea4e6affe58cf138cd759cc66322eb5e2916"
  },
  "kernelspec": {
   "display_name": "Python 3.9.16 ('base')",
   "language": "python",
   "name": "python3"
  },
  "language_info": {
   "codemirror_mode": {
    "name": "ipython",
    "version": 3
   },
   "file_extension": ".py",
   "mimetype": "text/x-python",
   "name": "python",
   "nbconvert_exporter": "python",
   "pygments_lexer": "ipython3",
   "version": "3.9.16"
  },
  "orig_nbformat": 4
 },
 "nbformat": 4,
 "nbformat_minor": 2
}
